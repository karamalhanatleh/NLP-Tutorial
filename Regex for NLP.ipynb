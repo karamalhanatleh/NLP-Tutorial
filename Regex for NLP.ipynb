{
 "cells": [
  {
   "cell_type": "markdown",
   "id": "a5a213a0",
   "metadata": {},
   "source": [
    "# Regex for NLP"
   ]
  },
  {
   "cell_type": "code",
   "execution_count": 1,
   "id": "8f345083",
   "metadata": {},
   "outputs": [],
   "source": [
    "#import paskages\n",
    "import re"
   ]
  },
  {
   "cell_type": "code",
   "execution_count": 79,
   "id": "9bd403b7",
   "metadata": {},
   "outputs": [],
   "source": [
    "chat1 ='codebasics: you ask lot of questions 😠 1235678912, abcA@xyz.com, 9998881234'\n",
    "chat2 = 'codebasics: here it is: (123)-567-8912, abX_82@xyz.com'\n",
    "chat3 = 'codebasics: yes, phone: 1235678912 email: abc@xyz.io '"
   ]
  },
  {
   "cell_type": "code",
   "execution_count": null,
   "id": "f7c917be",
   "metadata": {},
   "outputs": [],
   "source": []
  },
  {
   "cell_type": "code",
   "execution_count": 80,
   "id": "674ac192",
   "metadata": {},
   "outputs": [
    {
     "data": {
      "text/plain": [
       "['1',\n",
       " '2',\n",
       " '3',\n",
       " '5',\n",
       " '6',\n",
       " '7',\n",
       " '8',\n",
       " '9',\n",
       " '1',\n",
       " '2',\n",
       " '9',\n",
       " '9',\n",
       " '9',\n",
       " '8',\n",
       " '8',\n",
       " '8',\n",
       " '1',\n",
       " '2',\n",
       " '3',\n",
       " '4']"
      ]
     },
     "execution_count": 80,
     "metadata": {},
     "output_type": "execute_result"
    }
   ],
   "source": [
    "pattern=\"\\d\"\n",
    "re.findall(pattern , chat1)"
   ]
  },
  {
   "cell_type": "code",
   "execution_count": 81,
   "id": "b7fe8aaa",
   "metadata": {},
   "outputs": [
    {
     "data": {
      "text/plain": [
       "['1235678912', '9998881234']"
      ]
     },
     "execution_count": 81,
     "metadata": {},
     "output_type": "execute_result"
    }
   ],
   "source": [
    "pattern=\"\\d{10}\"\n",
    "re.findall(pattern , chat1)"
   ]
  },
  {
   "cell_type": "code",
   "execution_count": 82,
   "id": "8ad3f8e9",
   "metadata": {},
   "outputs": [
    {
     "data": {
      "text/plain": [
       "[]"
      ]
     },
     "execution_count": 82,
     "metadata": {},
     "output_type": "execute_result"
    }
   ],
   "source": [
    "pattern=\"\\d{10}\"\n",
    "re.findall(pattern , chat2)"
   ]
  },
  {
   "cell_type": "code",
   "execution_count": 83,
   "id": "28fa4d71",
   "metadata": {},
   "outputs": [
    {
     "data": {
      "text/plain": [
       "['(123)']"
      ]
     },
     "execution_count": 83,
     "metadata": {},
     "output_type": "execute_result"
    }
   ],
   "source": [
    "pattern=\"\\(\\d{3}\\)\"\n",
    "re.findall(pattern , chat2)"
   ]
  },
  {
   "cell_type": "code",
   "execution_count": 111,
   "id": "8add12f7",
   "metadata": {},
   "outputs": [],
   "source": [
    "def re_find(pattern):\n",
    "    print(\"Chat1:  \",re.findall(pattern , chat1))\n",
    "    print(\"Chat2:  \",re.findall(pattern , chat2))\n",
    "    print(\"Chat3:  \",re.findall(pattern , chat3))\n"
   ]
  },
  {
   "cell_type": "code",
   "execution_count": 85,
   "id": "f265ce05",
   "metadata": {},
   "outputs": [
    {
     "name": "stdout",
     "output_type": "stream",
     "text": [
      "codebasics: you ask lot of questions 😠 1235678912, abcA@xyz.com, 9998881234\n",
      "codebasics: here it is: (123)-567-8912, abX_82@xyz.com\n",
      "codebasics: yes, phone: 1235678912 email: abc@xyz.io \n"
     ]
    }
   ],
   "source": [
    "def get():\n",
    "    print(chat1)\n",
    "    print(chat2)\n",
    "    print(chat3)\n",
    "get()"
   ]
  },
  {
   "cell_type": "code",
   "execution_count": 86,
   "id": "d46937f2",
   "metadata": {},
   "outputs": [
    {
     "name": "stdout",
     "output_type": "stream",
     "text": [
      "Chat1:   []\n",
      "Chat2:   ['(123)']\n",
      "Chat3:   []\n"
     ]
    }
   ],
   "source": [
    "pattern=\"\\(\\d{3}\\)\"\n",
    "re_find(pattern)"
   ]
  },
  {
   "cell_type": "code",
   "execution_count": null,
   "id": "ce6c9c1b",
   "metadata": {},
   "outputs": [],
   "source": []
  },
  {
   "cell_type": "code",
   "execution_count": 87,
   "id": "7d062d0f",
   "metadata": {
    "scrolled": true
   },
   "outputs": [
    {
     "name": "stdout",
     "output_type": "stream",
     "text": [
      "Chat1:   []\n",
      "Chat2:   ['(123)-567-8912']\n",
      "Chat3:   []\n"
     ]
    }
   ],
   "source": [
    "pattern=\"\\(\\d{3}\\)-\\d{3}-\\d{4}\"\n",
    "re_find(pattern)"
   ]
  },
  {
   "cell_type": "code",
   "execution_count": null,
   "id": "4a31f4e3",
   "metadata": {},
   "outputs": [],
   "source": []
  },
  {
   "cell_type": "code",
   "execution_count": null,
   "id": "ba1bbd69",
   "metadata": {},
   "outputs": [],
   "source": []
  },
  {
   "cell_type": "code",
   "execution_count": 88,
   "id": "e4483ecd",
   "metadata": {
    "scrolled": true
   },
   "outputs": [
    {
     "name": "stdout",
     "output_type": "stream",
     "text": [
      "Chat1:   []\n",
      "Chat2:   []\n",
      "Chat3:   ['c@']\n"
     ]
    }
   ],
   "source": [
    "pattern=\"[a-z]@\"\n",
    "re_find(pattern)"
   ]
  },
  {
   "cell_type": "code",
   "execution_count": 89,
   "id": "c8f936fe",
   "metadata": {
    "scrolled": true
   },
   "outputs": [
    {
     "name": "stdout",
     "output_type": "stream",
     "text": [
      "Chat1:   []\n",
      "Chat2:   ['2@']\n",
      "Chat3:   ['c@']\n"
     ]
    }
   ],
   "source": [
    "pattern=\"[a-z0-9]@\"\n",
    "re_find(pattern)"
   ]
  },
  {
   "cell_type": "code",
   "execution_count": 90,
   "id": "a048dcc7",
   "metadata": {
    "scrolled": true
   },
   "outputs": [
    {
     "name": "stdout",
     "output_type": "stream",
     "text": [
      "Chat1:   ['@']\n",
      "Chat2:   ['82@']\n",
      "Chat3:   ['abc@']\n"
     ]
    }
   ],
   "source": [
    "pattern=\"[a-z0-9]*@\"\n",
    "re_find(pattern)"
   ]
  },
  {
   "cell_type": "code",
   "execution_count": 91,
   "id": "b763ec25",
   "metadata": {
    "scrolled": true
   },
   "outputs": [
    {
     "name": "stdout",
     "output_type": "stream",
     "text": [
      "Chat1:   ['abcA@']\n",
      "Chat2:   ['82@']\n",
      "Chat3:   ['abc@']\n"
     ]
    }
   ],
   "source": [
    "pattern=\"[a-z0-9A-Z]*@\"\n",
    "re_find(pattern)"
   ]
  },
  {
   "cell_type": "code",
   "execution_count": 92,
   "id": "1e1ca4fc",
   "metadata": {},
   "outputs": [
    {
     "name": "stdout",
     "output_type": "stream",
     "text": [
      "codebasics: you ask lot of questions 😠 1235678912, abcA@xyz.com, 9998881234\n",
      "codebasics: here it is: (123)-567-8912, abX_82@xyz.com\n",
      "codebasics: yes, phone: 1235678912 email: abc@xyz.io \n"
     ]
    }
   ],
   "source": [
    "get()"
   ]
  },
  {
   "cell_type": "code",
   "execution_count": null,
   "id": "e2016dff",
   "metadata": {},
   "outputs": [],
   "source": []
  },
  {
   "cell_type": "code",
   "execution_count": 93,
   "id": "4c4b4bcb",
   "metadata": {
    "scrolled": false
   },
   "outputs": [
    {
     "name": "stdout",
     "output_type": "stream",
     "text": [
      "Chat1:   ['abcA@']\n",
      "Chat2:   ['abX_82@']\n",
      "Chat3:   ['abc@']\n"
     ]
    }
   ],
   "source": [
    "pattern=\"[a-z0-9A-Z_]*@\"\n",
    "re_find(pattern)"
   ]
  },
  {
   "cell_type": "code",
   "execution_count": 94,
   "id": "4d5a28b8",
   "metadata": {
    "scrolled": false
   },
   "outputs": [
    {
     "name": "stdout",
     "output_type": "stream",
     "text": [
      "Chat1:   ['abcA@xyz']\n",
      "Chat2:   ['abX_82@xyz']\n",
      "Chat3:   ['abc@xyz']\n"
     ]
    }
   ],
   "source": [
    "pattern=\"[a-z0-9A-Z_]*@[a-z0-9A-Z]*\"\n",
    "re_find(pattern)"
   ]
  },
  {
   "cell_type": "code",
   "execution_count": 95,
   "id": "4791cd93",
   "metadata": {
    "scrolled": false
   },
   "outputs": [
    {
     "name": "stdout",
     "output_type": "stream",
     "text": [
      "Chat1:   ['c', 'o', 'd', 'e', 'b', 'a', 's', 'i', 'c', 's', ':', ' ', 'y', 'o', 'u', ' ', 'a', 's', 'k', ' ', 'l', 'o', 't', ' ', 'o', 'f', ' ', 'q', 'u', 'e', 's', 't', 'i', 'o', 'n', 's', ' ', '😠', ' ', '1', '2', '3', '5', '6', '7', '8', '9', '1', '2', ',', ' ', 'a', 'b', 'c', 'A', '@', 'x', 'y', 'z', '.', 'c', 'o', 'm', ',', ' ', '9', '9', '9', '8', '8', '8', '1', '2', '3', '4']\n",
      "Chat2:   ['c', 'o', 'd', 'e', 'b', 'a', 's', 'i', 'c', 's', ':', ' ', 'h', 'e', 'r', 'e', ' ', 'i', 't', ' ', 'i', 's', ':', ' ', '(', '1', '2', '3', ')', '-', '5', '6', '7', '-', '8', '9', '1', '2', ',', ' ', 'a', 'b', 'X', '_', '8', '2', '@', 'x', 'y', 'z', '.', 'c', 'o', 'm']\n",
      "Chat3:   ['c', 'o', 'd', 'e', 'b', 'a', 's', 'i', 'c', 's', ':', ' ', 'y', 'e', 's', ',', ' ', 'p', 'h', 'o', 'n', 'e', ':', ' ', '1', '2', '3', '5', '6', '7', '8', '9', '1', '2', ' ', 'e', 'm', 'a', 'i', 'l', ':', ' ', 'a', 'b', 'c', '@', 'x', 'y', 'z', '.', 'i', 'o', ' ']\n"
     ]
    }
   ],
   "source": [
    "pattern=\".\"\n",
    "re_find(pattern)"
   ]
  },
  {
   "cell_type": "code",
   "execution_count": 96,
   "id": "25a1c32b",
   "metadata": {
    "scrolled": false
   },
   "outputs": [
    {
     "name": "stdout",
     "output_type": "stream",
     "text": [
      "Chat1:   ['abcA@xyz.']\n",
      "Chat2:   ['abX_82@xyz.']\n",
      "Chat3:   ['abc@xyz.']\n"
     ]
    }
   ],
   "source": [
    "pattern=\"[a-z0-9A-Z_]*@[a-z0-9A-Z]*\\.\"\n",
    "re_find(pattern)"
   ]
  },
  {
   "cell_type": "code",
   "execution_count": 97,
   "id": "82f95391",
   "metadata": {
    "scrolled": false
   },
   "outputs": [
    {
     "name": "stdout",
     "output_type": "stream",
     "text": [
      "Chat1:   ['abcA@xyz.com']\n",
      "Chat2:   ['abX_82@xyz.com']\n",
      "Chat3:   []\n"
     ]
    }
   ],
   "source": [
    "pattern=\"[a-z0-9A-Z_]*@[a-z0-9A-Z]*\\.com\"\n",
    "re_find(pattern)"
   ]
  },
  {
   "cell_type": "code",
   "execution_count": 98,
   "id": "e8ea5bde",
   "metadata": {
    "scrolled": false
   },
   "outputs": [
    {
     "name": "stdout",
     "output_type": "stream",
     "text": [
      "Chat1:   ['abcA@xyz.com']\n",
      "Chat2:   ['abX_82@xyz.com']\n",
      "Chat3:   ['abc@xyz.io']\n"
     ]
    }
   ],
   "source": [
    "pattern=\"[a-z0-9A-Z_]*@[a-z0-9A-Z_]*\\.[A-Za-z]*\"\n",
    "re_find(pattern)"
   ]
  },
  {
   "cell_type": "code",
   "execution_count": null,
   "id": "858faede",
   "metadata": {},
   "outputs": [],
   "source": []
  },
  {
   "cell_type": "code",
   "execution_count": 99,
   "id": "dae8e1d8",
   "metadata": {},
   "outputs": [],
   "source": [
    "############################"
   ]
  },
  {
   "cell_type": "code",
   "execution_count": 102,
   "id": "cd6e6aee",
   "metadata": {},
   "outputs": [],
   "source": [
    "chat1='codebasics: Hello, I am having an issue with my order # 412889912' \n",
    "chat2='codebasics: I have a problem with my order number 412889912'\n",
    "chat3='codebasics: My order 412889912 is having an issue, I was charged 300$ when online it says 280$'"
   ]
  },
  {
   "cell_type": "code",
   "execution_count": 106,
   "id": "43bc496b",
   "metadata": {},
   "outputs": [
    {
     "name": "stdout",
     "output_type": "stream",
     "text": [
      "codebasics: Hello, I am having an issue with my order # 412889912\n",
      "codebasics: I have a problem with my order number 412889912\n",
      "codebasics: My order 412889912 is having an issue, I was charged 300$ when online it says 280$\n"
     ]
    }
   ],
   "source": [
    "def get():\n",
    "    print(chat1)\n",
    "    print(chat2)\n",
    "    print(chat3)\n",
    "get()"
   ]
  },
  {
   "cell_type": "code",
   "execution_count": 112,
   "id": "4ee953e6",
   "metadata": {},
   "outputs": [
    {
     "data": {
      "text/plain": [
       "['order ']"
      ]
     },
     "execution_count": 112,
     "metadata": {},
     "output_type": "execute_result"
    }
   ],
   "source": [
    "pattern=\"order[^\\d]\"\n",
    "re.findall(pattern,chat3)"
   ]
  },
  {
   "cell_type": "code",
   "execution_count": 113,
   "id": "a1476703",
   "metadata": {},
   "outputs": [
    {
     "name": "stdout",
     "output_type": "stream",
     "text": [
      "Chat1:   ['order ']\n",
      "Chat2:   ['order ']\n",
      "Chat3:   ['order ']\n"
     ]
    }
   ],
   "source": [
    "pattern=\"order[^\\d]\"\n",
    "\n",
    "re_find(pattern)"
   ]
  },
  {
   "cell_type": "code",
   "execution_count": 116,
   "id": "06f2de16",
   "metadata": {},
   "outputs": [
    {
     "name": "stdout",
     "output_type": "stream",
     "text": [
      "Chat1:   ['order # 412889912']\n",
      "Chat2:   ['order number 412889912']\n",
      "Chat3:   ['order 412889912']\n"
     ]
    }
   ],
   "source": [
    "pattern=\"order[^\\d]*\\d*\"\n",
    "\n",
    "re_find(pattern)"
   ]
  },
  {
   "cell_type": "code",
   "execution_count": 118,
   "id": "e7839748",
   "metadata": {},
   "outputs": [
    {
     "name": "stdout",
     "output_type": "stream",
     "text": [
      "Chat1:   ['412889912']\n",
      "Chat2:   ['412889912']\n",
      "Chat3:   ['412889912']\n"
     ]
    }
   ],
   "source": [
    "pattern=\"order[^\\d]*(\\d*)\"\n",
    "\n",
    "re_find(pattern)"
   ]
  },
  {
   "cell_type": "code",
   "execution_count": null,
   "id": "a182ccb5",
   "metadata": {},
   "outputs": [],
   "source": []
  },
  {
   "cell_type": "code",
   "execution_count": 119,
   "id": "ac24f6e2",
   "metadata": {},
   "outputs": [],
   "source": [
    "######################################"
   ]
  },
  {
   "cell_type": "code",
   "execution_count": 121,
   "id": "75886788",
   "metadata": {},
   "outputs": [],
   "source": [
    "text='''\n",
    "Born\tElon Reeve Musk\n",
    "June 28, 1971 (age 52)\n",
    "Pretoria, Transvaal, South Africa\n",
    "Citizenship\t\n",
    "South Africa\n",
    "Canada\n",
    "United States\n",
    "Education\tUniversity of Pennsylvania (BA, BS)\n",
    "Title\t\n",
    "Founder, CEO, and chief engineer of SpaceX\n",
    "CEO and product architect of Tesla, Inc.\n",
    "Owner and CTO of X, formerly Twitter\n",
    "President of the Musk Foundation\n",
    "Founder of The Boring Company, X Corp., and xAI\n",
    "Co-founder of Neuralink, OpenAI, Zip2, and X.com (part of PayPal)\n",
    "Spouses\t\n",
    "Justine Wilson\n",
    "​\n",
    "​(m. 2000; div. 2008)​\n",
    "Talulah Riley\n",
    "​\n",
    "​(m. 2010; div. 2012)​\n",
    "​\n",
    "​(m. 2013; div. 2016)\n",
    "'''"
   ]
  },
  {
   "cell_type": "code",
   "execution_count": 131,
   "id": "1c54e8a0",
   "metadata": {},
   "outputs": [
    {
     "data": {
      "text/plain": [
       "['age 52']"
      ]
     },
     "execution_count": 131,
     "metadata": {},
     "output_type": "execute_result"
    }
   ],
   "source": [
    "#get age from text\n",
    "pattern=\"age \\d+\"\n",
    "re.findall(pattern,text)"
   ]
  },
  {
   "cell_type": "code",
   "execution_count": 130,
   "id": "169cdfc4",
   "metadata": {},
   "outputs": [
    {
     "data": {
      "text/plain": [
       "['52']"
      ]
     },
     "execution_count": 130,
     "metadata": {},
     "output_type": "execute_result"
    }
   ],
   "source": [
    "pattern=\"age (\\d+)\"\n",
    "re.findall(pattern,text)"
   ]
  },
  {
   "cell_type": "code",
   "execution_count": null,
   "id": "5907df49",
   "metadata": {},
   "outputs": [],
   "source": []
  },
  {
   "cell_type": "code",
   "execution_count": 136,
   "id": "4529b12a",
   "metadata": {},
   "outputs": [
    {
     "data": {
      "text/plain": [
       "['\\tElon Reeve Musk']"
      ]
     },
     "execution_count": 136,
     "metadata": {},
     "output_type": "execute_result"
    }
   ],
   "source": [
    "#get name from text\n",
    "pattern=\"Born(.*)\"\n",
    "matches =re.findall(pattern,text)\n",
    "matches"
   ]
  },
  {
   "cell_type": "code",
   "execution_count": 138,
   "id": "d51a9bfb",
   "metadata": {},
   "outputs": [
    {
     "data": {
      "text/plain": [
       "'Elon Reeve Musk'"
      ]
     },
     "execution_count": 138,
     "metadata": {},
     "output_type": "execute_result"
    }
   ],
   "source": [
    "#get name from text\n",
    "pattern=\"Born(.*)\"\n",
    "matches =re.findall(pattern,text)\n",
    "matches[0].strip()"
   ]
  },
  {
   "cell_type": "code",
   "execution_count": 139,
   "id": "c1313daa",
   "metadata": {},
   "outputs": [
    {
     "data": {
      "text/plain": [
       "'June 28, 1971'"
      ]
     },
     "execution_count": 139,
     "metadata": {},
     "output_type": "execute_result"
    }
   ],
   "source": [
    "#get BD from text\n",
    "pattern=\"Born.*\\n(.*)\\(age\"\n",
    "matches =re.findall(pattern,text)\n",
    "matches[0].strip()"
   ]
  },
  {
   "cell_type": "code",
   "execution_count": 141,
   "id": "119000cb",
   "metadata": {},
   "outputs": [
    {
     "data": {
      "text/plain": [
       "'Pretoria, Transvaal, South Africa'"
      ]
     },
     "execution_count": 141,
     "metadata": {},
     "output_type": "execute_result"
    }
   ],
   "source": [
    "#get place of birth from text\n",
    "pattern=\"\\(age.*\\n(.*)\"\n",
    "matches =re.findall(pattern,text)\n",
    "matches[0].strip()"
   ]
  },
  {
   "cell_type": "code",
   "execution_count": null,
   "id": "681bb379",
   "metadata": {},
   "outputs": [],
   "source": []
  },
  {
   "cell_type": "code",
   "execution_count": 142,
   "id": "bb7467ed",
   "metadata": {},
   "outputs": [],
   "source": [
    "def get_pattern_match(pattern , text):\n",
    "    matches = re.findall(pattern , text)\n",
    "    if matches:\n",
    "        return matches[0]"
   ]
  },
  {
   "cell_type": "code",
   "execution_count": 143,
   "id": "9b4c8a15",
   "metadata": {},
   "outputs": [
    {
     "data": {
      "text/plain": [
       "'Pretoria, Transvaal, South Africa'"
      ]
     },
     "execution_count": 143,
     "metadata": {},
     "output_type": "execute_result"
    }
   ],
   "source": [
    "\n",
    "pattern=\"\\(age.*\\n(.*)\"\n",
    "get_pattern_match(pattern,text)"
   ]
  },
  {
   "cell_type": "code",
   "execution_count": null,
   "id": "b1d28f3b",
   "metadata": {},
   "outputs": [],
   "source": []
  },
  {
   "cell_type": "code",
   "execution_count": null,
   "id": "7eeaf6cf",
   "metadata": {},
   "outputs": [],
   "source": []
  },
  {
   "cell_type": "code",
   "execution_count": null,
   "id": "b86b8b53",
   "metadata": {},
   "outputs": [],
   "source": []
  },
  {
   "cell_type": "code",
   "execution_count": null,
   "id": "9956f922",
   "metadata": {},
   "outputs": [],
   "source": []
  },
  {
   "cell_type": "code",
   "execution_count": null,
   "id": "d46d6d43",
   "metadata": {},
   "outputs": [],
   "source": []
  },
  {
   "cell_type": "code",
   "execution_count": null,
   "id": "7b77288c",
   "metadata": {},
   "outputs": [],
   "source": []
  }
 ],
 "metadata": {
  "kernelspec": {
   "display_name": "Python 3 (ipykernel)",
   "language": "python",
   "name": "python3"
  },
  "language_info": {
   "codemirror_mode": {
    "name": "ipython",
    "version": 3
   },
   "file_extension": ".py",
   "mimetype": "text/x-python",
   "name": "python",
   "nbconvert_exporter": "python",
   "pygments_lexer": "ipython3",
   "version": "3.9.13"
  }
 },
 "nbformat": 4,
 "nbformat_minor": 5
}
