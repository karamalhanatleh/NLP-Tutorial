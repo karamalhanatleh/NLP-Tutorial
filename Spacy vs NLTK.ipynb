{
 "cells": [
  {
   "cell_type": "markdown",
   "id": "687ca382",
   "metadata": {},
   "source": [
    "# Spacy vs NLTK"
   ]
  },
  {
   "cell_type": "code",
   "execution_count": 1,
   "id": "cbbbf2e4",
   "metadata": {},
   "outputs": [
    {
     "name": "stderr",
     "output_type": "stream",
     "text": [
      "[nltk_data] Downloading package punkt to\n",
      "[nltk_data]     C:\\Users\\DELL\\AppData\\Roaming\\nltk_data...\n",
      "[nltk_data]   Package punkt is already up-to-date!\n"
     ]
    },
    {
     "data": {
      "text/plain": [
       "True"
      ]
     },
     "execution_count": 1,
     "metadata": {},
     "output_type": "execute_result"
    }
   ],
   "source": [
    "#import paskages \n",
    "import spacy\n",
    "import nltk\n",
    "from nltk.tokenize import sent_tokenize\n",
    "from nltk.tokenize import word_tokenize\n",
    "\n",
    "#nltk.download() #open window all NlTK \n",
    "nltk.download(\"punkt\")\n"
   ]
  },
  {
   "cell_type": "markdown",
   "id": "1cf6ef5b",
   "metadata": {},
   "source": [
    "## Spacy"
   ]
  },
  {
   "cell_type": "markdown",
   "id": "2d924d22",
   "metadata": {},
   "source": [
    "Spacy is object Oriented"
   ]
  },
  {
   "cell_type": "markdown",
   "id": "a11cfbc2",
   "metadata": {},
   "source": [
    "###### Tokenization in library  SpaCy"
   ]
  },
  {
   "cell_type": "code",
   "execution_count": 2,
   "id": "2bf58369",
   "metadata": {},
   "outputs": [],
   "source": [
    "# Load English language model from spaCy\n",
    "\n",
    "nlp = spacy.load('en_core_web_sm')"
   ]
  },
  {
   "cell_type": "code",
   "execution_count": 3,
   "id": "ebec6f04",
   "metadata": {},
   "outputs": [],
   "source": [
    "# Process the text using spaCy\n",
    "doc=nlp(\"Dr. Khaled love pav bhaji of jordan. Ali loves chaat of Iraq\")"
   ]
  },
  {
   "cell_type": "code",
   "execution_count": 4,
   "id": "1628a868",
   "metadata": {},
   "outputs": [
    {
     "name": "stdout",
     "output_type": "stream",
     "text": [
      "Dr. Khaled love pav bhaji of jordan.\n",
      "Ali loves chaat of Iraq\n"
     ]
    }
   ],
   "source": [
    "for sentence in doc.sents:\n",
    "    print(sentence)"
   ]
  },
  {
   "cell_type": "code",
   "execution_count": 5,
   "id": "20c1f62c",
   "metadata": {},
   "outputs": [
    {
     "name": "stdout",
     "output_type": "stream",
     "text": [
      "Dr.\n",
      "Khaled\n",
      "love\n",
      "pav\n",
      "bhaji\n",
      "of\n",
      "jordan\n",
      ".\n",
      "Ali\n",
      "loves\n",
      "chaat\n",
      "of\n",
      "Iraq\n"
     ]
    }
   ],
   "source": [
    "#print words seprate\n",
    "for sentence in doc.sents:\n",
    "    for word in sentence:\n",
    "        print(word)"
   ]
  },
  {
   "cell_type": "code",
   "execution_count": 6,
   "id": "3b729183",
   "metadata": {},
   "outputs": [
    {
     "name": "stdout",
     "output_type": "stream",
     "text": [
      "i live in jordan .\n",
      "omar eat an apple .\n",
      "ali like to car red\n"
     ]
    }
   ],
   "source": [
    "#ex2 \n",
    "doc2= nlp(\"i live in jordan . omar eat an apple . ali like to car red\")\n",
    "for sentence in doc2.sents:\n",
    "    print(sentence)"
   ]
  },
  {
   "cell_type": "code",
   "execution_count": 7,
   "id": "bfea2177",
   "metadata": {},
   "outputs": [
    {
     "name": "stdout",
     "output_type": "stream",
     "text": [
      "Dr.\n",
      "Khaled\n",
      "love\n",
      "pav\n",
      "bhaji\n",
      "of\n",
      "jordan\n",
      ".\n",
      "Ali\n",
      "loves\n",
      "chaat\n",
      "of\n",
      "Iraq\n"
     ]
    }
   ],
   "source": [
    "# Iterate over sentences in the processed document\n",
    "for sentence in doc.sents:\n",
    "    # Iterate over tokens in the sentence\n",
    "    for token in sentence:\n",
    "        # Print the text of each token (word)\n",
    "        print(token)"
   ]
  },
  {
   "cell_type": "code",
   "execution_count": null,
   "id": "09fc7f13",
   "metadata": {},
   "outputs": [],
   "source": []
  },
  {
   "cell_type": "code",
   "execution_count": 8,
   "id": "8afcd242",
   "metadata": {},
   "outputs": [],
   "source": [
    "###########################################"
   ]
  },
  {
   "cell_type": "markdown",
   "id": "5074cfde",
   "metadata": {},
   "source": [
    "## NLTK"
   ]
  },
  {
   "cell_type": "markdown",
   "id": "a26af984",
   "metadata": {},
   "source": [
    "NLTK is mainly a string processing library"
   ]
  },
  {
   "cell_type": "code",
   "execution_count": 9,
   "id": "07c2431f",
   "metadata": {},
   "outputs": [
    {
     "data": {
      "text/plain": [
       "['Dr. Khaled love pav bhaji of jordan.', 'Ali loves chaat of Iraq']"
      ]
     },
     "execution_count": 9,
     "metadata": {},
     "output_type": "execute_result"
    }
   ],
   "source": [
    "# Tokenize the text into sentences\n",
    "\n",
    "sent_tokenize(\"Dr. Khaled love pav bhaji of jordan. Ali loves chaat of Iraq\")"
   ]
  },
  {
   "cell_type": "code",
   "execution_count": 10,
   "id": "66d67480",
   "metadata": {},
   "outputs": [
    {
     "data": {
      "text/plain": [
       "['i live in jordan .', 'omar eat an apple .', 'ali like to car red']"
      ]
     },
     "execution_count": 10,
     "metadata": {},
     "output_type": "execute_result"
    }
   ],
   "source": [
    "# Tokenize the text into sentences\n",
    "\n",
    "sent_tokenize(\"i live in jordan . omar eat an apple . ali like to car red\")"
   ]
  },
  {
   "cell_type": "code",
   "execution_count": 11,
   "id": "63e95319",
   "metadata": {},
   "outputs": [
    {
     "data": {
      "text/plain": [
       "['Dr.',\n",
       " 'Khaled',\n",
       " 'love',\n",
       " 'pav',\n",
       " 'bhaji',\n",
       " 'of',\n",
       " 'jordan',\n",
       " '.',\n",
       " 'Ali',\n",
       " 'loves',\n",
       " 'chaat',\n",
       " 'of',\n",
       " 'Iraq']"
      ]
     },
     "execution_count": 11,
     "metadata": {},
     "output_type": "execute_result"
    }
   ],
   "source": [
    "# Tokenize the text into words\n",
    "\n",
    "word_tokenize(\"Dr. Khaled love pav bhaji of jordan. Ali loves chaat of Iraq\")"
   ]
  },
  {
   "cell_type": "code",
   "execution_count": null,
   "id": "d706e86e",
   "metadata": {},
   "outputs": [],
   "source": []
  },
  {
   "cell_type": "code",
   "execution_count": null,
   "id": "9b0a41a4",
   "metadata": {},
   "outputs": [],
   "source": []
  },
  {
   "cell_type": "code",
   "execution_count": null,
   "id": "d9b028e5",
   "metadata": {},
   "outputs": [],
   "source": []
  }
 ],
 "metadata": {
  "kernelspec": {
   "display_name": "Python 3 (ipykernel)",
   "language": "python",
   "name": "python3"
  },
  "language_info": {
   "codemirror_mode": {
    "name": "ipython",
    "version": 3
   },
   "file_extension": ".py",
   "mimetype": "text/x-python",
   "name": "python",
   "nbconvert_exporter": "python",
   "pygments_lexer": "ipython3",
   "version": "3.9.13"
  }
 },
 "nbformat": 4,
 "nbformat_minor": 5
}
