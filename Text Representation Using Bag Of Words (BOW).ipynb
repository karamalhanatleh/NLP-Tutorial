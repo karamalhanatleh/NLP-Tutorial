{
 "cells": [
  {
   "cell_type": "markdown",
   "id": "bc4d0734",
   "metadata": {},
   "source": [
    "# Text Representation Using Bag Of Words (BOW)"
   ]
  },
  {
   "cell_type": "code",
   "execution_count": 36,
   "id": "c2d45b88",
   "metadata": {},
   "outputs": [],
   "source": [
    "#import paskages \n",
    "import numpy as np\n",
    "import pandas as pd\n",
    "\n",
    "from sklearn.model_selection import train_test_split\n",
    "from sklearn.feature_extraction.text import CountVectorizer #"
   ]
  },
  {
   "cell_type": "code",
   "execution_count": null,
   "id": "4e7ebbff",
   "metadata": {},
   "outputs": [],
   "source": []
  },
  {
   "cell_type": "code",
   "execution_count": 5,
   "id": "300bc09c",
   "metadata": {},
   "outputs": [
    {
     "data": {
      "text/html": [
       "<div>\n",
       "<style scoped>\n",
       "    .dataframe tbody tr th:only-of-type {\n",
       "        vertical-align: middle;\n",
       "    }\n",
       "\n",
       "    .dataframe tbody tr th {\n",
       "        vertical-align: top;\n",
       "    }\n",
       "\n",
       "    .dataframe thead th {\n",
       "        text-align: right;\n",
       "    }\n",
       "</style>\n",
       "<table border=\"1\" class=\"dataframe\">\n",
       "  <thead>\n",
       "    <tr style=\"text-align: right;\">\n",
       "      <th></th>\n",
       "      <th>Category</th>\n",
       "      <th>Message</th>\n",
       "    </tr>\n",
       "  </thead>\n",
       "  <tbody>\n",
       "    <tr>\n",
       "      <th>0</th>\n",
       "      <td>ham</td>\n",
       "      <td>Go until jurong point, crazy.. Available only ...</td>\n",
       "    </tr>\n",
       "    <tr>\n",
       "      <th>1</th>\n",
       "      <td>ham</td>\n",
       "      <td>Ok lar... Joking wif u oni...</td>\n",
       "    </tr>\n",
       "    <tr>\n",
       "      <th>2</th>\n",
       "      <td>spam</td>\n",
       "      <td>Free entry in 2 a wkly comp to win FA Cup fina...</td>\n",
       "    </tr>\n",
       "    <tr>\n",
       "      <th>3</th>\n",
       "      <td>ham</td>\n",
       "      <td>U dun say so early hor... U c already then say...</td>\n",
       "    </tr>\n",
       "    <tr>\n",
       "      <th>4</th>\n",
       "      <td>ham</td>\n",
       "      <td>Nah I don't think he goes to usf, he lives aro...</td>\n",
       "    </tr>\n",
       "  </tbody>\n",
       "</table>\n",
       "</div>"
      ],
      "text/plain": [
       "  Category                                            Message\n",
       "0      ham  Go until jurong point, crazy.. Available only ...\n",
       "1      ham                      Ok lar... Joking wif u oni...\n",
       "2     spam  Free entry in 2 a wkly comp to win FA Cup fina...\n",
       "3      ham  U dun say so early hor... U c already then say...\n",
       "4      ham  Nah I don't think he goes to usf, he lives aro..."
      ]
     },
     "execution_count": 5,
     "metadata": {},
     "output_type": "execute_result"
    }
   ],
   "source": [
    "#LOad Data\n",
    "spam=pd.read_csv(\"data/spam.csv\")\n",
    "spam.head()"
   ]
  },
  {
   "cell_type": "code",
   "execution_count": null,
   "id": "69ff27c7",
   "metadata": {},
   "outputs": [],
   "source": []
  },
  {
   "cell_type": "code",
   "execution_count": 6,
   "id": "9ad945b1",
   "metadata": {},
   "outputs": [
    {
     "data": {
      "text/plain": [
       "ham     4825\n",
       "spam     747\n",
       "Name: Category, dtype: int64"
      ]
     },
     "execution_count": 6,
     "metadata": {},
     "output_type": "execute_result"
    }
   ],
   "source": [
    "#count label target \n",
    "spam.Category.value_counts()"
   ]
  },
  {
   "cell_type": "code",
   "execution_count": null,
   "id": "416bb86c",
   "metadata": {},
   "outputs": [],
   "source": []
  },
  {
   "cell_type": "code",
   "execution_count": 7,
   "id": "edf035c2",
   "metadata": {},
   "outputs": [],
   "source": [
    "#convert labeld ro 1 , 0 \n",
    "spam['spam'] =   spam['Category'].apply(lambda x:1 if x==\"spam\" else 0)"
   ]
  },
  {
   "cell_type": "code",
   "execution_count": 9,
   "id": "e399384f",
   "metadata": {},
   "outputs": [
    {
     "data": {
      "text/plain": [
       "0    4825\n",
       "1     747\n",
       "Name: spam, dtype: int64"
      ]
     },
     "execution_count": 9,
     "metadata": {},
     "output_type": "execute_result"
    }
   ],
   "source": [
    "spam['spam'].value_counts()"
   ]
  },
  {
   "cell_type": "code",
   "execution_count": 12,
   "id": "ec8d3acb",
   "metadata": {},
   "outputs": [
    {
     "data": {
      "text/html": [
       "<div>\n",
       "<style scoped>\n",
       "    .dataframe tbody tr th:only-of-type {\n",
       "        vertical-align: middle;\n",
       "    }\n",
       "\n",
       "    .dataframe tbody tr th {\n",
       "        vertical-align: top;\n",
       "    }\n",
       "\n",
       "    .dataframe thead th {\n",
       "        text-align: right;\n",
       "    }\n",
       "</style>\n",
       "<table border=\"1\" class=\"dataframe\">\n",
       "  <thead>\n",
       "    <tr style=\"text-align: right;\">\n",
       "      <th></th>\n",
       "      <th>Category</th>\n",
       "      <th>Message</th>\n",
       "      <th>spam</th>\n",
       "    </tr>\n",
       "  </thead>\n",
       "  <tbody>\n",
       "    <tr>\n",
       "      <th>0</th>\n",
       "      <td>ham</td>\n",
       "      <td>Go until jurong point, crazy.. Available only ...</td>\n",
       "      <td>0</td>\n",
       "    </tr>\n",
       "    <tr>\n",
       "      <th>1</th>\n",
       "      <td>ham</td>\n",
       "      <td>Ok lar... Joking wif u oni...</td>\n",
       "      <td>0</td>\n",
       "    </tr>\n",
       "    <tr>\n",
       "      <th>2</th>\n",
       "      <td>spam</td>\n",
       "      <td>Free entry in 2 a wkly comp to win FA Cup fina...</td>\n",
       "      <td>1</td>\n",
       "    </tr>\n",
       "    <tr>\n",
       "      <th>3</th>\n",
       "      <td>ham</td>\n",
       "      <td>U dun say so early hor... U c already then say...</td>\n",
       "      <td>0</td>\n",
       "    </tr>\n",
       "    <tr>\n",
       "      <th>4</th>\n",
       "      <td>ham</td>\n",
       "      <td>Nah I don't think he goes to usf, he lives aro...</td>\n",
       "      <td>0</td>\n",
       "    </tr>\n",
       "  </tbody>\n",
       "</table>\n",
       "</div>"
      ],
      "text/plain": [
       "  Category                                            Message  spam\n",
       "0      ham  Go until jurong point, crazy.. Available only ...     0\n",
       "1      ham                      Ok lar... Joking wif u oni...     0\n",
       "2     spam  Free entry in 2 a wkly comp to win FA Cup fina...     1\n",
       "3      ham  U dun say so early hor... U c already then say...     0\n",
       "4      ham  Nah I don't think he goes to usf, he lives aro...     0"
      ]
     },
     "execution_count": 12,
     "metadata": {},
     "output_type": "execute_result"
    }
   ],
   "source": [
    "spam.head()"
   ]
  },
  {
   "cell_type": "code",
   "execution_count": null,
   "id": "54aaf7ce",
   "metadata": {},
   "outputs": [],
   "source": []
  },
  {
   "cell_type": "code",
   "execution_count": 53,
   "id": "601d9151",
   "metadata": {},
   "outputs": [],
   "source": [
    "#split data into train and test \n",
    "X_train, X_test, y_train, y_test = train_test_split(spam.Message, spam.spam, test_size=0.2)"
   ]
  },
  {
   "cell_type": "code",
   "execution_count": 54,
   "id": "caa08ce1",
   "metadata": {},
   "outputs": [
    {
     "name": "stdout",
     "output_type": "stream",
     "text": [
      "(4457,)\n",
      "(1115,)\n"
     ]
    }
   ],
   "source": [
    "#print shape it split  data \n",
    "print(X_train.shape)\n",
    "print(X_test.shape)"
   ]
  },
  {
   "cell_type": "code",
   "execution_count": null,
   "id": "c250956e",
   "metadata": {},
   "outputs": [],
   "source": []
  },
  {
   "cell_type": "code",
   "execution_count": 55,
   "id": "8e2d3837",
   "metadata": {},
   "outputs": [
    {
     "data": {
      "text/plain": [
       "pandas.core.series.Series"
      ]
     },
     "execution_count": 55,
     "metadata": {},
     "output_type": "execute_result"
    }
   ],
   "source": [
    "#print type X_train\n",
    "type(X_train)"
   ]
  },
  {
   "cell_type": "code",
   "execution_count": 56,
   "id": "38d57313",
   "metadata": {},
   "outputs": [
    {
     "data": {
      "text/plain": [
       "1137    Dont forget you can place as many FREE Request...\n",
       "2651    Do you like shaking your booty on the dance fl...\n",
       "2173     Yavnt tried yet and never played original either\n",
       "Name: Message, dtype: object"
      ]
     },
     "execution_count": 56,
     "metadata": {},
     "output_type": "execute_result"
    }
   ],
   "source": [
    "X_train[1:4]"
   ]
  },
  {
   "cell_type": "code",
   "execution_count": 57,
   "id": "909baf60",
   "metadata": {},
   "outputs": [
    {
     "data": {
      "text/plain": [
       "'Free entry in 2 a wkly comp to win FA Cup final tkts 21st May 2005. Text FA to 87121 to receive entr'"
      ]
     },
     "execution_count": 57,
     "metadata": {},
     "output_type": "execute_result"
    }
   ],
   "source": [
    "X_train[2][:100]"
   ]
  },
  {
   "cell_type": "code",
   "execution_count": 58,
   "id": "b124863d",
   "metadata": {},
   "outputs": [
    {
     "data": {
      "text/plain": [
       "pandas.core.series.Series"
      ]
     },
     "execution_count": 58,
     "metadata": {},
     "output_type": "execute_result"
    }
   ],
   "source": [
    "#print type X_train\n",
    "type(y_train)"
   ]
  },
  {
   "cell_type": "code",
   "execution_count": null,
   "id": "c82705d4",
   "metadata": {},
   "outputs": [],
   "source": []
  },
  {
   "cell_type": "markdown",
   "id": "67b8afc5",
   "metadata": {},
   "source": [
    "##### CountVectorizer"
   ]
  },
  {
   "cell_type": "markdown",
   "id": "9d346b99",
   "metadata": {},
   "source": [
    "###### CountVectorizer is used to convert a list of text documents into a sparse matrix of token counts"
   ]
  },
  {
   "cell_type": "code",
   "execution_count": 37,
   "id": "8fbb3749",
   "metadata": {},
   "outputs": [],
   "source": [
    "count_vector= CountVectorizer()"
   ]
  },
  {
   "cell_type": "code",
   "execution_count": 40,
   "id": "12f3f413",
   "metadata": {},
   "outputs": [],
   "source": [
    "\n",
    "X_train_C_Vector = count_vector.fit_transform(X_train.values)"
   ]
  },
  {
   "cell_type": "code",
   "execution_count": 41,
   "id": "95d2412e",
   "metadata": {},
   "outputs": [
    {
     "data": {
      "text/plain": [
       "<4457x7730 sparse matrix of type '<class 'numpy.int64'>'\n",
       "\twith 58960 stored elements in Compressed Sparse Row format>"
      ]
     },
     "execution_count": 41,
     "metadata": {},
     "output_type": "execute_result"
    }
   ],
   "source": [
    "X_train_C_Vector\n"
   ]
  },
  {
   "cell_type": "code",
   "execution_count": 42,
   "id": "2fa1a2c4",
   "metadata": {},
   "outputs": [
    {
     "data": {
      "text/plain": [
       "array([[0, 0, 0, ..., 0, 0, 0],\n",
       "       [0, 0, 0, ..., 0, 0, 0],\n",
       "       [0, 0, 0, ..., 0, 0, 0],\n",
       "       [0, 0, 0, ..., 0, 0, 0]], dtype=int64)"
      ]
     },
     "execution_count": 42,
     "metadata": {},
     "output_type": "execute_result"
    }
   ],
   "source": [
    "#convert to array\n",
    "X_train_C_Vector.toarray()[:4]"
   ]
  },
  {
   "cell_type": "code",
   "execution_count": 44,
   "id": "789bf033",
   "metadata": {},
   "outputs": [
    {
     "data": {
      "text/plain": [
       "(4457, 7730)"
      ]
     },
     "execution_count": 44,
     "metadata": {},
     "output_type": "execute_result"
    }
   ],
   "source": [
    "#print shape\n",
    "X_train_C_Vector.shape"
   ]
  },
  {
   "cell_type": "code",
   "execution_count": 45,
   "id": "ca72ca91",
   "metadata": {
    "collapsed": true
   },
   "outputs": [
    {
     "data": {
      "text/plain": [
       "['__abs__',\n",
       " '__add__',\n",
       " '__array_priority__',\n",
       " '__bool__',\n",
       " '__class__',\n",
       " '__delattr__',\n",
       " '__dict__',\n",
       " '__dir__',\n",
       " '__div__',\n",
       " '__doc__',\n",
       " '__eq__',\n",
       " '__format__',\n",
       " '__ge__',\n",
       " '__getattr__',\n",
       " '__getattribute__',\n",
       " '__getitem__',\n",
       " '__gt__',\n",
       " '__hash__',\n",
       " '__iadd__',\n",
       " '__idiv__',\n",
       " '__imul__',\n",
       " '__init__',\n",
       " '__init_subclass__',\n",
       " '__isub__',\n",
       " '__iter__',\n",
       " '__itruediv__',\n",
       " '__le__',\n",
       " '__len__',\n",
       " '__lt__',\n",
       " '__matmul__',\n",
       " '__module__',\n",
       " '__mul__',\n",
       " '__ne__',\n",
       " '__neg__',\n",
       " '__new__',\n",
       " '__nonzero__',\n",
       " '__pow__',\n",
       " '__radd__',\n",
       " '__rdiv__',\n",
       " '__reduce__',\n",
       " '__reduce_ex__',\n",
       " '__repr__',\n",
       " '__rmatmul__',\n",
       " '__rmul__',\n",
       " '__round__',\n",
       " '__rsub__',\n",
       " '__rtruediv__',\n",
       " '__setattr__',\n",
       " '__setitem__',\n",
       " '__sizeof__',\n",
       " '__str__',\n",
       " '__sub__',\n",
       " '__subclasshook__',\n",
       " '__truediv__',\n",
       " '__weakref__',\n",
       " '_add_dense',\n",
       " '_add_sparse',\n",
       " '_arg_min_or_max',\n",
       " '_arg_min_or_max_axis',\n",
       " '_ascontainer',\n",
       " '_asindices',\n",
       " '_binopt',\n",
       " '_bsr_container',\n",
       " '_container',\n",
       " '_coo_container',\n",
       " '_cs_matrix__get_has_canonical_format',\n",
       " '_cs_matrix__get_sorted',\n",
       " '_cs_matrix__set_has_canonical_format',\n",
       " '_cs_matrix__set_sorted',\n",
       " '_csc_container',\n",
       " '_csr_container',\n",
       " '_deduped_data',\n",
       " '_dia_container',\n",
       " '_divide',\n",
       " '_divide_sparse',\n",
       " '_dok_container',\n",
       " '_get_arrayXarray',\n",
       " '_get_arrayXint',\n",
       " '_get_arrayXslice',\n",
       " '_get_columnXarray',\n",
       " '_get_dtype',\n",
       " '_get_intXarray',\n",
       " '_get_intXint',\n",
       " '_get_intXslice',\n",
       " '_get_sliceXarray',\n",
       " '_get_sliceXint',\n",
       " '_get_sliceXslice',\n",
       " '_get_submatrix',\n",
       " '_imag',\n",
       " '_inequality',\n",
       " '_insert_many',\n",
       " '_is_array',\n",
       " '_lil_container',\n",
       " '_major_index_fancy',\n",
       " '_major_slice',\n",
       " '_maximum_minimum',\n",
       " '_min_or_max',\n",
       " '_min_or_max_axis',\n",
       " '_minor_index_fancy',\n",
       " '_minor_reduce',\n",
       " '_minor_slice',\n",
       " '_mul_dispatch',\n",
       " '_mul_multivector',\n",
       " '_mul_scalar',\n",
       " '_mul_sparse_matrix',\n",
       " '_mul_vector',\n",
       " '_prepare_indices',\n",
       " '_process_toarray_args',\n",
       " '_raise_on_1d_array_slice',\n",
       " '_real',\n",
       " '_rmul_dispatch',\n",
       " '_rsub_dense',\n",
       " '_scalar_binopt',\n",
       " '_set_arrayXarray',\n",
       " '_set_arrayXarray_sparse',\n",
       " '_set_dtype',\n",
       " '_set_intXint',\n",
       " '_set_many',\n",
       " '_set_self',\n",
       " '_setdiag',\n",
       " '_shape',\n",
       " '_sub_dense',\n",
       " '_sub_sparse',\n",
       " '_swap',\n",
       " '_validate_indices',\n",
       " '_with_data',\n",
       " '_zero_many',\n",
       " 'arcsin',\n",
       " 'arcsinh',\n",
       " 'arctan',\n",
       " 'arctanh',\n",
       " 'argmax',\n",
       " 'argmin',\n",
       " 'asformat',\n",
       " 'asfptype',\n",
       " 'astype',\n",
       " 'ceil',\n",
       " 'check_format',\n",
       " 'conj',\n",
       " 'conjugate',\n",
       " 'copy',\n",
       " 'count_nonzero',\n",
       " 'data',\n",
       " 'deg2rad',\n",
       " 'diagonal',\n",
       " 'dot',\n",
       " 'dtype',\n",
       " 'eliminate_zeros',\n",
       " 'expm1',\n",
       " 'floor',\n",
       " 'format',\n",
       " 'getH',\n",
       " 'get_shape',\n",
       " 'getcol',\n",
       " 'getformat',\n",
       " 'getmaxprint',\n",
       " 'getnnz',\n",
       " 'getrow',\n",
       " 'has_canonical_format',\n",
       " 'has_sorted_indices',\n",
       " 'indices',\n",
       " 'indptr',\n",
       " 'log1p',\n",
       " 'max',\n",
       " 'maximum',\n",
       " 'maxprint',\n",
       " 'mean',\n",
       " 'min',\n",
       " 'minimum',\n",
       " 'multiply',\n",
       " 'ndim',\n",
       " 'nnz',\n",
       " 'nonzero',\n",
       " 'power',\n",
       " 'prune',\n",
       " 'rad2deg',\n",
       " 'reshape',\n",
       " 'resize',\n",
       " 'rint',\n",
       " 'set_shape',\n",
       " 'setdiag',\n",
       " 'shape',\n",
       " 'sign',\n",
       " 'sin',\n",
       " 'sinh',\n",
       " 'sort_indices',\n",
       " 'sorted_indices',\n",
       " 'sqrt',\n",
       " 'sum',\n",
       " 'sum_duplicates',\n",
       " 'tan',\n",
       " 'tanh',\n",
       " 'toarray',\n",
       " 'tobsr',\n",
       " 'tocoo',\n",
       " 'tocsc',\n",
       " 'tocsr',\n",
       " 'todense',\n",
       " 'todia',\n",
       " 'todok',\n",
       " 'tolil',\n",
       " 'trace',\n",
       " 'transpose',\n",
       " 'trunc']"
      ]
     },
     "execution_count": 45,
     "metadata": {},
     "output_type": "execute_result"
    }
   ],
   "source": [
    "dir(X_train_C_Vector)"
   ]
  },
  {
   "cell_type": "code",
   "execution_count": 51,
   "id": "4bfffa10",
   "metadata": {},
   "outputs": [
    {
     "ename": "AttributeError",
     "evalue": "vocabulary_ not found",
     "output_type": "error",
     "traceback": [
      "\u001b[1;31m---------------------------------------------------------------------------\u001b[0m",
      "\u001b[1;31mAttributeError\u001b[0m                            Traceback (most recent call last)",
      "\u001b[1;32m~\\AppData\\Local\\Temp\\ipykernel_19072\\868386997.py\u001b[0m in \u001b[0;36m<module>\u001b[1;34m\u001b[0m\n\u001b[1;32m----> 1\u001b[1;33m \u001b[0mX_train_C_Vector\u001b[0m\u001b[1;33m.\u001b[0m\u001b[0mvocabulary_\u001b[0m\u001b[1;33m\u001b[0m\u001b[1;33m\u001b[0m\u001b[0m\n\u001b[0m",
      "\u001b[1;32m~\\anaconda3\\lib\\site-packages\\scipy\\sparse\\_base.py\u001b[0m in \u001b[0;36m__getattr__\u001b[1;34m(self, attr)\u001b[0m\n\u001b[0;32m    769\u001b[0m             \u001b[1;32mreturn\u001b[0m \u001b[0mself\u001b[0m\u001b[1;33m.\u001b[0m\u001b[0mgetnnz\u001b[0m\u001b[1;33m(\u001b[0m\u001b[1;33m)\u001b[0m\u001b[1;33m\u001b[0m\u001b[1;33m\u001b[0m\u001b[0m\n\u001b[0;32m    770\u001b[0m         \u001b[1;32melse\u001b[0m\u001b[1;33m:\u001b[0m\u001b[1;33m\u001b[0m\u001b[1;33m\u001b[0m\u001b[0m\n\u001b[1;32m--> 771\u001b[1;33m             \u001b[1;32mraise\u001b[0m \u001b[0mAttributeError\u001b[0m\u001b[1;33m(\u001b[0m\u001b[0mattr\u001b[0m \u001b[1;33m+\u001b[0m \u001b[1;34m\" not found\"\u001b[0m\u001b[1;33m)\u001b[0m\u001b[1;33m\u001b[0m\u001b[1;33m\u001b[0m\u001b[0m\n\u001b[0m\u001b[0;32m    772\u001b[0m \u001b[1;33m\u001b[0m\u001b[0m\n\u001b[0;32m    773\u001b[0m     \u001b[1;32mdef\u001b[0m \u001b[0mtranspose\u001b[0m\u001b[1;33m(\u001b[0m\u001b[0mself\u001b[0m\u001b[1;33m,\u001b[0m \u001b[0maxes\u001b[0m\u001b[1;33m=\u001b[0m\u001b[1;32mNone\u001b[0m\u001b[1;33m,\u001b[0m \u001b[0mcopy\u001b[0m\u001b[1;33m=\u001b[0m\u001b[1;32mFalse\u001b[0m\u001b[1;33m)\u001b[0m\u001b[1;33m:\u001b[0m\u001b[1;33m\u001b[0m\u001b[1;33m\u001b[0m\u001b[0m\n",
      "\u001b[1;31mAttributeError\u001b[0m: vocabulary_ not found"
     ]
    }
   ],
   "source": [
    "X_train_C_Vector.vocabulary_"
   ]
  },
  {
   "cell_type": "code",
   "execution_count": 52,
   "id": "498f75cd",
   "metadata": {},
   "outputs": [
    {
     "name": "stdout",
     "output_type": "stream",
     "text": [
      "Vocabulary: {'will': 7494, 'be': 1278, 'september': 6032, 'by': 1596, 'then': 6817, 'aight': 885, 've': 7243, 'been': 1298, 'set': 6042, 'free': 3014, 'think': 6836, 'you': 7681, 'could': 2038, 'text': 6782, 'me': 4425, 'blake': 1382, 'address': 821, 'it': 3797, 'occurs': 4894, 'to': 6925, 'not': 4840, 'quite': 5546, 'as': 1095, 'sure': 6625, 'what': 7453, 'doing': 2414, 'thought': 6856, 'was': 7365, 'ha': 3323, 'had': 3325, 'popped': 5315, 'down': 2443, 'the': 6808, 'loo': 4211, 'when': 7458, 'hello': 3435, 'ed': 2544, 'hope': 3530, 'ur': 7187, 'head': 3404, 'doesn': 2402, 'hurt': 3598, 'much': 4652, 'am': 940, 'ploughing': 5259, 'my': 4682, 'way': 7386, 'through': 6866, 'pile': 5218, 'of': 4899, 'ironing': 3783, 'staying': 6466, 'in': 3679, 'with': 7524, 'chinky': 1796, 'tonight': 6956, 'come': 1916, 'round': 5832, 'if': 3639, 'like': 4131, 'how': 3560, 'creep': 2082, 'on': 4941, 'now': 4854, 'aiya': 892, 'we': 7390, 'discuss': 2365, 'later': 4051, 'lar': 4043, 'pick': 5204, 'up': 7171, 'at': 1126, 'is': 3788, 'do': 2388, 'all': 917, 'wan': 7348, 'meet': 4442, 'combine': 1915, 'parts': 5103, 'da': 2153, 'rest': 5755, 'project': 5455, 'going': 3209, 'still': 6488, 'mall': 4346, 'have': 3393, 'good': 3222, 'day': 2193, 'somebody': 6300, 'should': 6124, 'go': 3197, 'andros': 973, 'and': 969, 'steal': 6471, 'ice': 3622, 'also': 932, 'are': 1059, 'bringing': 1517, 'galileo': 3095, 'or': 4983, 'dobby': 2390, 'dear': 2205, 'voucher': 7303, 'holder': 3507, 'claim': 1827, 'this': 6845, 'weeks': 7417, 'offer': 4904, 'pc': 5138, 'please': 5252, 'http': 3574, 'www': 7617, 'tlp': 6914, 'co': 1877, 'uk': 7110, 'reward': 5778, 'ts': 7050, 'cs': 2101, 'apply': 1036, 'entry': 2639, 'into': 3757, 'our': 5015, '250': 371, 'weekly': 7416, 'comp': 1929, 'just': 3910, 'send': 6017, 'word': 7564, 'enter': 2628, '84128': 677, '18': 319, 'textcomp': 6786, 'com': 1910, 'cust': 2135, 'care': 1660, '08712405020': 115, 'hoping': 3535, 'enjoyed': 2621, 'your': 7687, 'game': 3099, 'yesterday': 7667, 'sorry': 6333, 'touch': 6984, 'but': 1580, 'pls': 5260, 'know': 3990, 'that': 6805, 'fondly': 2954, 'bein': 1314, 'thot': 6853, 'off': 4901, 'great': 3270, 'week': 7412, 'abiola': 765, 'haf': 3327, 'eaten': 2535, 'wat': 7371, 'time': 6894, 'did': 2313, 'forget': 2975, 'tell': 6752, 'want': 7353, 'need': 4741, 'crave': 2070, 'most': 4612, 'love': 4244, 'sweet': 6652, 'arabian': 1056, 'steed': 6475, 'mmmmmm': 4552, 'yummy': 7702, 'ok': 4922, 'tho': 6851, 'can': 1635, 'get': 3150, 'library': 4115, 'before': 1304, 'class': 1836, 'try': 7047, 'see': 5991, 'some': 6298, 'point': 5288, 'eve': 2680, 'out': 5018, 'for': 2968, 'dinner': 2344, 'll': 4178, 'treat': 7020, 'seem': 5996, 'noice': 4814, 're': 5603, 'here': 3452, 'there': 6823, 'may': 4416, 'gym': 3320, 'about': 768, 'nope': 4826, 'watching': 7376, 'tv': 7073, 'home': 3514, 'bored': 1440, 'heard': 3416, 'from': 3050, 'u4': 7100, 'while': 7466, 'call': 1611, 'rude': 5851, 'chat': 1748, 'private': 5426, 'line': 4144, '01223585334': 7, 'cum': 2122, '2c': 387, 'pics': 5208, 'gettin': 3157, 'shagged': 6062, 'pix': 5228, '8552': 684, '2end': 390, 'stop': 6499, 'sam': 5896, 'xxx': 7633, 'hi': 3465, 'amy': 963, 'sending': 6019, 'phone': 5193, 'number': 4865, 'couple': 2047, 'days': 2194, 'which': 7465, 'give': 3178, 'an': 964, 'access': 782, 'adult': 837, 'parties': 5101, 'lt': 4266, 'gt': 3294, 'ish': 3790, 'minutes': 4515, 'ago': 876, 'wtf': 7609, 'gas': 3114, 'station': 6461, 'its': 3804, 'oh': 4918, 'sale': 5889, 'switch': 6662, 'fone': 2955, 'dammit': 2161, 'angry': 975, 'busy': 1579, 'happy': 3369, 'baby': 1200, 'alright': 930, 'take': 6691, 'job': 3870, 'fine': 2883, 'kiss': 3980, 'make': 4338, 'smile': 6253, 'across': 800, 'sea': 5973, 'thx': 6878, 'well': 7429, 'few': 2847, 'months': 4599, 'called': 1618, 'no': 4809, 'one': 4947, 'ask': 1104, 'both': 1448, 'them': 6814, 'already': 929, 'they': 6830, 'said': 5884, 'im': 3655, 'realy': 5624, 'soz': 6353, 'imat': 3659, 'mums': 4666, '2nite': 412, '2moro': 401, 'year': 7657, 'many': 4363, 'miles': 4494, 'customer': 2138, 'place': 5231, 'thinking': 6839, 'chile': 1789, 'only': 4953, 'decimal': 2217, 'hour': 3554, 'drive': 2468, 'subletting': 6556, 'feb': 2827, 'april': 1050, 'audition': 1149, 'season': 5976, 'goodnight': 3228, 'thangam': 6795, 'really': 5623, 'miss': 4525, 'check': 1757, 'rooms': 5827, 'befor': 1303, 'activities': 809, 'mystery': 4688, 'solved': 6297, 'opened': 4966, 'email': 2591, 'he': 3403, 'sent': 6026, 'another': 990, 'batch': 1250, 'isn': 3793, 'sweetie': 6655, 'whatsup': 7456, 'dont': 2426, 'sleep': 6219, 'wot': 7582, 'hmmm': 3494, 'guess': 3302, 'kb': 3940, 'power': 5350, 'yoga': 7677, 'haha': 3328, 'dunno': 2504, 'tahan': 6687, 'anot': 989, 'thk': 6846, 'got': 3240, 'lo': 4181, 'oso': 5007, 'forgot': 2980, 'liao': 4113, 'boltblue': 1424, 'tones': 6953, '150p': 304, 'reply': 5724, 'poly': 5296, 'mono': 4592, 'eg': 2561, 'poly3': 5297, 'cha': 1717, 'slide': 6228, 'yeah': 7656, 'slow': 6236, 'jamz': 3829, 'toxic': 6991, 'more': 4603, 'txt': 7084, 'boooo': 1436, 'always': 938, 'work': 7566, 'quit': 5545, 'todays': 6931, 'voda': 7292, 'numbers': 4866, 'ending': 2607, '1225': 283, 'selected': 6004, 'receive': 5638, '50award': 545, 'match': 4394, '08712300220': 103, 'quoting': 5553, 'code': 1887, '3100': 443, 'standard': 6443, 'rates': 5588, 'app': 1027, 'those': 6852, 'ducking': 2493, 'chinchillas': 1794, 'morning': 4607, 'suffering': 6583, 'fever': 2846, 'dysentry': 2516, 'able': 767, 'office': 4908, 'today': 6930, 'mobile': 4562, 'video': 7263, 'player': 5247, 'movie': 4624, 'collect': 1900, '89105': 714, 'extra': 2762, 'films': 2872, 'ordered': 4991, 'yrs': 7698, 'hey': 3461, 'chief': 1782, 'bell': 1318, 'talk': 6699, 'royal': 5838, 'visit': 7283, '1st': 335, 'june': 3905, 'though': 6855, 'shd': 6078, 'fun': 3070, 'so': 6285, 'bar': 1230, 'town': 6990, 'something': 6307, 'sound': 6343, 'imagine': 3658, 'finally': 2878, 'sink': 6183, 'bath': 1252, 'after': 858, 'put': 5519, 'paces': 5051, 'maybe': 4418, 'even': 2682, 'having': 3399, 'eat': 2534, 'left': 4088, 'feel': 2832, 'cage': 1603, 'cock': 1884, 'surrounded': 6633, 'water': 7377, 'reminding': 5704, 'who': 7471, 'owns': 5045, 'enjoy': 2620, 'cuck': 2115, 'meeting': 4444, 'too': 6961, 'early': 2522, 'lei': 4095, 'outside': 5025, 'wun': 7616, 'neva': 4768, 'mind': 4501, 'sense': 6023, 'foot': 2963, 'penis': 5150, 'lick': 4116, 'pussy': 5518, 'half': 3337, 'elaine': 2576, 'test': 6776, 'earlier': 2521, 'appreciate': 1040, 'tomorrow': 6950, 'took': 6962, 'tablets': 6680, 'reaction': 5609, 'lor': 4223, 'sony': 6320, 'ericsson': 2651, 'salesman': 5891, 'shuhui': 6143, 'she': 6079, 'say': 5934, 'gd': 3127, 'use': 7204, 'considering': 1983, 'convey': 2005, 'regards': 5677, 'him': 3474, 'where': 7461, 'aiyo': 895, 'ex': 2714, 'abt': 774, 'mei': 4450, 'haven': 3395, 'first': 2895, 'fast': 2808, 'lucky': 4272, 'workin': 7568, 'huh': 3583, 'bao': 1229, 'sugardad': 6586, 'ah': 878, 'gee': 3129, 'dnt': 2387, 'worry': 7576, 'pieces': 5214, 'cloth': 1859, 'pack': 5052, 'yar': 7649, 'tot': 6980, 'knew': 3988, 'dis': 2355, 'would': 7586, 'happen': 3360, 'long': 4208, 'open': 4965, 'click': 1848, 'friend': 3034, 'lists': 4168, 'list': 4161, 'easy': 2533, 'pie': 5212, 'nowadays': 4855, 'people': 5152, 'notixiquating': 4849, 'laxinorficated': 4060, 'opportunity': 4973, 'bambling': 1219, 'entropication': 2638, 'ever': 2688, 'oblisingately': 4887, 'opted': 4978, 'books': 1435, 'masteriastering': 4391, 'amplikater': 957, 'fidalfication': 2851, 'very': 7255, 'champlaxigating': 1723, 'atrocious': 1134, 'wotz': 7584, 'opinion': 4970, 'junna': 3907, 'per': 5153, 'request': 5730, 'melle': 4452, 'oru': 5004, 'minnaminunginte': 4510, 'nurungu': 4868, 'vettam': 7256, 'has': 3378, 'callertune': 1621, 'callers': 1620, 'press': 5401, 'copy': 2020, 'friends': 3035, 'significant': 6159, 'becoz': 1289, 'jan': 3830, 'whn': 7470, 'al': 900, 'post': 5333, 'ofice': 4912, 'holiday': 3509, 'cn': 1873, 'fr': 3002, 'duffer': 2498, 'win': 7497, 'winner': 7507, 'mr': 4630, 'foley': 2946, 'won': 7551, 'ipod': 3777, 'exciting': 2723, 'prizes': 5430, 'soon': 6323, 'keep': 3943, 'eye': 2765, '82050': 657, 'sad': 5877, 'thing': 6834, 'past': 5116, '11mths': 277, 'update': 7175, 'oranges': 4988, 'latest': 4052, 'colour': 1907, 'camera': 1631, 'mobiles': 4563, 'unlimited': 7157, 'weekend': 7414, 'calls': 1626, 'upd8': 7173, 'freefone': 3018, '08000839402': 50, '2stoptxt': 420, 'legs': 4093, 'neck': 4738, 'killing': 3969, 'amigos': 946, 'end': 2605, 'night': 4794, 'burn': 1570, 'swing': 6661, 'hear': 3415, 'sundayish': 6603, 'under': 7131, 'lays': 4064, 'rock': 5812, 'envelope': 2642, 'paper': 5079, 'words': 7565, 'die': 2318, 'stuffs': 6546, 'unless': 7155, 'guys': 3317, 'sooner': 6324, 'dare': 2172, 'stupid': 6548, 'wont': 7558, 'anything': 1011, 'yo': 7676, 'chad': 1718, 'gymnastics': 3321, 'wanna': 7351, 'site': 6192, 'says': 5937, 'christians': 1814, 'full': 3067, 'tel': 6748, 'mistake': 4536, 'message': 4473, 'sexy': 6054, 'buns': 1566, 'told': 6941, 'adore': 830, 'loverboy': 4250, 'remember': 5696, 'thank': 6796, 'sister': 6190, 'law': 4059, 'meatballs': 4436, 'grins': 3278, 'babe': 1197, 'fear': 2824, 'fainting': 2781, 'housework': 3559, 'quick': 5542, 'cuppa': 2127, 'mmmm': 4550, 'cant': 1646, 'wait': 7329, 'okay': 4923, 'shining': 6093, 'meant': 4432, 'signing': 6161, 'sounds': 6345, 'better': 1337, 'lemme': 4097, 'goin': 3207, 'hen': 3447, 'don': 2422, 'either': 2571, 'clever': 1847, 'simple': 6170, 'pears': 5143, 'other': 5008, 'perfect': 5157, 'christmas': 1815, '4mths': 528, 'price': 5413, 'orange': 4987, 'rental': 5712, 'phones': 5196, 'mobilesdirect': 4564, '08000938767': 52, 'or2stoptxt': 4985, 'feeling': 2834, 'fill': 2867, 'buzzzz': 1591, 'buzz': 1590, 'ass': 1114, 'chest': 1775, 'vibrator': 7259, 'shake': 6063, 'garden': 3109, 'ready': 5614, 'summer': 6598, 'selection': 6005, 'bulbs': 1563, 'seeds': 5992, 'worth': 7580, '33': 450, '50': 541, 'scotsman': 5956, 'saturday': 5925, 'go2': 3198, 'notxt': 4851, 'rs': 5843, 'gone': 3218, 'leave': 4083, 'friday': 3031, 'superior': 6613, 'around': 1081, 'let': 4107, 'heart': 3419, 'compass': 1933, 'map': 4364, 'soul': 6342, 'guide': 3308, 'never': 4769, 'loose': 4220, 'world': 7572, 'gnun': 3196, 'via': 7257, 'way2sms': 7387, '1000': 257, 'girls': 3175, 'local': 4187, 'virgins': 7279, '4fil': 521, 'every': 2689, 'sexual': 6053, 'theirs': 6813, 'cute': 2143, '69911': 604, '50p': 547, 'engin': 2617, 'cos': 2028, 'sis': 6189, 'arts': 1091, '11': 269, 'entitled': 2636, '08002986030': 55, 'late': 4048, 'ard': 1058, '12': 279, 'anyway': 1014, 'drivin': 2470, 'exactly': 2716, 'chechi': 1756, 'newest': 4775, 'harry': 3377, 'potter': 5342, 'order': 4990, 'phoenix': 5192, 'book': 1431, 'answer': 993, 'questions': 5541, 'chance': 1725, 'among': 952, 'readers': 5611, 'gorgeous': 3236, 'cumming': 2124, 'min': 4498, 'girl': 3172, 'del': 2242, 'bak': 1214, 'again': 865, 'sum': 6594, 'lucyxx': 4275, 'yes': 7665, 'princess': 5418, 'catch': 1689, 'big': 1353, 'strong': 6529, 'hands': 3349, 'study': 6540, 'cbe': 1695, 'chennai': 1771, 'simulate': 6174, 'gives': 3180, 'tough': 6986, 'readiness': 5612, 'sir': 6187, 'urgent': 7191, 'costa': 2030, 'sol': 6292, '5000': 543, 'await': 1175, 'collection': 1903, '09050090044': 174, 'toclaim': 6929, 'sae': 5878, 'tc': 6728, 'pobox334': 5275, 'stockport': 6493, 'sk38xh': 6203, 'cost': 2029, 'pm': 5268, 'max10mins': 4412, 'objection': 4886, 'bf': 1344, 'coming': 1921, 'das': 2181, 'cool': 2014, 'iknow': 3648, 'wellda': 7430, 'peril': 5161, 'studentfinancial': 6538, 'crisis': 2088, 'spk': 6397, 'l8r': 4010, 'bout': 1455, 'truth': 7046, 'coz': 2056, 'lead': 4071, 'least': 4081, 'unique': 7149, 'person': 5170, 'deserve': 2276, 'tight': 6886, 'yup': 7707, 'paragon': 5084, 'havent': 3396, 'decided': 2215, 'whether': 7464, 'cut': 2142, 'yet': 7668, 'hee': 3427, 'hahaha': 3329, 'brain': 1482, '945': 734, 'came': 1630, 'room': 5823, 'lot': 4231, 'stuff': 6543, 'actual': 811, 'guy': 3316, 'wants': 7356, 'buy': 1585, 'back': 1205, 'thursday': 6876, 'yay': 7654, 'gonna': 3220, 'money': 4587, 'cheers': 1766, 'everything': 2698, 'hows': 3564, 'school': 5945, 'mila': 4492, 'age23': 870, 'blonde': 1402, 'new': 4773, 'look': 4212, 'sex': 6050, 'mtalk': 4643, '69866': 600, '30pp': 440, '5free': 565, 'increments': 3695, 'help08718728876': 3441, 'wesleys': 7443, 'bet': 1333, 'does': 2400, 'hella': 3434, 'drugs': 2479, 'fri': 3030, 'miwa': 4542, 'jiayin': 3866, 'karaoke': 3933, 'darlin': 2176, 'ive': 3810, 'nice': 4786, 'thanks': 6797, 'lift': 4125, 'same': 5899, 'friendship': 3036, 'alone': 926, 'until': 7169, 'alive': 916, 'gud': 3298, 'kindly': 3974, 'us': 7201, 'documents': 2397, 'submitted': 6557, 'loan': 4184, 'stapati': 6445, 'hard': 3370, 'believe': 1316, 'things': 6835, 'lie': 4119, 'twice': 7077, 'saying': 5936, 'chloe': 1802, 'smashed': 6249, 'missing': 4529, 'sp': 6355, 'visionsms': 7282, 'valued': 7231, 'frnds': 3043, 'evn': 2704, 'comes': 1918, 'married': 4380, 'luv': 4282, 'ignore': 3642, 'lose': 4225, 'evr': 2708, 'stuck': 6535, 'orchard': 4989, 'dad': 2156, 'car': 1655, 'leh': 4094, 'thanx': 6802, 'captain': 1653, 'vijaykanth': 7268, 'comedy': 1917, 'drunken': 2483, 'consent': 1980, 'forms': 2988, 'her': 3451, 'dehydrated': 2240, 'wil': 7491, 'forwarded': 2994, '448712404000': 501, '08712404000': 114, 'immediately': 3663, 'waiting': 7332, 'goal': 3200, 'wow': 7590, 'right': 5788, 'didn': 2315, 'mean': 4427, 'once': 4945, 'gave': 3120, 'boston': 1446, 'men': 4461, 'changed': 1728, 'search': 5974, 'location': 4188, 'nyc': 4877, 'cuz': 2148, 'signin': 6160, 'page': 5056, 'tmr': 6919, 'bugis': 1559, '930': 732, 'bill': 1357, 'any': 1003, 'letters': 4110, 'expecting': 2741, '8th': 724, 'done': 2424, 'contact': 1988, 'settled': 6046, 'lets': 4108, 'everybody': 2691, 'evening': 2683, 'lunch': 4277, 'develop': 2293, 'photos': 5199, '750': 624, 'anytime': 1013, 'network': 4765, 'mins': 4512, '150': 302, 'five': 2900, 'pounds': 5346, '08002888812': 54, 'delivery': 2250, 'lab': 4016, 'goggles': 3206, 'went': 7435, 'aunty': 1156, 'birth': 1368, '8lb': 721, '7oz': 637, 'mother': 4614, 'brilliantly': 1514, 'hours': 3555, 'almost': 925, 'internet': 3752, 'salt': 5895, 'rub': 5849, 'wounds': 7589, 'answering': 995, 'texts': 6791, 'guessing': 3306, 'flaked': 2907, 'jb': 3845, 'fantastic': 2802, 'taking': 6696, 'derek': 2271, 'amp': 956, 'taylor': 6724, 'walmart': 7346, 'mouse': 4619, 'desk': 2279, 'priscilla': 5424, 'sunshine': 6608, 'quiz': 5549, 'super': 6611, 'dvd': 2512, 'recorder': 5650, 'canname': 1644, 'capital': 1650, 'australia': 1158, 'mquiz': 4629, '82277': 660, 'wear': 7395, 'shirts': 6098, 'jumpers': 3904, 'hat': 3383, 'belt': 1324, 'cribbs': 2085, 'ingredients': 3718, 'rush': 5865, 'jay': 3840, 'burger': 1568, 'yourself': 7691, 'move': 4621, 'pain': 5060, 'website': 7402, 'slippers': 6231, 'aunts': 1155, 'anniversary': 982, 'party': 5104, 'tarpon': 6716, 'springs': 6422, 'lol': 4202, 'yep': 7663, 'fireplace': 2892, 'icon': 3626, 'sitting': 6195, 'battery': 1258, 'adewale': 823, 'uncle': 7124, 'aka': 898, 'egbon': 2562, 'eh': 2565, 'laptop': 4042, 'stock': 6491, 'mon': 4584, 'muz': 4680, 'lip': 4157, 'synced': 6672, 'shangela': 6068, 'knows': 3992, 'ain': 886, 'smokin': 6261, 'goodmorning': 3227, '1hr': 329, 'wishing': 7520, 'family': 2795, 'merry': 4470, 'mas': 4386, 'advance': 838, 'aiyar': 894, 'poor': 5310, 'support': 6618, 'jia': 3865, 'msg': 4635, 'b4': 1190, 'house': 3556, 'calling': 1624, 'everyone': 2694, 'might': 4490, 'cancer': 1642, 'throat': 6865, 'hurts': 3600, 'everyones': 2695, 'babysitting': 1203, 'monday': 4585, 'birthday': 1370, 'over': 5031, 'smoking': 6262, 'wylie': 7618, 'smokes': 6260, 'justify': 3913, 'ruining': 5855, 'shit': 6099, 'sch': 5943, 'dun': 2502, 'anybody': 1004, 'asks': 1109, 'wrote': 7605, 'times': 6895, 'ritten': 5804, 'sit': 6191, 'hit': 3482, 'wasn': 7367, 'checked': 1759, 'were': 7438, 'why': 7479, 'wouldn': 7588, 'clean': 1841, 'fold': 2945, 'laundry': 4057, 'etc': 2671, 'bed': 1291, 'sms': 6264, 'mail': 4331, 'id': 3627, 'achan': 794, 'amma': 949, 'rakhesh': 5571, 'qatar': 5526, 'jason': 3838, 'his': 3480, 'messages': 4475, 'glo': 3186, 'watch': 7372, 'saw': 5933, 'swatch': 6648, '116': 275, '2nd': 409, 'ya': 7643, 'cookies': 2012, 'jelly': 3851, 'missy': 4534, 'fix': 2901, 'ceiling': 1703, 'wanted': 7354, 'wish': 7516, 'legal': 4091, 'advice': 841, 'gary': 3113, 'split': 6402, 'trip': 7029, 'ptbo': 5493, 'man': 4348, 'account': 791, 'dry': 2485, 'trade': 6996, 'credit': 2079, 'card': 1656, 'two': 7082, 'teams': 6738, 'players': 5248, 'whenever': 7459, 'arnt': 1080, 'pissed': 5225, 'xxxxxxxxxxxxxx': 7640, 'nan': 4707, 'sonathaya': 6316, 'soladha': 6293, 'boss': 1445, 'found': 2996, 'diff': 2323, 'farm': 2805, 'shop': 6111, 'cheese': 1768, 'story': 6511, 'last': 4046, 'wife': 7487, 'nt': 4858, 'parents': 5090, 'kids': 3966, 'colleagues': 1899, 'putting': 5522, 'happens': 3365, '2waxsto': 424, 'ill': 3651, 'medical': 4439, 'insurance': 3742, 'deliver': 2247, 'basic': 1244, 'currently': 2131, 'shopping': 6113, 'til': 6891, 'thats': 6807, 'major': 4337, 'tired': 6901, 'special': 6370, 'nothing': 4845, 'enters': 2630, 'bank': 1224, 'remove': 5708, 'flat': 2911, 'rate': 5587, 'someone': 6302, 'transfered': 7007, 'dollars': 2419, 'removed': 5709, 'banks': 1225, 'differ': 2324, 'charges': 1739, 'trust': 7044, '9ja': 745, 'details': 2288, 'bluff': 1413, 'nite': 4805, 'oredi': 4994, 'pages': 5057, 'trying': 7049, 'xavier': 7622, 'smoke': 6259, 'because': 1286, 'being': 1315, 'iouri': 3770, 'kaila': 3921, 'maid': 4330, 'murderer': 4671, 'murdered': 4670, 'th': 6792, 'january': 3834, 'public': 5496, 'govt': 3249, 'instituitions': 3740, 'closed': 1855, 'including': 3687, 'understand': 7133, 'membership': 4457, '100': 256, '000': 1, 'prize': 5429, 'jackpot': 3821, '81010': 653, 'dbuk': 2198, 'net': 4760, 'lccltd': 4066, 'pobox': 5272, '4403ldnw1a7rw18': 497, 'ta': 6678, 'daaaaa': 2154, 'hav': 3389, 'frnd': 3042, 'name': 4701, 'ashwini': 1101, 'college': 1905, 'bye': 1598, 'grinder': 3277, 'kate': 3934, 'doin': 2412, 'somethin': 6306, 'pub': 5495, 'swan': 6643, 'drink': 2463, 'probably': 5433, 'closer': 1856, 'tyler': 7094, 'trips': 7031, 'macho': 4309, 'budget': 1554, 'bb': 1262, 'bold': 1422, 'studying': 6541, 'next': 4782, '140': 296, '180': 320, 'bedrm': 1294, '900': 726, 'hr': 3570, 'prepare': 5389, 'reaching': 5607, 'yck': 7655, 'course': 2050, 'god': 3203, 'hold': 3506, 'making': 4342, 'tonite': 6958, 'invited': 3766, 'tape': 6713, 'pple': 5354, 'type': 7095, 'help': 3438, 'noe': 4813, 'infernal': 3710, 'affairs': 849, 'along': 927, 'asking': 1108, 'sec': 5978, 'boo': 1429, 'moms': 4583, 'tortilla': 6975, 'soup': 6347, 'yummmm': 7701, 'gentle': 3140, '09061743811': 200, 'landline': 4033, 'abta': 775, 'complimentary': 1945, 'tenerife': 6764, 'cash': 1681, 'box': 1458, '326': 449, 'cw25wx': 2149, '150ppm': 308, 'current': 2130, 'leading': 4073, 'bid': 1351, '151': 311, 'pause': 5125, 'auction': 1147, '08718726270': 144, 'jus': 3909, 'ans': 991, 'hmv': 3497, 'bonus': 1428, '500': 542, 'genuine': 3143, 'vouchers': 7304, 'play': 5245, '86688': 689, 'info': 3712, '100percent': 261, 'real': 5615, 'usual': 7213, 'iam': 3611, 'flirting': 2924, 'bloke': 1400, 'age': 868, 'zoe': 7714, '8007': 643, 'join': 3875, 'chatting': 1751, 'keen': 3942, 'kind': 3972, 'shouldn': 6126, 'tomo': 6948, 'seen': 5999, 'holby': 3505, 'goes': 3205, 'imma': 3661, 'flip': 2921, 'hadn': 3326, 'clocks': 1852, 'shouted': 6127, 'realised': 5618, 'wahay': 7325, 'shall': 6065, 'romantic': 5821, 'paris': 5091, 'nights': 4796, 'flights': 2919, '79': 633, '08704439680ts': 88, 'lord': 4224, 'rings': 5793, 'return': 5767, 'king': 3975, 'store': 6508, 'lotr': 4232, 'soundtrack': 6346, 'cds': 1701, 'stdtxtrate': 6469, 'txts': 7090, 'afternoon': 860, 'woke': 7546, 'online': 4951, 'italian': 3798, 'boy': 1474, 'company': 1931, 'bus': 1574, 'tantrum': 6711, 'finished': 2887, 'best': 1331, 'congrats': 1972, 'kidding': 3965, 'papa': 5078, 'needs': 4746, 'cause': 1692, 'drunk': 2481, 'motherfucker': 4615, 'ringtone': 5794, 'collected': 1901, 'simply': 6172, 'password': 5114, 'mix': 4543, '85069': 682, 'verify': 7253, 'usher': 7211, 'britney': 1523, 'fml': 2942, 'po': 5270, '5249': 557, 'mk17': 4546, '92h': 731, '450ppw': 505, '16': 314, 'sign': 6157, 'track': 6994, 'record': 5648, 'reading': 5613, 'women': 7550, 'thasa': 6804, 'bit': 1372, 'messed': 4477, 'yeh': 7659, 'shudvetold': 6142, 'urgran': 7195, 'neway': 4774, 'illspeak': 3653, 'u2moro': 7099, 'wen': 7432, 'asleep': 1111, '07xxxxxxxxx': 45, 'caller': 1619, '02': 9, '06': 20, '03': 15, 'attempt': 1138, 'reach': 5604, '09066362231': 229, 'asap': 1097, 'box97n7qp': 1473, 'welp': 7431, 'sort': 6334, 'semiobscure': 6015, 'honey': 3520, 'sweetheart': 6654, 'darling': 2177, 'sugar': 6585, 'plum': 5261, 'boytoy': 1479, 'smacks': 6242, 'knowing': 3991, 'sos': 6341, 'amount': 955, 'bookedthe': 1433, 'hut': 3603, 'oops': 4964, 'glad': 3182, 'wasted': 7369, 'applebees': 1033, 'thinl': 6842, 'role': 5818, 'sachin': 5875, 'standing': 6444, 'others': 5009, 'old': 4934, 'fuck': 3058, 'rhode': 5782, 'island': 3791, 'wherever': 7462, 'leaving': 4085, 'bong': 1427, 'aft': 857, 'guesses': 3304, 'bring': 1516, 'darren': 2179, 'willing': 7495, 'leona': 4101, 'attach': 1135, 'challenge': 1720, 'write': 7596, 'instead': 3739, 'respond': 5751, 'immed': 3662, 'fetch': 2845, 'yun': 7703, 'geeeee': 3131, 'bad': 1206, 'moby': 4569, 'high': 3470, 'street': 6519, 'duchess': 2492, 'cornwall': 2022, 'unsub': 7165, '008704050406': 3, 'generally': 3136, 'uncountable': 7129, 'noun': 4852, 'dictionary': 2312, 'research': 5735, 'diet': 2321, 'ate': 1127, 'slices': 6227, 'pizza': 5230, 'ugh': 7105, 'pa': 5050, 'problem': 5434, 'okie': 4927, '2stoptx': 419, 'grasp': 3266, 'pretty': 5408, 'booty': 1438, 'semester': 6013, 'important': 3669, 'final': 2876, 'claims': 1829, 'dept': 2269, 'expires': 2749, '13': 291, '04': 16, '08717507382': 138, 'bought': 1453, 'eggs': 2564, 'everywhere': 2700, 'dirt': 2352, 'floor': 2927, 'windows': 7501, 'shirt': 6097, 'sometimes': 6309, 'mouth': 4620, 'flowing': 2933, 'dream': 2457, 'without': 7528, 'chores': 1810, 'joy': 3890, 'lots': 4233, 'shows': 6136, 'must': 4676, 'exist': 2734, 'rain': 5562, 'hail': 3331, 'mist': 4535, 'become': 1287, 'information': 3714, 'o2': 4882, 'user': 7208, 'find': 2880, 'log': 4194, 'onto': 4956, 'urawinner': 7188, 'surprise': 6630, 'awaiting': 1176, 'somewhat': 6310, 'event': 2685, 'laden': 4019, 'wrecked': 7592, 'six': 6199, 'lady': 4021, 'mm': 4548, 'asked': 1106, 'radio': 5557, 'freezing': 3021, 'mom': 4580, 'juz': 3915, 'askin': 1107, '20': 345, 'salon': 5894, 'hair': 3332, 'sat': 5917, 'moon': 4601, 'color': 1906, 'dreams': 2458, 'stars': 6450, 'musical': 4675, 'warm': 7358, 'peaceful': 5141, 'detailed': 2287, 'pleasure': 5255, 'trouble': 7035, 'pours': 5348, 'sum1': 6595, 'loves': 4252, 'smiling': 6257, 'topic': 6969, 'rite': 5803, 'attend': 1140, 'worrying': 7577, 'appt': 1048, 'shame': 6066, 'missed': 4527, 'quizzes': 5551, 'popcorn': 5314, 'jane': 3832, 'babes': 1198, 'wrk': 7597, 'lst': 4265, 'foned': 2956, 'cover': 2053, 'chuck': 1817, 'tex': 6779, 'mecause': 4437, 'werebored': 7439, 'okden': 4925, 'hunny': 3593, 'uin': 7109, 'wk': 7532, 'likeyour': 4135, 'havin': 3398, 'gr8fun': 3253, 'updat': 7174, 'countinlots': 2043, 'loveme': 4248, 'xxxxx': 7636, 'mental': 4463, 'ability': 764, 'question': 5539, 'hungry': 3591, 'dog': 2404, 'ip': 3771, 'computer': 1950, 'minecraft': 4505, 'server': 6038, 'cheap': 1752, 'draw': 2454, '800': 641, 'guaranteed': 3296, '09050001808': 171, 'land': 4031, 'm95': 4300, 'valid12hrs': 7228, 'luckily': 4271, 'starring': 6449, 'since': 6175, 'icic': 3623, 'den': 2255, '80488': 649, 'valid': 7227, '31': 442, 'december': 2212, '2005': 350, 'dollar': 2418, 'pay': 5128, 'mid': 4486, 'february': 2828, 'howz': 3566, 'persons': 5175, 'india': 3701, 'light': 4127, 'holding': 3508, 'tightly': 6887, 'life': 4121, 'show': 6129, 'dust': 2510, 'ambrith': 943, 'madurai': 4319, 'met': 4480, 'arun': 1094, 'dha': 2300, 'marrge': 4378, 'remembr': 5699, 'looked': 4214, 'addie': 819, 'sucks': 6578, 'award': 1178, 'unclaimed': 7123, '09066368327': 233, 'closingdate04': 1858, '09': 162, 'claimcode': 1828, 'm39m51': 4296, '50pmmorefrommobile2bremoved': 551, 'mobypobox734ls27yf': 4570, 'short': 6115, 'prove': 5476, 'noon': 4825, 'amanda': 941, 'regard': 5675, 'renewing': 5710, 'upgrading': 7178, 'handset': 3350, 'charge': 1737, 'ends': 2610, '0845': 67, '021': 14, '3680': 457, 'subject': 6555, 'wonder': 7554, 'dead': 2201, 'made': 4315, 'weed': 7411, 'textbuddy': 6785, 'horny': 3538, 'area': 1060, '25p': 374, 'postcode': 5335, 'gaytextbuddy': 3123, '89693': 718, 'wewa': 7451, '130': 292, 'iriver': 3781, '255': 373, '128': 288, 'mb': 4419, 'forced': 2970, 'myself': 4686, 'slice': 6226, 'mark': 4374, 'getting': 3158, 'worried': 7574, 'sick': 6151, 'turn': 7068, 'barred': 1238, 'stores': 6509, 'twat': 7074, 'dungerees': 2503, 'decking': 2221, 'punch': 5504, 'looking': 4216, 'creepy': 2083, 'returns': 5770, 'stalk': 6438, 'profiles': 5450, '08702490080': 84, 'tells': 6754, '09066358152': 224, 'personal': 5172, 'prompts': 5465, 'careful': 1665, 'anyways': 1015, 'far': 2804, 'jide': 3867, 'visiting': 7284, 'describe': 2273, 'actually': 812, 'awake': 1177, 'bahamas': 1211, 'callfreefone': 1622, '08081560665': 61, 'speak': 6368, 'live': 4172, 'operator': 4969, 'cruise': 2096, '2000': 347, 'opt': 4977, '07786200117': 33, 'plz': 5267, 'bslvyl': 1542, 'fullonsms': 3068, 'finish': 2885, '09058094507': 180, '3030': 436, '12hrs': 289, 'kicks': 3963, 'driving': 2471, 'father': 2812, 'frndship': 3044, 'dat': 2183, 'cannot': 1645, 'doesnt': 2403, 'wikipedia': 7490, 'news': 4778, '08006344447': 58, 'gift': 3164, 'rent': 5711, 'expensive': 2743, 'save': 5929, 'forward': 2993, 'cuddling': 2119, 'sleeps': 6222, 'taxt': 6723, 'massage': 4388, 'tie': 6883, 'pos': 5323, 'argh': 1067, 'lool': 4218, 'edge': 2545, '10': 255, 'add': 815, 'figures': 2863, 'train': 6999, 'seat': 5977, 'mine': 4504, 'lower': 4256, 'together': 6934, 'thinkin': 6838, 'damn': 2162, 'eating': 2537, 'nachos': 4693, 'eta': 2670, 'march': 4369, 'complete': 1941, 'ladies': 4020, 'geeee': 3130, 'till': 6892, 'loving': 4253, 'spanish': 6362, '09050000332': 165, 'rstm': 5844, 'sw7': 6640, '3ss': 475, 'infront': 3716, 'paid': 5059, 'outstanding': 5028, 'commercial': 1924, 'hasbro': 3379, 'august': 1151, 'jump': 3903, 'hoops': 3528, 'borrow': 1444, 'bag': 1209, 'wonders': 7557, '7th': 639, '6th': 615, 'style': 6549, '5th': 571, '4th': 532, 'personality': 5173, '3rd': 474, 'nature': 4721, 'lovely': 4247, 'responce': 5750, 'happend': 3361, 'quiteamuzing': 5547, 'scool': 5949, 'probpop': 5439, 'cu': 2114, 'satthen': 5924, '4brekkie': 517, 'jen': 3852, 'psxtra': 5488, 'lrg': 4261, 'portions': 5322, 'reckon': 5646, 'eightish': 2569, 'walk': 7336, 'carpark': 1674, 'prabha': 5358, 'soryda': 6340, 'frm': 3040, 'sory': 6339, 'airport': 890, 'lounge': 4240, 'passes': 5110, 'using': 7212, '08704439680': 87, 'booking': 1434, 'quote': 5552, 'warned': 7360, 'sprint': 6423, 'prolly': 5456, 'facebook': 2772, 'behave': 1312, 'planning': 5241, 'dating': 2188, 'service': 6039, 'shy': 6146, '09058091870': 177, 'revealed': 5773, 'pobox84': 5279, 'm26': 4294, '3uz': 476, 'scared': 5940, 'fat': 2811, 'jada': 3824, 'kusruthi': 4006, 'lovable': 4243, 'silent': 6164, 'spl': 6398, 'character': 1735, 'matured': 4409, 'stylish': 6552, 'especially': 2666, 'wednesday': 7408, 'failed': 2778, 'showing': 6134, '30': 430, 'cld': 1840, 'wld': 7540, 'prefer': 5382, 'spend': 6384, 'nosh': 4838, 'nxt': 4875, 'stay': 6463, 'cps': 2057, 'causing': 1693, 'outages': 5019, 'conserve': 1981, 'energy': 2613, 'smth': 6268, 'little': 4171, 'experience': 2744, 'american': 944, 'voice': 7295, '09058091854': 176, 'box385': 1466, 'm6': 4297, '6wu': 617, 'messy': 4479, 'happiness': 3368, 'main': 4334, 'sources': 6349, 'unhappiness': 7142, 'accept': 781, 'moment': 4581, 'sunday': 6602, 'steyn': 6482, 'surely': 6626, 'wicket': 7482, 'walls': 7345, 'hearts': 3421, 'safe': 5880, 'cares': 1668, 'enough': 2627, 'break': 1496, 'goodnoon': 3230, 'exact': 2715, 'ovulate': 5038, '2u': 421, '3wks': 477, 'fret': 3029, 'relax': 5688, 'history': 3481, 'intro': 3759, 'pilates': 5217, 'kickboxing': 3961, 'pocked': 5282, 'double': 2436, 'linerental': 4146, 'motorola': 4617, 'sonyericsson': 6321, 'tooth': 6966, 'nokia': 4816, 'mobileupd8': 4566, 'or2optout': 4984, 'hv9d': 3605, 'alrite': 931, 'didnt': 2316, 'chillin': 1792, 'mo': 4558, 'bedroom': 1295, 'brother': 1533, 'scraped': 5958, 'barrel': 1239, 'shower': 6131, 'social': 6287, 'misfits': 4522, 'spoke': 6406, 'john': 3874, 'strongly': 6530, 'feels': 2837, 'sacrifice': 5876, 'beg': 1306, 'listen': 4163, 'promises': 5460, 'clear': 1843, 'creativity': 2078, 'stifled': 6486, 'part': 5097, 'taken': 6693, 'valentine': 7225, 'obviously': 4889, 'pert': 5177, 'potato': 5340, 'loyalty': 4260, 'nokia6650': 4818, 'txtauction': 7086, 'start': 6452, '81151': 654, 'yours': 7690, '4t': 531, 'ctxt': 2113, 'mtmsg': 4646, 'mate': 4397, 'catching': 1690, 'tall': 6705, 'que': 5535, 'pases': 5106, 'un': 7119, 'buen': 1555, 'tiempo': 6884, 'played': 5246, 'smash': 6248, 'bros': 1530, 'religiously': 5691, 'drinkin': 2464, 'dancin': 2166, 'eatin': 2536, 'cinema': 1822, 'zogtorius': 7715, 'staring': 6448, 'deciding': 2216, 'amk': 947, 'tea': 6731, 'coffee': 1888, 'eachother': 2519, 'rose': 5829, 'change': 1727, 'poet': 5287, 'imagination': 3657, 'forever': 2972, 'registered': 5679, 'subscribers': 6565, 'replying': 5725, 'unsubscribe': 7166, 'mandan': 4355, 'vikky': 7269, 'il': 3649, 'aftr': 863, '6pm': 614, 'wa': 7319, 'openin': 4967, 'sentence': 6027, 'formal': 2984, 'tt': 7057, 'puttin': 5521, 'weight': 7420, 'anythin': 1010, 'happened': 3362, 'avoid': 1172, 'missunderstding': 4533, 'wit': 7523, 'beloved': 1323, 'lesson': 4105, 'awesome': 1181, 'restocked': 5758, 'bloomberg': 1406, 'center': 1710, '447797706009': 499, 'future': 3083, 'careers': 1664, 'software': 6290, 'mu': 4650, 'door': 2430, '09066612661': 237, 'luxury': 4285, 'canary': 1638, 'islands': 3792, '20m12aq': 355, 'watchin': 7375, 'lido': 4118, 'congratulations': 1974, 'awarded': 1179, 'cd': 1699, '125gift': 287, 'wkly': 7536, 'music': 4674, '87066': 692, 'juan': 3897, 'expect': 2739, 'welcome': 7427, 'presents': 5398, 'loads': 4183, 'nicky': 4790, 'steam': 6473, 'sales': 5890, 'pee': 5144, 'lyricalladie': 4289, '21': 357, 'inviting': 3767, '910': 728, 'ac': 779, 'hmmross': 3496, '62468': 584, 'tried': 7028, 'camcorder': 1629, '08000930705': 51, 'wed': 7403, '0906346330': 207, '47': 508, 'po19': 5271, '2ez': 392, 'returning': 5769, 'club': 1863, 'choose': 1806, 'top': 6968, 'quality': 5533, 'items': 3800, '7cfca1a': 634, 'nvm': 4872, 'ooh': 4960, '4got': 524, 'belly': 1321, 'dancing': 2167, 'moseley': 4611, 'weds': 7409, 'cafe': 1602, 'scold': 5948, 'typical': 7097, 'midnight': 4488, 'beautiful': 1283, 'hunt': 3594, 'waste': 7368, 'wonderful': 7555, '21870000': 358, 'mailbox': 4332, 'messaging': 4476, 'alert': 906, 'matches': 4396, '09056242159': 175, 'retrieve': 5766, 'madam': 4314, 'regret': 5681, 'disturbance': 2375, 'reference': 5662, 'dlf': 2384, 'premarica': 5385, 'informed': 3715, 'rgds': 5780, 'kerala': 3950, 'wenever': 7434, 'lik': 4130, 'smiled': 6254, 'answered': 994, 'gudnite': 3300, 'replied': 5722, 'nigeria': 4792, 'share': 6073, 'moments': 4582, 'tuition': 7061, 'empty': 2602, 'slots': 6235, 'lessons': 4106, 'timing': 6896, 'sleeping': 6221, 'makes': 4339, 'dearer': 2207, 'de': 2200, 'dem': 2253, 'moan': 4559, 'scream': 5962, '83370': 670, 'trivia': 7033, 'custcare': 2136, '08715705022': 133, '1x150p': 343, 'worries': 7575, 'wif': 7486, 'mah': 4326, 'loud': 4239, 'escape': 2662, 'fancy': 2799, 'bridge': 1508, 'lager': 4024, 'auntie': 1153, 'huai': 3576, 'pictures': 5211, 'denis': 2258, 'mina': 4499, 'announcement': 985, 'freephone': 3020, '0800': 47, '542': 562, '0825': 62, 'timings': 6897, 'xuhui': 7629, 'learn': 4079, '8am': 719, 'fighting': 2859, 'bt': 1546, 'fightng': 2860, 'some1': 6299, 'close': 1854, 'dificult': 2330, 'desperate': 2282, 'armand': 1075, 'poking': 5291, 'everyday': 2693, 'teach': 6732, 'canada': 1636, 'abi': 763, 'than': 6793, 'costume': 2033, '2003': 348, 'statement': 6460, 'redeemed': 5658, 'points': 5289, '08715203694': 131, 'identifier': 3632, '40533': 486, 'anyone': 1007, 'spare': 6363, 'menu': 4467, 'sorting': 6337, 'narcotics': 4709, 'situation': 6196, 'possible': 5331, 'limit': 4140, 'grace': 3255, 'measure': 4434, 'boundaries': 1454, 'endless': 2608, 'blessings': 1393, 'ni8': 4784, 'competition': 1935, '80086': 645, 'txttowin': 7092, 'boys': 1478, 'tampa': 6709, 'sarasota': 5910, 'talking': 6703, 'itself': 3805, 'however': 3563, 'suggest': 6587, 'stays': 6467, 'ors': 5002, 'stool': 6498, 'drop': 2474, 'cards': 1659, '25': 370, 'credits': 2081, 'club4mobiles': 1865, 'content': 1992, '87070': 693, 'club4': 1864, 'box1146': 1459, 'mk45': 4547, '2wt': 425, 'run': 5861, 'cell': 1709, 'impatient': 3666, 'belligerent': 1320, 'edison': 2546, 'rightly': 5790, 'fool': 2960, 'wise': 7515, 'speechless': 6376, 'during': 2508, 'viva': 7288, 'gm': 3191, 'gn': 3193, 'ge': 3128, 'gnt': 3195, 'horrible': 3540, 'macs': 4312, 'toot': 6965, 'prepared': 5390, 'symptoms': 6671, 'listening': 4166, 'songs': 6319, 'stopped': 6505, 'treasure': 7019, 'ended': 2606, 'sunny': 6605, 'rays': 5596, 'leaves': 4084, 'blue': 1410, 'bay': 1261, 'elsewhere': 2588, 'idiot': 3634, 'girlie': 3174, 'fifty': 2857, 'attending': 1142, 'talks': 6704, 'ref': 5661, 'r836': 5554, 'charged': 1738, 'tone': 6952, 'arrive': 1086, 'services': 6040, '09065069154': 217, 'maneesha': 4357, 'satisfied': 5921, 'toll': 6944, 'decide': 2214, 'bday': 1277, 'prob': 5432, 'virgin': 7278, 'sumfing': 6597, 'brownie': 1535, 'practicing': 5362, 'babies': 1199, 'indeed': 3697, 'plus': 5265, 'mode': 4571, 'connections': 1978, 'necessary': 4737, 'secret': 5982, 'watever': 7378, 'shared': 6074, 'true': 7040, '09061790121': 203, 'ktv': 4004, 'ore': 4993, 'owo': 5046, 'fro': 3048, 'started': 6453, 'skye': 6212, 'spending': 6385, 'years': 7658, 'plan': 5236, 'spoiled': 6404, 'longer': 4209, 'crowd': 2092, 'cardiff': 1657, 'lookin': 4215, 'saucy': 5926, 'daytime': 2195, 'wiv': 7531, 'busty': 1578, 'woman': 7548, '09099726429': 250, 'janinexx': 3833, 'minmobsmorelkpobox177hp51fl': 4508, '0207': 10, '083': 63, '6089': 578, 'remain': 5694, 'unconvinced': 7128, 'elaborate': 2574, 'willpower': 7496, 'gei': 3132, 'tron': 7034, 'dl': 2382, '3d': 463, 'channel': 1731, 'secretly': 5984, 'fancies': 2798, '09065394973': 221, 'datebox1282essexcm61xn': 2186, 'gained': 3093, 'kg': 3957, 'second': 5979, 'blood': 1404, 'tests': 6778, 'pressure': 5403, 'within': 7527, 'normal': 4832, 'limits': 4142, 'cooked': 2011, 'rather': 5589, 'salmon': 5893, 'la': 4013, 'textand': 6783, '08002988890': 57, 'dentists': 2261, 'appeal': 1029, 'thriller': 6864, 'director': 2351, 'mac': 4304, 'urgnt': 7194, 'specially': 6372, 'inc': 3681, '0871277810910p': 120, 'gender': 3134, 'begin': 1308, '24m': 368, 'snatch': 6273, 'purse': 5514, 'ditto': 2377, 'anymore': 1006, 'whatever': 7454, 'peace': 5140, '08718738034': 153, 'foreign': 2971, 'stamps': 6441, 'country': 2044, 'bruce': 1540, 'fowler': 3000, 'park': 5093, 'rem': 5693, 'seeing': 5993, 'silver': 6167, 'black': 1379, 'giving': 3181, 'receiving': 5641, 'oral': 4986, 'doggy': 2409, 'fave': 2818, 'position': 5326, 'perumbavoor': 5178, 'searching': 5975, 'potential': 5341, 'talent': 6697, 'alian': 914, 'starshine': 6451, 'ache': 795, 'sips': 6186, 'cappuccino': 1651, 'teasing': 6742, 'genius': 3138, 'hardcore': 3371, 'porn': 5317, 'direct': 2349, '69200': 595, '24': 366, 'hrs': 3571, 'chrgd': 1812, '2exit': 391, 'wrong': 7603, 'everyso': 2696, 'often': 4915, 'panicks': 5072, 'starts': 6455, 'authorise': 1159, 'payment': 5134, 'shoot': 6110, 'dr': 2449, 'reminder': 5703, 'offers': 4907, 'sunoco': 6606, 'howard': 3561, 'read': 5610, 'praps': 5369, 'goodo': 3231, 'plm': 5258, 'omg': 4939, 'joanna': 3869, 'freaking': 3011, 'thru': 6870, 'myspace': 4687, 'logged': 4195, 'bothering': 1450, 'answers': 996, 'vijay': 7267, 'jaya': 3841, 'lasting': 4047, 'thout': 6859, 'wine': 7503, 'dine': 2339, 'admirer': 827, 'reveal': 5772, 'thinks': 6840, '09058094594': 183, 'silence': 6163, 'mrng': 4632, 'carlos': 1671, 'usf': 7210, 'tip': 6899, 'mum': 4662, 'yavnt': 7652, 'original': 5001, 'hai': 3330, 'present': 5397, 'rajitha': 5569, 'raj': 5566, 'ranju': 5585, 'cancel': 1639, 'key': 3953, 'window': 7500, 'splash': 6399, 'no1': 4810, '8077': 651, 'txting': 7088, 'mates': 4398, 'getzed': 3159, '36504': 456, 'w45wq': 7317, 'norm150p': 4831, 'relation': 5685, 'built': 1562, 'remains': 5695, 'atlast': 1131, 'iz': 3814, 'lonlines': 4210, 'lotz': 4237, 'memories': 4459, 'okey': 4926, 'dokey': 2416, 'four': 2998, 'supply': 6617, 'records': 5651, '09061104283': 189, 'smsco': 6265, '50pm': 550, 'approx': 1046, '3mins': 470, 'arms': 1077, 'bluetooth': 1411, 'call2optout': 1613, 'lf56': 4112, 'nah': 4696, 'crammed': 2064, 'shocking': 6108, 'scary': 5941, 'def': 2231, 'somewhere': 6311, 'crash': 2067, 'taxi': 6722, 'ron': 5822, 'ding': 2342, 'tai': 6688, 'feng': 2843, 'reservations': 5738, 'forwarding': 2995, 'proof': 5466, 'drivby': 2467, '0quit': 254, 'edrunk': 2548, 'iff': 3640, 'pthis': 5494, 'senrd': 6022, 'dnot': 2386, 'dancce': 2164, 'drum': 2480, 'basq': 1248, 'ihave': 3644, '2nhite': 410, 'ros': 5828, 'xxxxxxx': 7638, 'dileep': 2335, 'muchand': 4653, 'less': 4104, 'contacts': 1990, 'venugopal': 7251, 'mentioned': 4465, 'ubi': 7103, '67441233': 592, 'irene': 3780, 'ere': 2649, 'bus8': 1575, '22': 360, '65': 587, '61': 580, '66': 589, '382': 460, 'cres': 2084, 'tech': 6743, '6ph': 613, '5wkg': 574, 'èn': 7717, 'hun': 3587, 'comin': 1920, 'every1': 2690, 'ava': 1162, 'goodtime': 3233, 'oli': 4935, 'rang': 5582, 'melnite': 4453, 'ifink': 3641, 'mite': 4539, 'sorted': 6336, 'explain': 2751, 'everythin': 2697, 'l8rs': 4011, 'whos': 7476, 'yalrigu': 7646, 'heltini': 3446, 'iyo': 3813, 'kothi': 4002, 'chikku': 1784, 'body': 1419, 'uttered': 7217, 'trusting': 7045, 'these': 6825, 'london': 4205, 'treatin': 7022, 'treacle': 7017, 'possession': 5329, 'property': 5469, 'mmm': 4549, 'childish': 1786, '3510i': 453, 'deliveredtomorrow': 2249, '300': 431, 'poyyarikatur': 5352, 'kolathupalayam': 3997, 'unjalur': 7152, 'erode': 2653, 'birthdate': 1369, 'certificate': 1716, 'date': 2185, 'publish': 5497, 'wishes': 7518, 'greetings': 3276, 'consider': 1982, 'excused': 2725, 'ful': 3065, 'song': 6318, 'lyrics': 4290, 'turns': 7071, 'randomlly': 5579, '5min': 567, 'opening': 4968, '530': 560, 'tickets': 6882, 'each': 2518, 'reasons': 5628, 'frying': 3056, 'egg': 2563, '26th': 377, 'july': 3902, 'thkin': 6847, 'yogasana': 7678, 'nd': 4729, 'parco': 5088, 'nb': 4727, '88066': 703, 'lost': 4230, '3pound': 472, 'flaky': 2908, 'parent': 5089, 'snot': 6279, 'supposed': 6621, 'child': 1785, 'ride': 5787, 'unintentional': 7147, 'nonetheless': 4824, 'flew': 2916, 'figure': 2862, 'donno': 2425, 'genes': 3137, 'speaking': 6369, 'expression': 2758, 'naughty': 4723, 'sentiment': 6029, 'rowdy': 5837, 'attitude': 1143, 'attractive': 1145, 'funny': 3078, 'irritating': 3785, 'lazy': 4065, 'url': 7197, 'thts': 6873, 'birds': 1366, 'humans': 3586, 'natural': 4720, 'drinking': 2465, 'keeping': 3944, 'smiles': 6255, 'subscribed': 6563, '82324': 661, 'helpline': 3444, '08706091795': 89, 'fyi': 3086, 'crashing': 2069, 'bcaz': 1268, 'cann': 1643, 'whats': 7455, 'british': 1522, 'hotels': 3550, '350': 452, '02072069400': 11, 'bx': 1593, '526': 558, 'sw73ss': 6641, 'ten': 6762, 'breadstick': 1495, '2mro': 406, 'machan': 4307, 'umma': 7115, 'speed': 6377, 'pump': 5503, 'petrol': 5182, 'hook': 3526, 'ripped': 5799, 'clubmoby': 1866, '08717509990': 139, 'ringtones': 5796, 'games': 3100, 'downloads': 2445, 'calicut': 1609, 'maturity': 4410, 'understanding': 7134, 'small': 6243, 'loved': 4245, 'except': 2720, 'nit': 4804, 'pleased': 5253, 'inform': 3713, 'application': 1035, 'airtel': 891, 'broadband': 1526, 'processed': 5443, 'successfully': 6574, 'installation': 3735, 'mag': 4320, 'month': 4596, '24th': 369, 'sept': 6031, 'btw': 1548, 'regarding': 5676, 'else': 2587, 'commit': 1925, 'random': 5578, 'dude': 2494, 'wishin': 7519, 'gr8': 3252, 'poop': 5309, 'looks': 4217, 'fixed': 2902, 'gpu': 3251, 'gay': 3121, '08718730555': 149, '10p': 266, '08712460324': 117, 'wake': 7333, '3g': 464, 'videophones': 7265, '09063458130': 206, 'videochat': 7264, 'wid': 7484, 'java': 3839, 'dload': 2385, 'polyph': 5300, 'noline': 4820, 'rentl': 5713, 'woo': 7559, 'hoo': 3525, 'headache': 3405, 'balance': 1216, 'maximize': 4414, 'meg': 4447, 'cc': 1696, '08718720201': 143, 'hg': 3463, 'suite342': 6591, '2lands': 399, 'row': 5836, 'w1j6hl': 7314, 'falling': 2790, 'bcoz': 1273, 'force': 2969, 'fall': 2788, 'smeone': 6252, 'em': 2590, 'someplace': 6304, '08712400200': 106, 'starting': 6454, 'tscs': 7052, 'idew': 3633, 'skillgame': 6206, '1winaweek': 341, 'age16': 869, '150ppermesssubscription': 307, 'reason': 5627, 'team': 6737, 'available': 1164, 'unsold': 7163, 'base': 1241, 'murder': 4669, 'strict': 6526, 'teacher': 6733, 'teaches': 6735, 'conducts': 1961, 'exam': 2717, 'spent': 6386, 'phasing': 5186, 'fourth': 2999, 'dimension': 2337, '83600': 673, '114': 273, '14': 295, 'tcr': 6729, 'w1': 7310, 'entered': 2629, 'cabin': 1601, 'felt': 2841, 'askd': 1105, 'apartment': 1018, 'serving': 6041, 'heading': 3407, 'towards': 6989, 'prediction': 5380, 'lacking': 4017, 'particular': 5099, 'dramastorm': 2451, 'ben': 1325, 'booked': 1432, 'confirm': 1966, 'lodging': 4193, 'en': 2603, 'nange': 4708, 'bakra': 1215, 'kalstiya': 3927, 'maangalyam': 4303, 'alaipayuthe': 902, 'makin': 4341, 'weirdy': 7425, 'brownies': 1536, 'baaaaabe': 1196, 'misss': 4532, 'youuuuu': 7692, '09096102316': 247, 'xx': 7630, 'minmoremobsemspobox45po139wa': 4509, 'expert': 2747, 'nervous': 4758, 'pod': 5285, '80182': 648, 'std': 6468, '08452810073': 70, 'correctly': 2027, 'splashmobile': 6400, '1000s': 259, 'subscrition': 6569, 'costing': 2031, '300p': 435, 'kick': 3960, 'art': 1089, 'missions': 4531, 'smoothly': 6263, 'hoped': 3531, 'bother': 1449, 'bills': 1360, 'settle': 6045, 'challenging': 1721, 'ratio': 5590, 'needed': 4743, 'suntec': 6609, 'reached': 5606, 'unable': 7120, 'connect': 1975, 'space': 6356, 'invaders': 3761, 'orig': 5000, 'arcade': 1057, 'console': 1985, 'wap': 7357, 'terms': 6768, 'settings': 6044, 'purchase': 5509, 'contract': 1998, '200': 346, '09066361921': 226, 'begging': 1307, 'frens': 3025, 'fren': 3023, 'drove': 2476, 'skyped': 6214, 'kz': 4008, 'sura': 6624, 'given': 3179, 'ultimatum': 7113, 'countin': 2042, 'aburo': 776, '077xxx': 34, '09066362206': 227, '32000': 446, 'legitimat': 4092, 'efreefone': 2560, 'cook': 2010, 'whole': 7473, 'electricity': 2582, 'xchat': 7623, 'msgrcvdhg': 4639, 'ldn': 4068, 'download': 2444, 'movies': 4625, 'copies': 2017, 'minute': 4514, 'staff': 6435, 'telling': 6753, 'coulda': 2039, 'sapna': 5907, 'manege': 4358, 'hogidhe': 3501, 'chinnu': 1797, 'weak': 7391, 'swalpa': 6642, 'agidhane': 874, 'piece': 5213, 'bowl': 1457, '09066362220': 228, 'tat': 6718, 'vid': 7262, 'finishd': 2886, 'sary': 5915, 'tim': 6893, 'bollox': 1423, 'tol': 6940, 'mad': 4313, 'pending': 5149, 'works': 7571, 'veggie': 7246, 'yor': 7679, 'own': 5044, 'fucking': 3061, 'tank': 6710, 'stressed': 6521, 'depressed': 2268, 'thanksgiving': 6799, 'singles': 6182, 'christmassy': 1816, 'va': 7222, 'slave': 6218, 'bright': 1511, 'hill': 3473, 'monster': 4595, 'yr': 7697, 'chik': 1783, 'filthy': 2874, 'rply': 5841, 'filth': 2873, '69669': 596, 'saristar': 5913, 'ltd': 4267, 'e14': 2517, '9yt': 749, '08701752560': 81, '450p': 504, 'stop2': 6500, '6times': 616, 'liverpool': 4175, 'ansr': 992, 'tyrone': 7098, 'opposed': 4974, 'jackson': 3822, 'rec': 5634, '7ish': 635, 'str': 6512, 'lover': 4249, 'dear1': 2206, 'best1': 1332, 'clos1': 1853, 'lvblefrnd': 4287, 'jstfrnd': 3895, 'cutefrnd': 2144, 'lifpartnr': 4124, 'belovd': 1322, 'swtheart': 6666, 'bstfrnd': 1545, 'means': 4431, 'enemy': 2612, 'leg': 4090, 'musta': 4677, 'overdid': 5033, 'rounder': 5833, 'required': 5733, 'meets': 4446, 'cleared': 1844, 'birla': 1367, 'soft': 6289, 'relatives': 5687, 'meds': 4441, 'prescription': 5396, 'malaria': 4343, 'children': 1787, 'handle': 3348, 'worse': 7578, 'gastroenteritis': 3115, 'takes': 6694, 'replace': 5719, 'loss': 4229, 'temp': 6759, 'reduce': 5659, 'vomit': 7298, 'self': 6006, 'limiting': 4141, 'illness': 3652, 'completely': 1943, 'celebrate': 1705, 'ny': 4876, 'single': 6181, 'broke': 1527, 'guoyang': 3313, 'coveragd': 2054, 'vasai': 7238, 'clock': 1851, 'affidavit': 853, 'twiggs': 7078, 'st': 6432, 'division': 2379, 'courtroom': 2051, 'ho': 3499, 'matric': 4404, 'wrks': 7600, 'lmao': 4180, 'awww': 1184, 'lonely': 4207, 'notice': 4846, 'paying': 5133, 'inconsiderate': 3690, 'nag': 4694, 'recession': 5645, 'hence': 3448, 'ahead': 880, 'wats': 7381, '2p': 414, 'germany': 3149, '08448350055': 65, 'planettalkinstant': 5239, 'theory': 6820, 'isnt': 3794, 'issue': 3795, 'weigh': 7418, 'breathe': 1503, 'easier': 2527, 'congratulation': 1973, 'xmas': 7626, '0721072': 28, 'japanese': 3836, 'proverb': 5477, 'none': 4823, 'indian': 3702, 'version': 7254, 'strike': 6527, 'against': 866, 'mumhas': 4664, 'beendropping': 1299, 'red': 5656, 'theplace': 6821, 'adress': 833, 'drastic': 2453, 'sell': 6009, 'toledo': 6942, 'dint': 2346, 'advise': 842, 'following': 2951, 'recent': 5642, 'review': 5776, 'mob': 4560, '1500': 303, '09066364589': 232, 'defer': 2233, 'admission': 828, 'bx420': 1594, 'ip4': 3772, '5we': 573, 'student': 6537, 'discount': 2363, 'pull': 5500, 'case': 1680, 'confidence': 1964, 'management': 4352, 'campus': 1633, 'guessin': 3305, 'meal': 4426, 'link': 4150, 'dining': 2343, 'experiencehttp': 2745, 'vouch4me': 7302, 'etlp': 2672, 'asp': 1112, 'grandfather': 3261, 'expired': 2748, 'sleepin': 6220, 'ummmmmaah': 7118, 'algarve': 912, 'wipro': 7512, 'caught': 1691, 'broken': 1528, 'english': 2619, 'rgent': 5781, '1250': 286, '09071512433': 241, '050703': 18, 'csbcm4235wc1n3xx': 2102, 'callcost': 1615, 'mobilesvary': 4565, 'max': 4411, '447801259231': 500, '09058094597': 184, '1mega': 332, 'pixels': 5229, '3optical': 471, '5digital': 564, 'dooms': 2429, 'journey': 3889, 'hop': 3529, 'polys': 5302, 'eyes': 2767, 'philosophy': 5190, 'further': 3081, 'html': 3573, 'gbp4': 3126, 'mfl': 4482, '1146': 274, 'continent': 1996, 'fring': 3038, 'newspapers': 4781, 'luton': 4281, '0125698789': 8, 'ring': 5791, 'kid': 3964, 'boost': 1437, 'ahmad': 882, 'saeed': 5879, 'hallaq': 3340, 'checking': 1761, 'happening': 3364, 'grl': 3280, 'hogolo': 3503, 'gold': 3211, 'chain': 1719, 'kodstini': 3995, 'agalla': 867, 'necklace': 4739, 'madstini': 4318, 'hogli': 3502, 'mutai': 4679, 'eerulli': 2556, 'kodthini': 3996, 'kano': 3931, '5226': 555, 'hava': 3391, '1131': 272, 'confirmed': 1968, 'cultures': 2121, 'module': 4574, 'sends': 6020, 'guai': 3295, 'jogging': 3873, 'inpersonation': 3726, 'flea': 2914, 'forums': 2992, 'nobody': 4812, 'hypertension': 3609, 'wet': 7449, 'recd': 5635, 'msgs': 4640, 'vat': 7239, 'picked': 5205, 'downstem': 2448, 'accident': 784, 'a30': 752, 'divert': 2378, 'wadebridge': 7322, 'brilliant': 1513, 'divorce': 2380, 'storming': 6510, 'phne': 5191, 'knw': 3993, 'wt': 7607, 'meaning': 4428, 'margaret': 4371, 'girlfrnd': 3173, 'grahmbell': 3257, 'invnted': 3768, 'telphone': 6756, 'moral': 4602, '4get': 522, 'tear': 6739, 'falls': 2791, 'recently': 5643, '07099833605': 26, 'schedule': 5944, '9280114': 730, 'easily': 2529, 'forgets': 2976, 'valentines': 7226, 'hooked': 3527, 'flavour': 2913, 'stressful': 6522, 'holla': 3510, 'correct': 2025, 'roomate': 5824, 'graduated': 3256, 'couldn': 2040, 'pandy': 5070, 'yijue': 7674, 'gek1510': 3133, 'holy': 3513, 'living': 4177, 'christ': 1813, 'owe': 5041, 'sday': 5970, 'joined': 3876, 'training': 7001, 'spoken': 6407, 'hui': 3584, 'xin': 7625, 'lib': 4114, 'pence': 5147, '0844': 64, '861': 687, '85': 679, 'prepayment': 5391, 'telediscount': 6749, 'hot': 3548, 'air': 888, 'balloon': 1218, 'freemsg': 3019, '84025': 675, 'web2mobile': 7399, 'txt250': 7085, 'box139': 1460, 'la32wu': 4015, 'txtx': 7093, 'california': 1610, 'weather': 7397, 'representative': 5728, '0808': 59, '145': 298, '4742': 510, 'between': 1340, '9am': 744, '11pm': 278, 'hvae': 3606, '09061701444': 194, 'acl03530150pm': 798, 'manage': 4349, 'prakesh': 5368, 'scenario': 5942, 'decision': 2218, 'interested': 3748, 'purity': 5512, 'evng': 2705, 'form': 2983, 'clark': 1833, 'utter': 7216, 'evry': 2710, 'emotion': 2599, 'dsn': 2487, 'prayrs': 5376, 'othrwise': 5011, 'cab': 1600, 'steps': 6477, 'hurting': 3599, 'meaningful': 4429, 'lines': 4147, 'compromised': 1947, 'mornin': 4606, 'derp': 2272, 'files': 2866, 'complaint': 1939, 'three': 6862, 'drug': 2478, 'abusers': 778, 'lives': 4176, 'ndship': 4730, 'needle': 4745, 'itz': 3808, '4few': 520, 'seconds': 5981, 'alwys': 939, 'conected': 1962, '9t': 747, 'google': 3234, 'maps': 4366, 'dorm': 2432, 'swimming': 6659, 'pool': 5308, 'jacuzzi': 3823, 'plural': 5264, 'propose': 5470, 'kvb': 4007, 'acc': 780, 'showrooms': 6135, 'city': 1824, 'shaping': 6072, 'pounded': 5345, 'floppy': 2928, 'snappy': 6272, 'photo': 5198, 'upload': 7180, '08718730666': 150, '08715500022': 132, 'rpl': 5840, 'cnl': 1874, 'vl': 7291, 'bcum': 1274, 'difficult': 2328, 'din': 2338, 'costs': 2032, 'risks': 5802, 'benefits': 1328, 'mayb': 4417, 'liked': 4132, 'faster': 2809, 'gals': 3096, 'group': 3286, 'attached': 1136, 'burns': 1572, 'jos': 3888, 'wana': 7350, 'hmm': 3493, 'bits': 1376, 'sighs': 6155, 'costumes': 2034, 'their': 6812, 'yowifes': 7695, 'hint': 3477, 'misbehaved': 4520, 'slap': 6217, 'urself': 7200, 'fault': 2816, 'basically': 1245, 'hesitate': 3458, 'weakness': 7392, 'notebook': 4842, 'cud': 2116, 'ppl': 5353, 'gona': 3217, 'l8': 4009, 'buses': 1576, 'gon': 3216, 'waitin': 7331, 'pete': 5180, 'nevering': 4770, 'away': 1180, 'slowly': 6239, 'kills': 3970, 'food': 2959, 'ing': 3717, 'tuesday': 7060, 'express': 2757, 'seperated': 6030, '〨ud': 7719, 'starve': 6456, 'pound': 5344, 'faith': 2783, '07008009200': 22, 'collecting': 1902, 'configure': 1965, 'izzit': 3815, 'antibiotic': 1002, 'used': 7205, 'abdomen': 760, 'gynae': 3322, 'infections': 3709, 'bone': 1426, 'intentions': 3746, 'yetunde': 7670, 'moji': 4577, 'forgive': 2977, 'yahoo': 7645, 'messenger': 4478, 'fantasy': 2803, 'football': 2964, 'sky': 6211, 'gamestar': 3101, 'active': 808, '250k': 372, 'scoring': 5953, 'register': 5678, '88088': 704, 'roads': 5807, 'slippery': 6232, 'bitch': 1373, 'loans': 4185, 'approve': 1044, 'panalam': 5068, 'posts': 5339, 'laid': 4025, 'conveying': 2006, 'ese': 2663, 'erm': 2652, 'woodland': 7560, 'avenue': 1170, 'parish': 5092, 'magazine': 4322, 'telephone': 6750, '09058094454': 178, 'nasty': 4711, 'cough': 2036, 'shot': 6122, 'aiyah': 893, 'entertain': 2631, 'sized': 6201, 'enjoying': 2623, 'stressfull': 6523, 'laugh': 4054, 'adds': 822, 'swt': 6665, 'sweets': 6656, 'tessy': 6775, 'favor': 2819, 'nimya': 4802, 'shijas': 6090, 'accidentally': 785, 'deleted': 2245, 'resend': 5736, 'necessarily': 4736, 'headin': 3406, 'copied': 2016, 'di': 2304, 'prospects': 5474, 'bleak': 1389, 'filled': 2868, 'torture': 6976, 'england': 2618, 'rule': 5856, 'tamilnadu': 6708, 'luck': 4270, 'gumby': 3312, 'mini': 4506, 'cheetos': 1769, 'received': 5640, 'understood': 7135, 'acted': 802, 'upon': 7182, 'iron': 3782, 'ma': 4301, 'ashley': 1100, 'cooking': 2013, 'tallent': 6707, 'wasting': 7370, 'ru': 5848, 'dates': 2187, 'walkabout': 7337, 'esplanade': 2667, 'realized': 5621, 'embarassed': 2593, 'accomodations': 788, 'seemed': 5997, 'cave': 1694, 'offered': 4905, 'embarassing': 2594, 'concentration': 1956, 'spaces': 6358, 'embassy': 2596, 'hiya': 3487, 'hlday': 3489, 'camp': 1632, 'amrca': 958, 'serena': 6033, 'manky': 4361, 'scouse': 5957, 'steve': 6480, 'travelling': 7016, 'inmind': 3721, 'recreation': 5654, 'sathya': 5920, 'axis': 1187, 'ikea': 3646, 'signal': 6158, 'neither': 4756, 'unusual': 7170, 'hugs': 3582, 'snogs': 6277, 'constant': 1986, 'definitely': 2236, 'excuses': 2726, 'include': 3685, 'mcfly': 4423, 'ab': 758, 'sara': 5909, 'jorge': 3887, 'shock': 6107, 'smith': 6258, 'follow': 2948, 'instructions': 3741, 'jabo': 3818, 'pic': 5203, '4u': 536, 'intend': 3744, 'iwas': 3812, 'marine': 4373, 'itried2tell': 3803, 'urmom': 7198, 'careabout': 1661, '5p': 569, 'alfie': 911, 'm8s': 4299, 'charity': 1740, 'nokias': 4819, 'zed': 7711, '08701417012': 77, 'profit': 5451, 'usually': 7214, 'stops': 6506, 'entertaining': 2632, 'hugh': 3581, 'laurie': 4058, 'stick': 6484, 'difficulties': 2329, 'passport': 5113, 'working': 7569, 'business': 1577, 'pray': 5373, 'summers': 6599, 'flirt': 2923, 'matched': 4395, 'optout': 4982, 'help08714742804': 3440, 'apps': 1047, 'naked': 4698, '69698': 598, '150pm': 306, 'ou': 5013, '40gb': 487, 'mp3': 4628, '83355': 669, 'ibhltd': 3614, 'ldnw15h': 4069, 'mtmsgrcvd18': 4648, 'andre': 971, 'virgil': 7277, 'cream': 2075, 'simpler': 6171, 'magical': 4324, 'europe': 2677, '10th': 268, '09050000555': 167, 'ba128nnfwfly150ppm': 1195, '15pm': 313, 'taunton': 6721, 'lect': 4086, 'sun': 6601, 'earth': 2526, 'cloud': 1861, 'river': 5805, 'fair': 2782, 'surfing': 6628, 'sells': 6011, '4d': 518, 'closes': 1857, 'sleepwell': 6223, 'covers': 2055, 'trends': 7026, 'pros': 5473, 'cons': 1979, 'brief': 1510, 'description': 2274, 'nuclear': 4862, 'fusion': 3082, 'iter': 3801, 'jet': 3860, 'reception': 5644, 'letter': 4109, 'wifi': 7488, 'blanked': 1385, 'destination': 2285, 'hopeso': 3533, 'amnow': 951, 'feelin': 2833, 'ithink': 3802, 'tonsolitusaswell': 6960, 'layin': 4062, 'bedreal': 1293, 'lotsof': 4235, 'xxxx': 7635, 'eng': 2614, 'rocking': 5813, 'ashes': 1099, 'prevent': 5409, 'dehydration': 2241, 'fluids': 2934, 'contacted': 1989, '09050000928': 169, 'pobox45w2tg150p': 5277, 'sorta': 6335, 'blown': 1409, 'impossible': 3671, 'ahhhh': 881, 'woken': 7547, 'morphine': 4609, 'gimme': 3169, 'strt': 6531, 'netcollex': 4761, 'ltdhelpdesk': 4268, '02085076972': 13, 'nutter': 4870, 'cutter': 2146, 'ctter': 2111, 'cttergg': 2112, 'cttargg': 2110, 'ctargg': 2108, 'ctagg': 2107, 'ie': 3638, 'eviction': 2702, 'spiral': 6393, 'michael': 4485, 'riddance': 5785, 'headset': 3409, 'adp': 832, 'thnk': 6849, 'conference': 1963, 'slept': 6225, 'thinkthis': 6841, 'dangerous': 2170, 'honestly': 3518, 'cup': 2125, 'promptly': 5464, 'dropped': 2475, 'keys': 3955, 'burnt': 1573, 'fingers': 2884, 'yuou': 7706, 'spot': 6416, 'worlds': 7573, 'discreet': 2364, 'vip': 7275, '83110': 664, 'excuse': 2724, 'returned': 5768, 'hardly': 3374, 'vote': 7301, 'caring': 1669, 'losers': 4226, '09050005321': 173, 'merely': 4468, 'relationship': 5686, 'promise': 5459, 'wherevr': 7463, 'whenevr': 7460, 'forevr': 2973, 'gudnyt': 3301, 'ball': 1217, 'moving': 4627, 'spin': 6391, 'bat': 1249, 'dom': 2420, 'roger': 5817, 'progress': 5454, 'continue': 1997, 'secure': 5988, 'south': 6350, 'chill': 1790, 'torch': 6973, 'lolnice': 4203, 'fish': 2896, 'receipts': 5637, 'pendent': 5148, 'hide': 3467, 'anythiing': 1009, 'distance': 2372, 'whom': 7474, 'satanic': 5918, 'imposter': 3672, 'destiny': 2286, 'face': 2771, 'status': 6462, 'frequently': 3026, 'nuerologist': 4863, 'concentrate': 1955, 'educational': 2550, 'career': 1663, '7pm': 638, 'cancelled': 1641, 'musthu': 4678, 'restrictions': 5760, 'buddys': 1553, '80082': 644, 'loxahatchee': 4258, 'tree': 7025, 'burning': 1571, 'totally': 6982, 'hotel': 3549, 'invitation': 3765, 'apologise': 1025, 'cali': 1608, 'weddin': 7404, 'planned': 5240, 'debating': 2210, 'sexiest': 6051, 'dirtiest': 2353, '89070': 712, 'goin2bed': 3208, 'only1more': 4954, 'computerless': 1951, 'oreo': 4995, 'truffles': 7041, 'model': 4572, 'ericson': 2650, 'der': 2270, 'luks': 4276, 'modl': 4573, 'tog': 6933, 'size': 6200, 'elephant': 2583, 'shove': 6128, 'um': 7114, 'bcums': 1275, 'seriously': 6036, 'deep': 2226, 'affection': 850, 'kettoda': 3952, 'manda': 4354, 'rightio': 5789, '48': 512, 'arent': 1062, 'tool': 6963, 'mths': 4645, 'flash': 2910, 'lions': 4156, 'lionm': 4154, 'lionp': 4155, '3gbp': 465, 'posted': 5336, 'picture': 5210, 'alto18': 936, 'wave': 7383, '44345': 498, 'punto': 5508, 'woulda': 7587, 'enufcredeit': 2641, 'tocall': 6928, 'ileave': 3650, 'uni': 7144, 'gurl': 3314, 'appropriate': 1043, 'dessert': 2284, 'thnx': 6850, 'sup': 6610, 'sed': 5990, 'mood': 4600, 'minuts': 4516, 'latr': 4053, 'cake': 1604, 'upto': 7185, '12mths': 290, '2price': 415, '100txt': 262, 'mth': 4644, '08001950382': 53, '2optout': 413, 'd3wv': 2152, 'connection': 1977, 'refund': 5670, 'burgundy': 1569, 'captaining': 1654, 'boat': 1417, 'marry': 4381, 'stink': 6489, 'theres': 6824, 'chick': 1780, 'huge': 3580, 'boobs': 1430, 'pattern': 5122, 'emerging': 2597, 'fiend': 2854, 'impede': 3667, 'hesitant': 3457, 'feathery': 2825, 'bowa': 1456, 'evaporated': 2679, 'violated': 7272, 'privacy': 5425, 'stealing': 6472, 'employer': 2601, 'paperwork': 5081, 'report': 5727, 'supervisor': 6614, '449050000301': 502, '09050000301': 164, 'comprehensive': 1946, 'soiree': 6291, 'difference': 2325, 'keeps': 3945, 'nyt': 4879, 'freak': 3009, 'waited': 7330, 'inside': 3731, 'regular': 5682, 'monkey': 4589, 'asshole': 1116, 'textpod': 6790, 'habit': 3324, 'bari': 1234, 'hudgi': 3578, 'yorge': 7680, 'pataistha': 5117, 'ertini': 2657, 'tirupur': 6904, 'hand': 3345, 'jetton': 3861, 'ave': 1167, 'qet': 5528, 'transport': 7010, 'problematic': 5435, 'definite': 2235, 'nos': 4836, 'runs': 5863, 'delay': 2243, 'select': 6003, 'added': 817, 'trained': 7000, 'advisors': 844, 'dialling': 2306, '402': 483, 'sleepy': 6224, 'justbeen': 3911, 'overa': 5032, 'brains': 1485, 'mush': 4672, 'spageddies': 6359, 'laughing': 4056, 'hurry': 3597, 'hell': 3433, 'impressed': 3674, 'funs': 3079, '2morro': 403, 'term': 6766, 'passion': 5111, '09099726481': 251, 'dena': 2256, 'bucks': 1550, 'cheaper': 1753, 'machines': 4308, 'kilos': 3971, 'heater': 3423, 'degrees': 2239, 'weekends': 7415, '09064017295': 211, 'k52': 3916, 'kisses': 3981, 'sabarish': 5873, 'table': 6679, 'eight': 2567, 'sender': 6018, 'hustle': 3602, 'forth': 2989, 'moved': 4622, 'harlem': 3375, 'hont': 3524, 'shoppin': 6112, 'restrict': 5759, 'likes': 4134, 'middle': 4487, 'side': 6153, 'perf': 5156, 'er': 2648, 'mw': 4681, 'tuth': 7072, 'omw': 4940, 'west': 7444, 'palm': 5066, 'belive': 1317, 'breather': 1504, 'granted': 3264, 'fulfil': 3066, 'blessing': 1392, 'crying': 2100, 'building': 1561, 'imprtant': 3678, 'tomorw': 6951, 'olowoyey': 4937, 'usc': 7203, 'edu': 2549, 'argentina': 1066, 'secretary': 5983, 'networks': 4767, 'math': 4399, 'seems': 5998, 'unnecessarily': 7159, 'hostile': 3547, 'blank': 1384, 'serious': 6035, 'gage': 3090, 'deck': 2220, 'cnupdates': 1876, 'newsletter': 4780, 'alerts': 908, 'lighters': 4128, 'film': 2871, 'gobi': 3202, 'bottle': 1451, 'amused': 962, 'joking': 3882, 'ym': 7675, 'tm': 6915, 'smart': 6245, 'weightloss': 7421, 'ebay': 2538, 'different': 2327, 'charles': 1741, 'tis': 6905, 'luvs': 4283, 'praying': 5375, '08708800282': 96, 'hon': 3516, 'prashanthettan': 5372, 'passed': 5109, 'police': 5294, 'toilet': 6936, 'stolen': 6494, 'cops': 2019, 'literally': 4169, 'dubsack': 2491, 'plenty': 5257, 'meh': 4449, 'confuses': 1971, 'depends': 2266, 'financial': 2879, '08712402972': 113, 'printed': 5420, 'upstairs': 7184, 'spell': 6381, 'pei': 5145, 'onwards': 4958, 'gain': 3092, 'callin': 1623, 'sozi': 6354, 'culdnt': 2120, 'talkbut': 6700, 'wannatell': 7352, 'wenwecan': 7436, 'properly': 5468, '85222': 683, 'winnersclub': 7508, '84': 674, 'gbp1': 3125, 'revealing': 5774, 'premier': 5386, '0578': 19, 'minimum': 4507, '3miles': 469, 'shade': 6059, 'harder': 3372, 'nbme': 4728, 'forgiven': 2978, 'shun': 6144, 'bian': 1349, 'glass': 3185, 'exhibition': 2733, '09065174042': 219, '07821230901': 40, 'comingdown': 1922, 'fwiw': 3085, 'afford': 854, 'apparently': 1028, 'norm': 4830, '15': 301, 'julianaland': 3901, 'oblivious': 4888, 'constantly': 1987, 'ear': 2520, 'upset': 7183, 'surprised': 6631, 'bud': 1551, 'invention': 3762, 'fly': 2938, 'grr': 3291, 'pharmacy': 5185, 'sang': 5902, 'uptown': 7186, '80': 640, 'elaborating': 2575, 'safety': 5882, 'aspects': 1113, 'issues': 3796, 'yest': 7666, 'wondering': 7556, '2years': 427, 'strain': 6515, 'dime': 2336, 'practical': 5360, 'ba': 1194, 'dao': 2171, 'total': 6981, 'quarter': 5534, 'billed': 1358, 'shortcode': 6118, '83332': 667, '08081263000': 60, 'refunded': 5671, 'blind': 1395, 'rodds1': 5815, 'aberdeen': 762, 'united': 7150, 'kingdom': 3976, 'img': 3660, 'icmb3cktz8r7': 3625, 'mandy': 4356, 'sullivan': 6593, 'hotmix': 3552, 'fm': 2941, 'chosen': 1811, '00': 0, 'easter': 2532, '09041940223': 163, '29': 384, '05': 17, 'transferred': 7008, 'monkeys': 4591, 'certainly': 1715, 'wud': 7612, 'annoyin': 986, 'rewarding': 5779, 'wnt': 7544, 'tlk': 6913, 'brought': 1534, 'enjoyin': 2622, 'indians': 3703, 'sall': 5892, 'hehe': 3429, 'shexy': 6087, 'hppnss': 3569, 'sorrow': 6331, 'goodfriend': 3224, 'cocksuckers': 1885, 'ipads': 3775, 'worthless': 7581, 'garbage': 3108, 'novelty': 4853, 'wanting': 7355, 'ana': 965, 'tomarrow': 6946, 'sathy': 5919, 'rto': 5847, 'cme': 1871, 'hos': 3542, '2morow': 402, 'plans': 5242, 'buyers': 1586, 'limping': 4143, 'followed': 2949, 'aa': 753, 'exhaust': 2731, 'hanging': 3356, 'repairs': 5716, 'ovulation': 5039, 'followin': 2950, 'northampton': 4835, 'afraid': 856, 'skyving': 6215, 'practising': 5364, 'curtsey': 2133, 'swhrt': 6658, 'dey': 2299, '2day': 389, 'wrkin': 7598, 'goodmate': 3226, 'asusual': 1125, 'cheered': 1765, 'franyxxxxx': 3007, 'wisheds': 7517, 'sef': 6000, 'meanwhile': 4433, 'anjie': 978, 'dave': 2191, '09061743806': 198, 'tcs': 6730, 'box326': 1463, 'alex': 910, 'nichols': 4787, 'siva': 6198, 'hostel': 3546, 'aha': 879, 'such': 6575, 'sight': 6156, 'dressed': 2461, 'white': 7469, 'oooooh': 4962, 'snow': 6280, 'grand': 3260, 'prix': 5427, 'xxxmobilemovieclub': 7634, 'qjkgighjjgcbl': 5531, 'problems': 5436, '2yrs': 429, 'swoop': 6664, 'picking': 5206, 'action': 805, '80608': 650, 'movietrivia': 4626, '08712405022': 116, '2007': 352, 'tour': 6988, 'pre': 5377, '81303': 655, 'trackmarque': 6995, 'vipclub4u': 7276, 'board': 1416, 'overheating': 5036, 'reslove': 5744, 'inst': 3733, 'hate': 3384, 'messaged': 4474, 'folks': 2947, 'community': 1927, 'package': 5053, 'programs': 5453, 'female': 2842, 'throwing': 6868, 'spys': 6426, 'mails': 4333, 'blimey': 1394, 'exercise': 2729, 'kinda': 3973, 'tncs': 6924, 'ldew': 4067, 'win150ppmx3age16': 7498, 'receivea': 5639, '09061701461': 195, 'kl341': 3985, 'pongal': 5303, 'created': 2076, 'gap': 3105, 'fills': 2870, 'gaps': 3106, 'varaya': 7234, 'elaya': 2578, 'pleasured': 5256, 'unbelievable': 7121, 'faglord': 2777, 'pouch': 5343, 'vodafone': 7293, '09061743386': 197, 'miserable': 4521, 'wan2': 7349, 'greet': 3274, 'westlife': 7446, 'm8': 4298, 'unbreakable': 7122, 'untamed': 7168, 'unkempt': 7153, '83049': 663, 'neighbors': 4754, 'blastin': 1388, 'tsunamis': 7056, 'occur': 4893, 'rajnikant': 5570, 'ocean': 4895, 'panic': 5071, 'surrender': 6632, 'supose': 6615, 'babysit': 1202, 'jazz': 3844, 'hip': 3478, 'xam': 7621, 'hall': 3339, 'hesitation': 3459, 'silently': 6165, 'intha': 3756, 'ponnungale': 5304, 'ipaditan': 3774, 'shortly': 6120, 'simpsons': 6173, 'released': 5689, 'band': 1220, 'died': 2319, 'green': 3273, 'massages': 4389, 'oil': 4921, 'alle': 921, 'mone': 4586, 'eppolum': 2646, 'pole': 5293, 'allalo': 919, 'fan': 2797, 'outsider': 5026, 'prince': 5417, 'charming': 1743, 'buffet': 1557, 'brah': 1481, 'brolly': 1529, '2mrw': 407, 'franxx': 3006, 'computers': 1952, 'iq': 3778, 'msn': 4641, 'hotmail': 3551, '08719839835': 159, 'mgs': 4483, 'daily': 2160, '89123': 715, 'otherwise': 5010, 'colours': 1909, 'euro': 2674, '2004': 349, 'flag': 2906, '3lions': 467, 'themob': 6816, 'gossip': 3239, 'sport': 6412, 'fit': 2898, 'funky': 3077, '82468': 662, 'remind': 5701, 'gf': 3160, 'technical': 6744, 'process': 5442, 'networking': 4766, 'field': 2852, 'wkend': 7533, 'terrible': 6770, 'marking': 4377, 'rob': 5809, 'mack': 4310, 'theater': 6810, 'zhong': 7713, 'se': 5972, 'qing': 5530, 'act': 801, 'ew': 2713, 'cutting': 2147, 'mmmmm': 4551, 'waking': 7334, 'sipix': 6185, 'digital': 2332, '09061221061': 192, '28days': 381, 'box177': 1461, 'm221bp': 4292, '2yr': 428, 'warranty': 7363, '99': 741, 'convinced': 2008, 'conversations': 2002, 'senses': 6024, 'respect': 5748, 'overemphasise': 5035, 'roommates': 5826, 'ideal': 3629, 'path': 5118, 'appear': 1030, 'front': 3053, 'paths': 5120, 'walking': 7340, 'arngd': 1079, 'marriage': 4379, 'walkin': 7339, 'unfortuntly': 7141, 'snake': 6270, 'bites': 1375, 'frnt': 3047, 'sayin': 5935, 'bite': 1374, 'spirit': 6394, 'jade': 3825, 'paul': 5124, 'barmed': 1236, 'shanghai': 6069, '21st': 359, 'cya': 2150, 'castor': 1686, 'tht': 6872, 'incident': 3684, 'explicitly': 2753, 'nora': 4828, 'probs': 5440, 'improved': 3677, 'dogging': 2408, 'reunion': 5771, 'wallet': 7343, 'nimbomsons': 4801, 'clarify': 1832, 'ticket': 6881, 'preponed': 5392, 'shite': 6100, 'kip': 3979, 'stalking': 6439, 'endowed': 2609, 'inches': 3683, 'evey': 2701, 'mnth': 4556, 'wi': 7480, 'nz': 4881, 'ummifying': 7116, '85023': 681, 'savamob': 5928, 'member': 4455, '08717898035': 141, 'sub': 6554, 'cutest': 2145, 'biz': 1377, 'polo': 5295, 'suite': 6590, '373': 458, 'w1j': 7313, '6hl': 608, 'fundamentals': 3074, 'whoever': 7472, 'optin': 4980, 'subscriber': 6564, 'receipt': 5636, '80062': 642, 'bbc': 1263, 'charts': 1745, 'uploaded': 7181, 'onluy': 4952, 'matters': 4407, 'offcampus': 4903, 'cine': 1821, 'bathe': 1253, 'arrange': 1083, 'annoncement': 983, '07046744435': 23, 'firsg': 2894, 'dealing': 2204, 'daddy': 2157, 'shu': 6140, 'singapore': 6179, 'sindu': 6177, 'fringe': 3039, 'science': 5947, 'chocolate': 1803, 'melt': 4454, 'sunlight': 6604, 'washob': 7366, 'nobbing': 4811, 'nickey': 4789, 'platt': 5244, 'hiding': 3469, 'stranger': 6517, 'afternon': 859, 'interviews': 3754, 'passionate': 5112, 'interesting': 3749, '09090204448': 242, 'minded': 4502, 'minapn': 4500, 'ls278bb': 4264, 'shld': 6105, 'kaiez': 3920, 'hiphop': 3479, 'route': 5835, 'cal': 1606, 'bhaskar': 1347, 'wrongly': 7604, 'blur': 1414, 'yellow': 7661, 'misscall': 4526, 'frndz': 3046, '6missed': 611, 'lovers': 4251, 'becz': 1290, 'undrstndng': 7138, 'avoids': 1174, 'suffer': 6582, 'wiskey': 7522, 'brandy': 1488, 'rum': 5857, 'gin': 3171, 'beer': 1300, 'vodka': 7294, 'scotch': 5954, 'shampain': 6067, 'kudi': 4005, 'yarasu': 7650, 'dhina': 2301, 'vaazhthukkal': 7223, 'diddy': 2314, 'neighbor': 4753, 'toothpaste': 6967, 'argument': 1070, 'wins': 7510, 'loses': 4227, 'argue': 1068, 'tbs': 6727, 'persolvo': 5169, 'chasing': 1747, '38': 459, 'kath': 3936, 'manchester': 4353, 'raining': 5563, 'kane': 3929, 'shud': 6141, 'sometime': 6308, '09065394514': 220, 'otside': 5012, 'nw': 4874, 'raji': 5567, 'favour': 2821, 'lifetime': 4123, 'meaningless': 4430, 'sue': 6581, 'lapdancer': 4041, '89555': 717, 'textoperator': 6789, 'g2': 3087, '1da': 328, '150ppmsg': 309, 'ceri': 1714, 'rebel': 5631, 'dreamz': 2459, 'buddy': 1552, 'blokes': 1401, 'woul': 7585, 'curfew': 2128, 'gibe': 3163, 'getsleep': 3155, 'studdying': 6536, 'syllabus': 6668, 'although': 935, 'baig': 1212, 'watches': 7374, 'touched': 6985, 'hero': 3453, 'apt': 1052, 'activate': 807, 'conditions': 1960, '07781482378': 32, 'rahul': 5560, 'dengra': 2257, 'logoff': 4199, 'tp': 6993, 'mrt': 4633, 'tactful': 6683, 'apples': 1034, 'pairs': 5064, 'malarky': 4344, 'maths': 4402, 'chapter': 1734, 'sweater': 6650, 'mango': 4359, 'minus': 4513, 'paragraphs': 5085, '1030': 263, 'ey': 2764, 'calm': 1627, 'downon': 2446, 'theacusations': 6809, 'itxt': 3807, 'iwana': 3811, 'wotu': 7583, 'thew': 6829, 'haventcn': 3397, 'ages': 873, 'up4': 7172, 'nething': 4763, 'pocay': 5281, 'wocay': 7545, '4eva': 519, '2morrowxxxx': 405, 'uncles': 7125, 'atlanta': 1130, 'whore': 7475, 'senthil': 6028, 'apnt': 1022, '5pm': 570, 'fran': 3003, 'ps': 5484, 'dirty': 2354, 'anal': 966, 'gang': 3104, 'bang': 1222, 'result': 5762, 'ad': 813, 'indicate': 3704, 'compensation': 1934, 'convincing': 2009, 'neglect': 4751, 'miracle': 4517, 'jesus': 3859, 'blessed': 1391, 'masters': 4392, 'step': 6476, 'outta': 5029, 'spun': 6425, 'wrld': 7601, 'sofa': 6288, 'nytho': 4880, 'tx': 7083, 'fonin': 2958, '2mwen': 408, 'bk': 1378, 'frmcloud': 3041, 'owl': 5043, 'licks': 4117, 'running': 5862, 'admit': 829, 'correction': 2026, 'quiet': 5544, 'beth': 1335, 'charlie': 1742, 'helen': 3432, 'flies': 2917, 'pin': 5221, 'clas': 1834, 'jd': 3846, 'accounts': 792, 'executive': 2728, 'adsense': 836, 'approved': 1045, 'truly': 7042, 'gbp': 3124, 'unlike': 7156, 'docs': 2394, 'patients': 5121, 'turkeys': 7067, 'tmorrow': 6918, 'accomodate': 787, 'annoying': 987, 'matter': 4406, 'shipped': 6096, 'providing': 5480, 'assistance': 1117, 'sporadically': 6411, 'bc': 1267, 'alcohol': 905, 'safely': 5881, 'deduct': 2225, 'earn': 2523, '078': 35, 'jp': 3892, 'mofo': 4576, 'downs': 2447, 'fletcher': 2915, 'hsbc': 3572, 'milk': 4495, 'magic': 4323, 'ibored': 3618, 'pride': 5415, 'takin': 6695, 'deal': 2202, 'grownup': 3290, 'railway': 5561, 'flurries': 2936, 'ground': 3285, 'eek': 2554, 'born': 1443, 'sports': 6413, 'fans': 2800, '0870141701216': 79, '4txt': 535, '120p': 281, 'placed': 5232, '850': 680, 'toa': 6926, 'payoh': 5136, '650': 588, '07090201529': 24, 'idk': 3635, 'parking': 5096, 'bawling': 1260, 'failure': 2780, 'failing': 2779, 'voicemail': 7296, '08719181513': 158, 'stayin': 6465, '2getha': 394, 'official': 4909, 'yer': 7664, 'tonights': 6957, '84199': 678, 'box39822': 1467, 'w111wx': 7311, 'strange': 6516, 'performed': 5159, 'lecture': 4087, '09090900040': 243, 'extreme': 2763, 'sic': 6150, '60p': 579, '7mp': 636, '0870753331018': 93, 'guides': 3309, 'gifts': 3166, 'throw': 6867, 'cliff': 1849, 'hamster': 3344, '1pm': 334, 'drinks': 2466, '2morrow': 404, 'champ': 1722, 'glasgow': 3184, 'yourjob': 7689, 'ure': 7189, 'llspeak': 4179, 'soonlots': 6325, 'aptitude': 1053, '0776xxxxxxx': 31, '18yrs': 323, 'cts': 2109, 'employee': 2600, 'cousin': 2052, 'crazy': 2073, 'spree': 6420, '80878': 652, 'level': 4111, 'series': 6034, 'gower': 3250, 'wales': 7335, 'morrow': 4610, 'honeybee': 3521, 'sweetest': 6653, 'laughed': 4055, 'havnt': 3401, 'crack': 2062, 'jokes': 3880, 'roommate': 5825, 'finishes': 2888, '30ish': 438, 'alibi': 915, 'brand': 1487, 'install': 3734, 'browse': 1537, 'artists': 1090, 'spontaneously': 6408, 'goodevening': 3223, 'forum': 2991, 'fb': 2823, 'jaykwon': 3842, 'thuglyfe': 6874, 'falconerf': 2787, 'bmw': 1415, 'urgently': 7192, 'vry': 7306, 'hv': 3604, 'shortage': 6116, 'lacs': 4018, 'source': 6348, 'arng': 1078, 'amt': 961, '89545': 716, '087187262701': 145, '50gbp': 546, 'mtmsg18': 4647, 'monthly': 4597, '6months': 612, 'finishing': 2889, 'gravity': 3268, 'carefully': 1666, 'heavy': 3425, '30th': 441, 'areyouunique': 1065, 'cartons': 1678, 'shelves': 6084, 'ummma': 7117, 'tacos': 6682, '09061213237': 191, '177': 318, 'm227xy': 4293, 'realize': 5620, 'spice': 6388, 'wlcome': 7539, 'lion': 4153, 'auto': 1160, 'sing': 6178, 'morn': 4605, 'cheyyamo': 1776, 'dentist': 2260, 'spook': 6409, 'halloween': 3341, 'logo': 4198, 'eerie': 2555, '08701417012150p': 78, 'shhhhh': 6088, 'bbq': 1266, '6ish': 610, 'pose': 5324, 'comb': 1913, 'dryer': 2486, 'non': 4821, 'shanil': 6070, 'exchanged': 2721, 'uncut': 7130, 'diamond': 2307, 'excellent': 2719, 'dino': 2345, 'prem': 5384, 'screamed': 5963, 'infact': 3708, 'grinule': 3279, '95': 736, 'pax': 5127, 'deposit': 2267, 'draws': 2455, '09058094565': 181, 'xy': 7641, 'flying': 2939, 'ne': 4731, 'wknd': 7537, 'hor': 3536, 'thankyou': 6801, 'beneath': 1326, 'pale': 5065, 'goodnite': 3229, 'hopefully': 3532, 'note': 4841, 'exposed': 2755, 'vomiting': 7300, 'cat': 1688, 'fact': 2773, 'tee': 6745, 'twenty': 7076, 'durham': 2507, 'reserved': 5740, '2nights': 411, 'uve': 7219, 'uks': 7111, 'wildest': 7493, 'velly': 7249, 'temales': 6758, 'subpoly': 6559, '81618': 656, '08718727870': 147, 'centre': 1711, 'dual': 2489, 'sim': 6168, 'bhaji': 1346, 'kallis': 3926, 'cricketer': 2086, 'weird': 7422, 'height': 3430, 'recycling': 5655, 'earning': 2524, 'increase': 3693, 'winning': 7509, 'stretch': 6524, 'abj': 766, 'partner': 5102, 'flyng': 2940, 'horo': 3539, 'star': 6446, 'aries': 1072, '1000call': 258, '09071512432': 240, '300603t': 434, 'callcost150ppmmobilesvary': 1616, 'epi': 2645, 'stress': 6520, 'marvel': 4384, 'ultimate': 7112, 'spider': 6389, '83338': 668, '8ball': 720, 'wallpaper': 7344, '08714712412': 125, '10am': 264, 'obey': 4885, 'famous': 2796, 'unconditionally': 7126, 'losing': 4228, 'temper': 6760, 'interview': 3753, 'accommodation': 786, 'various': 7235, 'global': 3187, 'locations': 4189, 'phb1': 5187, 'ph': 5184, '08700435505150p': 73, 'sparkling': 6366, 'breaks': 1501, '45': 503, '0121': 5, '2025050': 354, 'shortbreaks': 6117, 'org': 4996, 'lobby': 4186, 'dearly': 2208, 'posh': 5325, 'chaps': 1733, 'trial': 7027, 'prods': 5444, 'champneys': 1724, 'dob': 2389, 'plane': 5237, 'wrking': 7599, 'shitload': 6103, 'diamonds': 2308, 'fifteen': 2856, 'concerned': 1957, 'pig': 5216, 'spoons': 6410, 'listed': 4162, 'aaooooright': 756, 'lock': 4191, 'keypad': 3954, '2marrow': 400, 'fffff': 2848, 'kadeem': 3919, 'lingo': 4149, 'build': 1560, 'snowman': 6283, 'angels': 974, 'snowball': 6281, 'fights': 2861, 'bathroom': 1255, 'cleaning': 1842, 'priority': 5423, 'cherish': 1773, 'cheat': 1754, 'fatty': 2815, 'natalja': 4716, '440': 496, 'nat27081980': 4713, 'langport': 4037, 'ttyl': 7058, 'gate': 3116, 'uh': 7107, 'mathews': 4401, 'tait': 6689, 'edwards': 2552, 'anderson': 970, 'kitty': 3984, 'shaved': 6076, 'iscoming': 3789, 'tnc': 6923, 'com1win150ppmx3age16subscription': 1912, 'respectful': 5749, 'near': 4732, 'rejected': 5683, 'str8': 6513, 'classic': 1838, '200p': 353, 'spelled': 6382, 'caps': 1652, 'yelling': 7660, 'mess': 4472, 'bullshit': 1564, 'slob': 6234, 'multiply': 4660, 'independently': 3699, 'count': 2041, 'push': 5515, 'places': 5234, 'showed': 6130, 'ar': 1054, 'efficient': 2559, '3000': 432, '08712402050': 109, '10ppm': 267, 'ag': 864, 'promo': 5461, 'passable': 5108, 'score': 5951, 'phd': 5188, '5years': 575, 'salary': 5888, 'complementary': 1940, 'wa14': 7320, '2px': 416, 'hol': 3504, 'entrepreneurs': 2637, 'batt': 1257, 'gautham': 3118, 'ello': 2586, 'positions': 5327, 'kama': 3928, 'sutra': 6636, 'brings': 1518, 'friendships': 3037, 'grow': 3287, 'bunch': 1565, 'lotto': 4236, 'joke': 3878, 'seekers': 5994, 'dan': 2163, 'reminded': 5702, 'badrith': 1208, 'anti': 1001, 'fones': 2957, 'wild': 7492, 'rcvd': 5600, 'stop2stop': 6501, 'jontin': 3885, 'mca': 4421, 'conform': 1969, '08718738002': 152, '48922': 514, 'dub': 2490, 'je': 3847, 'buff': 1556, 'santa': 5905, 'ones': 4948, '09058094583': 182, '45pm': 507, 'preferably': 5383, 'pap': 5077, 'sptv': 6424, 'jersey': 3857, 'devils': 2296, 'detroit': 2291, 'wings': 7505, 'hockey': 3500, 'incorrect': 3692, '08712101358': 100, 'national': 4717, 'intelligent': 3743, '09064019788': 215, 'box42wr29c': 1470, 'lucy': 4274, 'hubby': 3577, 'meetins': 4445, 'cumin': 2123, '09099726395': 249, 'remembered': 5697, 'gotta': 3245, 'puzzeles': 5523, 'tease': 6741, 'cry': 2099, 'grave': 3267, 'alertfrom': 907, 'jeri': 3856, 'stewartsize': 6481, '2kbsubject': 398, 'low': 4255, 'prescripiton': 5395, 'drvgsto': 2484, '123': 284, 'allowed': 924, 'telugu': 6757, 'wearing': 7396, 'shiny': 6094, 'warming': 7359, 'cared': 1662, 'language': 4038, 'unknown': 7154, 'watts': 7382, 'ystrday': 7699, 'medicine': 4440, 'xafter': 7620, 'cst': 2105, 'ntwk': 4861, 'chg': 1778, 'lou': 4238, 'lancaster': 4030, 'konw': 3998, 'waht': 7328, 'rael': 5559, 'gving': 3319, 'yuo': 7705, 'exmpel': 2735, 'jsut': 3896, 'tihs': 6889, 'evrey': 2709, 'splleing': 6403, 'wrnog': 7602, 'sitll': 6193, 'raed': 5558, 'wihtuot': 7489, 'ayn': 1189, 'mitsake': 4540, 'footie': 2966, 'blow': 1407, 'phil': 5189, 'neville': 4771, '400': 481, 'randomly': 5580, 'loyal': 4259, 'customers': 2140, '09066380611': 235, 'butting': 1583, 'heads': 3408, 'freedom': 3016, 'vs': 7307, 'responsibility': 5754, 'barely': 1233, 'gets': 3154, 'soc': 6286, 'appreciated': 1041, 'semi': 6014, 'apart': 1017, 'hasn': 3380, 'selling': 6010, 'paranoid': 5086, 'samus': 5900, 'shoulders': 6125, 'studyn': 6542, 'resolution': 5745, 'frank': 3004, '09050001295': 170, 'a21': 751, 'disturb': 2374, 'housewives': 3558, '0871750': 137, '77': 629, 'landlines': 4035, 'os': 5005, 'ubandu': 7102, 'installing': 3736, 'disk': 2368, 'system': 6675, 'repair': 5715, '26': 375, 'shb': 6077, 'rofl': 5816, 'betta': 1336, 'invest': 3763, 'aging': 875, 'products': 5445, 'largest': 4045, '69696': 597, 'ec2a': 2539, '3lp': 468, 'spouse': 6418, 'pmt': 5269, 'sumthin': 6600, '4give': 523, 'shldxxxx': 6106, 'dismay': 2370, '10k': 265, '09064018838': 213, 'ntt': 4860, 'cro1327': 2089, 'vary': 7237, 'nothin': 4844, 'hanger': 3354, 'reache': 5605, 'ajith': 896, 'ouch': 5014, 'stayed': 6464, 'gist': 3176, 'mummy': 4665, 'positive': 5328, 'negative': 4750, 'hmmmm': 3495, 'nationwide': 4718, 'newport': 4776, 'road': 5806, '28th': 382, 'removal': 5707, '87239': 699, '08708034412': 95, 'fantasies': 2801, '08707509020': 92, '20p': 356, '1327': 293, 'croydon': 2093, 'cr9': 2060, '5wb': 572, '0870': 72, 'lanre': 4040, 'fakeye': 2785, 'eckankar': 2541, 'hw': 3607, 'mising': 4523, 'printer': 5421, 'groovy': 3283, 'groovying': 3284, 'rayman': 5595, 'golf': 3215, 'activ8': 806, 'termsapply': 6769, 'solihull': 6295, 'sac': 5874, 'hundred': 3588, 'batsman': 1256, 'male': 4345, '08709222922': 97, '8p': 722, 'peak': 5142, 'rumour': 5860, 'tunde': 7064, 'fuuuuck': 3084, 'sry': 6431, 'nighters': 4795, 'persevered': 5168, 'doctor': 2395, 'quitting': 5548, 'least5times': 4082, 'wudn': 7613, 'bird': 1365, 'purchases': 5510, 'yah': 7644, 'stone': 6497, 'rajini': 5568, 'oni': 4949, 'presnts': 5400, 'bcz': 1276, 'mis': 4519, 'jeevithathile': 3850, 'irulinae': 3787, 'neekunna': 4748, 'prakasamanu': 5367, 'sneham': 6275, 'prakasam': 5366, 'ennal': 2626, 'mns': 4555, 'com1win150ppmx3age16': 1911, 'robinson': 5810, 'aah': 754, 'cuddle': 2117, 'lush': 4280, 'fumbling': 3069, 'desires': 2278, 'liver': 4174, 'managed': 4351, 'exhausted': 2732, 'tarot': 6715, '85555': 685, 'hcl': 3402, 'requires': 5734, 'freshers': 3028, 'ms': 4634, 'suman': 6596, 'telephonic': 6751, 'indyarocks': 3706, 'ic': 3620, 'doors': 2431, 'sts': 6532, 'buzy': 1589, 'tops': 6972, 'bigger': 1354, 'hols': 3512, 'med': 4438, 'stamped': 6440, '113': 271, 'bray': 1492, 'wicklow': 7483, 'eire': 2570, 'theatre': 6811, 'kavalan': 3937, 'atm': 1133, 'uses': 7209, 'handsome': 3351, 'finding': 2881, 'polyphonic': 5301, '087018728737': 82, 'toppoly': 6971, 'tune': 7065, 'errors': 2656, 'tariffs': 6714, '125': 285, 'freeentry': 3017, 'xt': 7628, 'restaurant': 5756, 'dealer': 2203, 'practice': 5361, 'breaking': 1500, 'cstore': 2106, 'buttons': 1584, 'juicy': 3899, '09061221066': 193, 'fromm': 3051, '28': 379, 'antha': 999, 'num': 4864, 'corrct': 2024, 'dane': 2168, 'euro2004': 2675, 'kickoff': 3962, 'kept': 3949, 'results': 5763, '83222': 666, 'ilol': 3654, 'personally': 5174, 'wuldnt': 7615, 'donate': 2423, 'unicef': 7145, 'asian': 1102, 'tsunami': 7055, 'disaster': 2358, 'fund': 3073, 'texting': 6788, '864233': 688, 'update_now': 7176, 'f4q': 2768, 'dislikes': 2369, 'gauge': 3117, 'patty': 5123, 'interest': 3747, 'envy': 2644, 'blame': 1383, 'essential': 2669, 'gods': 3204, 'furniture': 3080, 'locks': 4192, 'jenne': 3853, 'ecstasy': 2543, 'spotty': 6417, 'province': 5481, 'sterling': 6478, '07090298926': 25, '9307622': 733, 'pass': 5107, 'drms': 2473, 'shesil': 6086, 'garage': 3107, 'collapsed': 1898, 'university': 7151, 'hospital': 3543, 'queen': 5536, 'desparately': 2281, 'innocent': 3724, '515': 554, 'tiwary': 6909, 'rcb': 5597, 'battle': 1259, 'kochi': 3994, 'granite': 3263, 'explosive': 2754, 'members': 4456, 'nasdaq': 4710, 'symbol': 6669, 'cdgt': 1700, 'predicting': 5379, 'inch': 3682, 'accumulation': 793, 'converter': 2004, 'decorating': 2222, 'av': 1161, 'lag': 4022, 'skype': 6213, '4goten': 525, 'scammers': 5939, 'subscription': 6566, 'beware': 1342, 'helloooo': 3437, 'welcomes': 7428, 'lambda': 4027, 'bro': 1524, 'amongst': 953, 'genus': 3144, 'sao': 5906, 'dress': 2460, 'panties': 5075, 'iraq': 3779, 'afghanistan': 855, 'stable': 6434, 'honest': 3517, 'traveling': 7015, 'retired': 5765, 'spatula': 6367, 'rip': 5798, 'uterus': 7215, 'cantdo': 1647, 'anythingtomorrow': 1012, 'myparents': 4684, 'aretaking': 1064, 'outfor': 5023, 'katexxx': 3935, 'arranging': 1084, '27': 378, '08714714011': 126, 'onam': 4942, 'sirji': 6188, 'insha': 3729, 'allah': 918, 'tata': 6719, 'aig': 884, 'tissco': 6906, 'tayseer': 6725, 'doctors': 2396, 'reminds': 5705, '2go': 395, 'erutupalam': 2659, 'thandiyachu': 6794, 'byatch': 1597, 'whassup': 7452, 'supplies': 6616, 'dresser': 2462, 'claire': 1830, 'taste': 6717, 'nearly': 4734, 'banned': 1226, 'saibaba': 5883, 'colany': 1894, 'avatar': 1166, 'imp': 3665, 'hittng': 3486, 'reflex': 5667, 'chances': 1726, 'csh11': 2104, '87575': 700, '6days': 607, 'tsandcs': 7051, 'hl': 3488, 'headstart': 3410, 'rummer': 5859, 'doke': 2415, 'laying': 4063, 'n9dx': 4690, 'nigro': 4798, 'bridgwater': 1509, 'banter': 1228, 'risk': 5801, 'function': 3071, 'reboot': 5632, 'chk': 1801, 'dict': 2311, 'bw': 1592, 'unfortunately': 7140, 'cakes': 1605, 'resent': 5737, 'previous': 5410, 'due': 2497, 'error': 2655, 'queries': 5537, 'customersqueries': 2141, 'netvision': 4764, '87131': 696, '2814032': 380, '3x': 478, '150pw': 310, 'bot': 1447, 'notes': 4843, 'printing': 5422, 'handing': 3347, '4882': 513, '09064019014': 214, 'maintain': 4335, 'cr': 2058, '07742676969': 30, '786': 631, 'unredeemed': 7161, '08719180248': 155, '45239': 506, '09066368753': 234, '97n7qp': 739, 'prin': 5416, 'jeans': 3849, 'aint': 887, 'complaining': 1938, 'olympics': 4938, 'vivek': 7289, 'students': 6539, '1thing': 338, 'answr': 997, 'wedding': 7405, 'chapel': 1732, 'frontierville': 3054, 'teeth': 6747, 'painful': 5061, 'maintaining': 4336, 'puts': 5520, 'perspective': 5176, 'sigh': 6154, '50s': 553, 'alot': 928, 'salam': 5887, 'alaikkum': 901, 'clarification': 1831, 'lined': 4145, 'borin': 1441, '09099725823': 248, '08714712394': 124, 'checkup': 1762, 'smear': 6250, 'opposite': 4975, 'nigh': 4793, 'arrested': 1085, 'shelf': 6082, 'lay': 4061, 'bimbo': 1362, 'ugo': 7106, 'lookatme': 4213, 'clip': 1850, '35p': 454, 'mmsto': 4554, '32323': 448, 'mentor': 4466, 'percent': 5154, 'pop': 5313, 'arrived': 1087, 'clearly': 1846, '08707500020': 91, 'knackered': 3986, 'janx': 3835, 'dads': 2158, 'srsly': 6429, 'yi': 7672, 'shorter': 6119, '7548': 625, '4041': 484, 'success': 6572, 'dock': 2392, 'rolled': 5819, 'newscaster': 4779, 'dabbles': 2155, 'flute': 2937, 'behind': 1313, 'wheel': 7457, 'deny': 2262, 'raping': 5586, 'dudes': 2495, 'poker': 5290, 'stand': 6442, 'excited': 2722, 'dying': 2515, 'host': 3545, 'based': 1242, 'idps': 3636, 'linux': 4152, 'systems': 6676, 'roast': 5808, 'gosh': 3237, 'spose': 6415, 't4get2text': 6677, 'poem': 5286, 'cheer': 1764, 'tick': 6880, 'dai': 2159, 'naal': 4692, 'eruku': 2658, 'arguing': 1069, 'theoretically': 6819, 'theyre': 6831, 'hospitals': 3544, 'youi': 7683, 'eurodisinc': 2676, 'trav': 7013, 'aco': 799, 'entry41': 2640, '87121': 695, 'morefrmmob': 4604, 'shracomorsglsuplt': 6137, 'ls1': 4262, '3aj': 462, 'animation': 977, 'feet': 2839, 'texted': 6787, 'pshew': 5486, 'cherthala': 1774, 'cochin': 1883, 'bfore': 1345, 'accordingly': 790, 'tmorow': 6917, 'engaged': 2615, 'hectic': 3426, 'fell': 2840, 'treadmill': 7018, 'craigslist': 2063, 'spring': 6421, 'fake': 2784, 'reffering': 5664, 'credited': 2080, 'getiing': 3152, 'gentleman': 3141, 'dignity': 2334, 'sen': 6016, 'suppose': 6620, 'ranjith': 5584, 'drpd': 2477, 'deeraj': 2230, 'deepak': 2227, 'heat': 3422, 'applyed': 1037, 'pink': 5222, 'thanku': 6800, 'solve': 6296, 'questioned': 5540, 'gardener': 3110, 'vegetables': 7245, 'neighbour': 4755, 'na': 4691, 'tms': 6921, 'widelive': 7485, 'index': 3700, 'wml': 7541, '820554ad0a1705572711': 658, 'meetin': 4443, 'fucks': 3063, 'sake': 5885, '88039': 702, 'skilgme': 6205, 'tscs087147403231winawk': 7054, '50perwksub': 549, 'wetherspoons': 7450, 'sterm': 6479, 'resolved': 5746, 'fab': 2770, 'sd': 5969, 'butt': 1581, 'sore': 6330, 'yupz': 7708, 'forgiveness': 2979, 'fruit': 3055, '7250i': 621, '86021': 686, 'w1jhl': 7315, 'tke': 6911, 'gnarls': 3194, 'barkleys': 1235, 'meat': 4435, 'supreme': 6622, 'treated': 7021, 'bike': 1356, 'threats': 6861, 'shifad': 6089, 'raised': 5565, 'appointment': 1039, 'waheed': 7326, 'fathima': 2813, 'title': 6907, 'dracula': 2450, 'titles': 6908, 'ghost': 3161, 'addamsfa': 816, 'munsters': 4667, 'exorcist': 2737, 'twilight': 7079, 'pobox36504w45wq': 5276, 'entirely': 2635, 'minor': 4511, 'complacent': 1936, 'vava': 7240, 'playing': 5249, 'k718': 3917, '09065069120': 216, '9pm': 746, 'go2sri': 3199, 'lanka': 4039, 'swashbuckling': 6646, 'prominent': 5458, 'cheek': 1763, 'refilled': 5665, 'inr': 3727, 'keralacircle': 3951, 'prepaid': 5388, 'transaction': 7005, 'kr': 4003, 'recognise': 5647, 'confused': 1970, 'kanji': 3930, 'department': 2263, 'ours': 5017, 'dance': 2165, 'brin': 1515, 'sheet': 6080, 'specific': 6373, 'jaklin': 3826, 'needing': 4744, 'sh': 6057, 'jas': 3837, 'mostly': 4613, 'lyk': 4288, 'footbl': 2965, 'crckt': 2074, 'ryder': 5871, 'gibbs': 3162, 'jobs': 3871, 'horse': 3541, 'racing': 5555, 'chicken': 1781, 'rice': 5783, 'jst': 3894, 'pure': 5511, 'hearted': 3420, 'enemies': 2611, 'guilty': 3310, 'smiley': 6256, 'exorcism': 2736, 'emily': 2598, 'punish': 5505, 'tallahassee': 6706, 'phoned': 5195, 'disconnected': 2362, 'doc': 2391, 'prescribed': 5394, 'aren': 1061, 'yetty': 7669, 'delivered': 2248, 'ay': 1188, 'wkg': 7535, '08712103738': 101, 'darker': 2174, 'styling': 6551, 'fees': 2838, 'florida': 2929, 'visa': 7281, 'buying': 1587, 'gucci': 3297, 'bags': 1210, 'sha': 6058, 'natalie': 4714, '165': 315, 'natalie2k9': 4715, 'aunt': 1152, 'nike': 4799, 'tagged': 6686, 'jacket': 3820, 'kidz': 3967, 'screaming': 5964, 'shoes': 6109, 'whr': 7478, 'referin': 5663, 'rich': 5784, 'wahala': 7324, 'dependents': 2265, 'enc': 2604, 'ax': 1185, 'boye': 1475, 'torrents': 6974, 'particularly': 5100, 'slowing': 6238, 'ke': 3941, 'qi': 5529, 'suddenly': 6580, 'pickle': 5207, 'promotion': 5463, '8714714': 697, '08712402578': 110, '09061744553': 201, 'polyh': 5299, 'natwest': 4722, 'neshanth': 4759, 'painting': 5063, 'arty': 1092, 'collages': 1897, 'tryin': 7048, 'reassuring': 5630, 'snickering': 6276, 'chords': 1809, 'favorite': 2820, 'oyster': 5048, 'sashimi': 5916, 'stomach': 6495, 'rumbling': 5858, '09095350301': 246, 'erotic': 2654, 'ecstacy': 2542, 'nat': 4712, 'yoyyooo': 7696, 'permissions': 5166, 'usb': 7202, 'trauma': 7012, 'swear': 6649, 'blackberry': 1380, 'ipad': 3773, 'block': 1396, 'armenia': 1076, 'swann': 6644, 'freaky': 3012, '09064017305': 212, 'pobox75ldns7': 5278, 'sth': 6483, 'specs': 6375, 'px3748': 5525, 'walked': 7338, 'stagwood': 6437, 'winterstone': 7511, 'victors': 7261, 'league': 4077, 'idea': 3628, 'slurp': 6241, 'warning': 7362, 'samantha': 5897, 'guitar': 3311, 'impress': 3673, 'doug': 2441, 'realizes': 5622, '69888nyt': 603, '31p': 444, 'buz': 1588, 'wedlunch': 7407, 'outsomewhere': 5027, 'adrink': 834, '2watershd': 423, 'fromwrk': 3052, 'bthere': 1547, 'petexxx': 5181, '08715203656': 129, '42049': 491, 'doinat': 2413, 'fiting': 2899, 'load': 4182, 'mj': 4544, 'totes': 6983, 'mention': 4464, 'served': 6037, 'french': 3024, 'fooled': 2961, 'phone750': 5194, '08000776320': 49, 'flower': 2931, 'dippeditinadew': 2348, 'lovingly': 4254, 'itwhichturnedinto': 3806, 'gifted': 3165, 'tomeandsaid': 6947, 'uworld': 7221, 'qbank': 5527, 'assessment': 1115, 'laready': 4044, 'mnths': 4557, 'callback': 1614, 'chart': 1744, 'payback': 5130, 'missin': 4528, 'jess': 3858, 'ooooooh': 4963, 'yoville': 7694, 'wisdom': 7514, 'instantly': 3738, '69969': 605, 'bcmsfwc1n3xx': 1272, 'awkward': 1182, 'ow': 5040, '09061743810': 199, 'ppm': 5355, 'hf8': 3462, 'ijust': 3645, 'talked': 6701, 'dark': 2173, 'teenager': 6746, 'pleassssssseeeeee': 5254, 'avent': 1169, 'sportsx': 6414, 'epsilon': 2647, 'db': 2197, '09061749602': 202, '528': 559, 'hp20': 3568, '1yf': 344, 'le': 4070, 'maga': 4321, 'werethe': 7441, 'monkeespeople': 4588, 'monkeyaround': 4590, 'howdy': 3562, 'howu': 3565, 'foundurself': 2997, 'jobyet': 3872, 'sausage': 5927, 'fo': 2944, 'senor': 6021, 'boyfriend': 1477, 'si': 6147, 'lingerie': 4148, 'bridal': 1507, 'petticoatdreams': 5183, 'superb': 6612, 'weddingfriend': 7406, 'free2day': 3015, 'george': 3146, 'jordan': 3886, '89080': 713, 'celeb': 1704, 'pocketbabe': 5283, '0870241182716': 83, 'desparate': 2280, 'recorded': 5649, 'bootydelious': 1439, '32': 445, '434': 495, 'okmail': 4929, 'rr': 5842, 'barring': 1240, 'sudden': 6579, 'influx': 3711, 'rubber': 5850, '09050000460': 166, 'j89': 3817, 'box245c2150pm': 1462, 'mountain': 4618, 'deer': 2229, 'prayers': 5374, 'prof': 5446, 'papers': 5080, 'sem': 6012, 'enna': 2625, 'kalaachutaarama': 3923, '09066358361': 225, 'y87': 7642, 'plumbers': 5262, 'wrench': 7593, 'anywhere': 1016, 'hunting': 3595, 'aathi': 757, 'vpod': 7305, 'nor': 4827, 'unsubscribed': 7167, 'tons': 6959, 'hunks': 3592, 'straight': 6514, 'gotbabes': 3242, 'subscriptions': 6567, 'slower': 6237, 'maniac': 4360, '08718738001': 151, '49557': 515, 'dedicated': 2224, 'dedicate': 2223, 'valuable': 7229, 'discussed': 2366, 'grocers': 3281, 'fixes': 2904, 'spelling': 6383, 'wall': 7342, 'soo': 6322, 'muchxxlove': 4654, 'locaxx': 4190, 'choices': 1805, 'toss': 6979, 'coin': 1891, 'gudni8': 3299, 'exams': 2718, 'reverse': 5775, 'cheating': 1755, 'mathematics': 4400, 'dreading': 2456, 'thou': 6854, 'greatest': 3271, 'courage': 2048, 'bear': 1280, 'defeat': 2232, 'scorable': 5950, 'hellogorgeous': 3436, 'nitw': 4808, 'texd': 6781, 'hopeu': 3534, '4ward': 538, 'jaz': 3843, 'nalla': 4699, 'gram': 3258, 'eighth': 2568, 'smarter': 6247, 'print': 5419, 'marandratha': 4368, '3230': 447, 'textbook': 6784, 'algorithms': 913, 'edition': 2547, 'basketball': 1247, 'outdoors': 5021, 'normally': 4833, 'incredible': 3694, 'amazing': 942, 'o2fwd': 4883, '18p': 322, 'cmon': 1872, 'sticky': 6485, 'replies': 5723, 'womdarfull': 7549, 'actor': 810, 'brainless': 1484, 'doll': 2417, 'vehicle': 7247, 'sariyag': 5914, 'madoke': 4317, 'barolla': 1237, 'plaza': 5251, 'knickers': 3989, '01223585236': 6, 'nikiyu4': 4800, 'despite': 2283, 'cramps': 2065, 'mirror': 4518, 'youre': 7688, 'turning': 7070, 'wavering': 7384, 'decisions': 2219, 'coping': 2018, 'individual': 3705, 'heal': 3411, 'gimmi': 3170, 'goss': 3238, 'shrek': 6138, '1apple': 326, '1tulsi': 339, 'leaf': 4075, '1lemon': 331, '1cup': 327, 'problms': 5437, 'litres': 4170, 'watr': 7380, 'diseases': 2367, 'snd': 6274, 'ths': 6871, 'pressies': 5402, 'sarcastic': 5912, 'faggy': 2776, 'twins': 7080, 'lil': 4137, '600': 576, 'inclusive': 3688, 'deltomorrow': 2251, 'delete': 2244, 'notified': 4848, 'marketing': 4376, '84122': 676, '08450542832': 68, 'pt2': 5492, 'txtin': 7087, '4info': 526, 'testing': 6777, 'bathing': 1254, 'coherently': 1889, 'assume': 1118, 'callon': 1625, '2bold': 386, 'onbus': 4943, '4a': 516, 'donyt': 2428, 'hes': 3456, 'latelyxxx': 4050, 'fav': 2817, 'dogbreath': 2405, 'sounding': 6344, 'token': 6938, 'liking': 4136, 'lim': 4139, 'screen': 5965, 'gently': 3142, 'in2': 3680, '545': 563, 'oxygen': 5047, 'resort': 5747, 'roller': 5820, 'option': 4981, 'names': 4705, 'name1': 4702, 'name2': 4703, 'mobno': 4567, 'adam': 814, '07123456789': 27, '87077': 694, 'txtno': 7089, 'ads': 835, 'coccooning': 1882, 'iphone': 3776, 'anna': 980, 'nagar': 4695, 'oi': 4919, 'ami': 945, 'parchi': 5087, 'kicchu': 3959, 'kaaj': 3918, 'korte': 4000, 'iccha': 3621, 'korche': 3999, 'tul': 7062, 'chinese': 1795, 'needa': 4742, 'mcat': 4422, 'aeronautics': 845, 'professors': 5448, 'wer': 7437, 'calld': 1617, 'aeroplane': 846, 'ws': 7606, 'hurried': 3596, 'datz': 2190, 'haircut': 3333, 'breezy': 1506, 'yunny': 7704, 'citylink': 1825, 'ringing': 5792, 'houseful': 3557, 'brats': 1490, 'pulling': 5501, 'btwn': 1549, 'innings': 3723, 'pan': 5067, 'perhaps': 5160, 'silly': 6166, 'likely': 4133, 'completing': 1944, 'joys': 3891, 'lifeis': 4122, 'daywith': 2196, 'thoughts': 6857, 'somewheresomeone': 6312, 'tosend': 6977, 'greeting': 3275, 'affectionate': 851, 'shitin': 6101, 'defo': 2238, 'hardest': 3373, 'millions': 4497, 'lekdog': 4096, 'fire': 2890, 'spark': 6365, 'flame': 2909, 'rawring': 5593, 'xoxo': 7627, 'hu': 3575, 'citizen': 1823, 'navigate': 4726, 'choosing': 1807, 'require': 5732, 'guidance': 3307, 'doubt': 2440, 'stubborn': 6534, 'sucker': 6576, 'suckers': 6577, '087123002209am': 104, '40': 480, 'cc100p': 1697, 'toughest': 6987, 'acting': 804, 'unspoken': 7164, 'amla': 948, 'durban': 2506, 'chuckin': 1818, 'trainners': 7002, 'carryin': 1676, 'bac': 1204, 'coincidence': 1892, 'improve': 3676, 'horniest': 3537, '69888': 602, 'misundrstud': 4538, 'bless': 1390, 'arm': 1074, 'easiest': 2528, 'barcelona': 1231, 'effect': 2557, 'irritation': 3786, 'disconnect': 2361, 'terrorist': 6773, 'confirmd': 1967, 'verified': 7252, 'cnn': 1875, 'ibn': 3617, 'gal': 3094, 'propsd': 5472, 'gv': 3318, 'lv': 4286, 'lttrs': 4269, 'threw': 6863, 'thm': 6848, 'aproach': 1051, 'dt': 2488, 'truck': 7039, 'speeding': 6379, 'wn': 7542, 'ran': 5577, 'saved': 5930, 'thy': 6879, 'lived': 4173, 'happily': 3367, '2gthr': 396, 'evrydy': 2712, 'sitter': 6194, 'kaitlyn': 3922, 'srs': 6428, 'jamster': 3828, '88888': 710, '08701213186': 75, 'cheque': 1772, 'priya': 5428, 'onwords': 4959, 'mtnl': 4649, 'mumbai': 4663, 'mittelschmertz': 4541, 'paracetamol': 5082, 'handed': 3346, 'favourite': 2822, '08715203652': 128, '42810': 493, 'raviyog': 5592, 'peripherals': 5163, 'bhayandar': 1348, 'east': 2530, 'gran': 3259, 'onlyfound': 4955, 'afew': 847, 'cusoon': 2134, 'honi': 3523, '07734396839': 29, 'ibh': 3613, 'nokia6600': 4817, 'wah': 7323, 'yan': 7648, 'jiu': 3868, 'zaher': 7710, 'celebrations': 1708, 'hasnt': 3381, '08714712388': 123, 'wrc': 7591, 'rally': 5573, 'oz': 5049, 'lucozade': 4273, '61200': 581, 'packs': 5055, 'itcould': 3799, 'younger': 7685, '83435': 672, 'missionary': 4530, 'offering': 4906, 'changes': 1729, 'comfort': 1919, 'sold': 6294, 'onion': 4950, 'adventuring': 840, 'soooo': 6327, 'provider': 5479, 'tming': 6916, 'addicted': 818, 'msging': 4637, 'deficient': 2234, 'alternative': 934, 'clothes': 1860, 'jewelry': 3862, 'panasonic': 5069, 'bluetoothhdset': 1412, 'doublemins': 2437, 'doubletxt': 2439, 'hearing': 3418, 'lips': 4159, 'poo': 5305, '09058094455': 179, 'fired': 2891, 'filling': 2869, 'responding': 5752, 'diwali': 2381, '08002986906': 56, 'port': 5319, 'thesmszone': 6827, 'anonymous': 988, 'masked': 4387, 'abuse': 777, 'allday': 920, 'piss': 5224, 'mt': 4642, 'shag': 6061, 'sextextuk': 6052, 'xxuk': 7632, 'suzy': 6638, '69876': 601, 'raise': 5564, 'shijutta': 6091, 'successful': 6573, 'buffy': 1558, 'satisfy': 5922, 'randy': 5581, 'qlynnbv': 5532, 'help08700621170150p': 3439, 'reserves': 5741, 'reg': 5673, 'pract': 5359, 'flung': 2935, 'avo': 1171, 'learned': 4080, 'ship': 6095, 'cars': 1677, 'asthma': 1120, 'attack': 1137, 'bottom': 1452, 'incomm': 3689, 'hm': 3491, 'esaplanade': 2660, 'pdate_now': 5139, 'yhl': 7671, 'hundreds': 3589, 'handsomes': 3352, 'beauties': 1282, 'aunties': 1154, '8pm': 723, 'thurs': 6875, 'rupaul': 5864, 'triple': 7030, 'echo': 2540, 'dramatic': 2452, 'schools': 5946, 'perpetual': 5167, 'dd': 2199, '07808': 36, 'xxxxxx': 7637, '08719899217': 160, '41685': 489, '07': 21, 'rdy': 5602, 'sonetimes': 6317, 'rough': 5831, 'cried': 2087, 'upgrdcentre': 7179, 'upgrade': 7177, '153': 312, '9153': 729, 'response': 5753, 'thet': 6828, 'skinny': 6208, 'casting': 1685, 'ahold': 883, 'gotto': 3247, 'comuk': 1953, 'login': 4197, '3qxj9': 473, '08702840625': 85, '220cm2': 362, '9ae': 743, 'vco': 7241, 'stu': 6533, 'truble': 7038, 'evone': 2707, 'hates': 3385, 'bck': 1269, 'vomitin': 7299, 'rushing': 5866, 'arsenal': 1088, 'henry': 3449, 'scores': 5952, 'yards': 7651, 'bergkamp': 1330, 'margin': 4372, '78': 630, 'bec': 1285, 'temple': 6761, 'gauti': 3119, 'sehwag': 6002, 'odi': 4898, 'sophas': 6329, 'secondary': 5980, 'applying': 1038, 'ogunrinde': 4917, 'vday': 7242, 'parachute': 5083, 'coins': 1893, 'bloo': 1403, 'filthyguys': 2875, 'slo': 6233, '4msgs': 527, 'jack': 3819, 'helpful': 3442, 'pretend': 5405, 'hypotheticalhuagauahahuagahyuhagga': 3610, 'cold': 1895, 'vitamin': 7287, 'suggestion': 6588, 'lands': 4036, 'helps': 3445, 'forgt': 2982, 'dudette': 2496, 'highest': 3471, '54': 561, 'maximum': 4415, '71': 620, 'bids': 1352, '83383': 671, 'recovery': 5653, 'cooped': 2015, 'common': 1926, 'chop': 1808, 'blogging': 1398, 'magicalsongs': 4325, 'blogspot': 1399, 'program': 5452, 'slacking': 6216, 'subs': 6560, 'monoc': 4593, 'monos': 4594, 'polyc': 5298, 'stream': 6518, '0871212025016': 102, 'scratches': 5960, 'length': 4098, 'distract': 2373, 'kent': 3948, 'vale': 7224, 'sometext': 6305, 'church': 1819, 'prey': 5412, 'devouring': 2298, 'didntgive': 2317, 'bellearlier': 1319, 'bedbut': 1292, 'thepub': 6822, 'l8tr': 4012, 'uwana': 7220, 'jenxxx': 3855, 'leo': 4100, 'chez': 1777, 'jules': 3900, 'boring': 1442, 'clover': 1862, 'wondarfull': 7553, 'como': 1928, 'listened2the': 4164, 'plaid': 5235, 'album': 904, 'air1': 889, 'hilarious': 3472, 'braindance': 1483, 'ofstuff': 4914, 'aphex': 1021, 'abel': 761, 'hav2hear': 3390, 'sn': 6269, '6hrs': 609, 'appendix': 1031, 'range': 5583, 'muhommad': 4657, 'penny': 5151, 'perform': 5158, 'resubmit': 5761, 'expiry': 2750, 'kotees': 4001, 'payments': 5135, 'fedex': 2830, 'related': 5684, 'arul': 1093, 'powerful': 5351, 'weapon': 7394, 'occupy': 4892, 'animal': 976, 'adoring': 831, 'watched': 7373, 'sickness': 6152, 'bare': 1232, 'neft': 4749, 'beneficiary': 1327, 'aww': 1183, 'jez': 3863, 'todo': 6932, 'workand': 7567, 'whilltake': 7467, 'gailxx': 3091, 'thgt': 6832, 'clash': 1835, 'wither': 7526, '23f': 364, '23g': 365, 'impression': 3675, 'exe': 2727, 'youdoing': 7682, 'sar': 5908, 'picsfree1': 5209, 'keyword': 3956, 'acknowledgement': 797, 'astoundingly': 1121, 'tactless': 6684, 'demand': 2254, 'oath': 4884, 'hottest': 3553, 'g696ga': 3088, 'dick': 2310, 'cl': 1826, 'village': 7270, 'flirtparty': 2925, 'replys150': 5726, '28thfeb': 383, 'shorts': 6121, '88600': 706, 'exp': 2738, '30apr': 437, 'absolutly': 773, 'permission': 5165, 'oooh': 4961, 'ridden': 5786, 'applausestore': 1032, 'monthlysubscription': 4598, 'max6': 4413, 'csc': 2103, 'web': 7398, '2stop': 418, 'underwear': 7136, 'becomes': 1288, 'mushy': 4673, 'embarrassed': 2595, 'smaller': 6244, 'capacity': 1649, 'carry': 1675, '98321561': 740, 'familiar': 2794, 'sculpture': 5968, 'blanket': 1386, 'tooo': 6964, 'nte': 4859, 'hhahhaahahah': 3464, 'nig': 4791, 'leonardo': 4102, 'restock': 5757, 'mallika': 4347, 'sherawat': 6085, 'haiyoh': 3335, 'jealous': 3848, 'million': 4496, '08715203685': 130, '4xx26': 540, 'intrude': 3760, 'nauseous': 4724, 'dieting': 2322, 'heehee': 3428, 'frog': 3049, 'axel': 1186, 'akon': 899, 'eyed': 2766, 'wahleykkum': 7327, 'sharing': 6075, 'inshah': 3730, 'visitor': 7285, 'freinds': 3022, 'ree': 5660, 'urination': 7196, 'several': 6049, 'ccna': 1698, 'outs': 5024, 'bin': 1363, 'instant': 3737, '08715203028': 127, '9th': 748, 'data': 2184, 'analysis': 967, 'thesis': 6826, 'weirdo': 7424, '09111032124': 253, 'pobox12n146tf150p': 5274, 'apologetic': 1024, 'fallen': 2789, 'actin': 803, 'spoilt': 6405, 'badly': 1207, 'agents': 872, 'experiment': 2746, 'rounds': 5834, 'replacing': 5721, 'forgotten': 2981, 'portal': 5320, 'parked': 5094, 'stage': 6436, 'ffffuuuuuuu': 2850, 'mids': 4489, 'faded': 2775, 'glory': 3189, 'ralphs': 5574, 'hmv1': 3498, 'pansy': 5074, 'jungle': 3906, 'sorts': 6338, 'cross': 2090, '674': 591, 'motivating': 4616, 'pathaya': 5119, 'enketa': 2624, 'maraikara': 4367, 'swimsuit': 6660, 'oga': 4916, 'goto': 3244, 'gotten': 3246, 'begun': 1310, 'registration': 5680, 'permanent': 5164, 'residency': 5743, '09050003091': 172, 'c52': 1599, 'elvis': 2589, 'presleys': 5399, 'bishan': 1371, 'glorious': 3188, 'finds': 2882, 'coaxing': 1881, 'images': 3656, 'fond': 2953, 'souveniers': 6352, 'cougar': 2035, 'pen': 5146, 'general': 3135, 'cam': 1628, 'talents': 6698, 'bomb': 1425, 'playng': 5250, 'wesley': 7442, 'hitter': 3485, 'aslamalaikkum': 1110, 'tohar': 6935, 'beeen': 1296, 'muht': 4658, 'albi': 903, 'mufti': 4656, 'mahfuuz': 4329, 'submitting': 6558, 'lunsford': 4279, 'apo': 1023, 'gonnamissu': 3221, 'postcard': 5334, 'buttheres': 1582, 'aboutas': 769, 'merememberin': 4469, 'asthere': 1119, 'ofsi': 4913, 'breakin': 1499, 'yaxx': 7653, 'pierre': 5215, 'cardin': 1658, 'scrappy': 5959, 'blowing': 1408, 'fight': 2858, 'vivekanand': 7290, 'ham': 3342, 'uawake': 7101, 'feellikw': 2836, 'justfound': 3912, 'aletter': 909, 'thatmum': 6806, 'gotmarried': 3243, '4thnov': 534, 'ourbacks': 5016, 'fuckinnice': 3062, 'selfish': 6008, 'deviousbitch': 2297, '09066364311': 230, 'breaker': 1497, 'deluxe': 2252, 'format': 2986, 'features': 2826, 'graphics': 3265, 'bbdeluxe': 1265, 'stitch': 6490, 'trouser': 7037, 'annie': 981, 'showered': 6132, 'ything': 7700, 'digi': 2331, 'coupla': 2046, 'wks': 7538, 'snowboarding': 6282, 'affair': 848, 'crap': 2066, 'file': 2865, 'fredericksburg': 3013, '62220cncl': 583, 'stopcs': 6504, '08717890890': 140, 'tues': 7059, 'slp': 6240, 'muah': 4651, 'leads': 4074, 'nosy': 4839, 'reacting': 5608, 'freaked': 3010, 'lakhs': 4026, 'brison': 1520, 'prometazine': 5457, 'syrup': 6674, '5mls': 568, 'feed': 2831, 'wtc': 7608, 'weiyi': 7426, 'wamma': 7347, 'doggin': 2407, 'dogs': 2410, 'interfued': 3751, '09061209465': 190, 'suprman': 6623, 'matrix3': 4405, 'starwars3': 6458, 'noncomittal': 4822, 'alter': 933, 'eldest': 2579, 'value': 7230, 'absence': 771, 'nottingham': 4850, '63miles': 586, '40mph': 488, 'haul': 3387, 'thanx4': 6803, 'cer': 1712, 'mesages': 4471, 'dled': 2383, 'useless': 7207, 'm263uz': 4295, 'sip': 6184, 'repent': 5718, '08452810071': 69, 'tiime': 6890, 'hug': 3579, 'tears': 6740, 'pity': 5227, 'suggestions': 6589, 'treats': 7023, 'waaaat': 7321, 'lololo': 4204, '30pm': 439, 'wating': 7379, 'mys': 4685, 'ideas': 3630, '07808726822': 38, '0871': 99, '872': 698, '9758': 738, 'box95qu': 1472, 'billion': 1359, '09061702893': 196, 'lengths': 4099, 'behalf': 1311, 'stunning': 6547, 'fortune': 2990, 'wining': 7506, '946': 735, 'nok': 4815, '87021': 691, 'liquor': 4160, 'loko': 4201, '08714712379': 122, 'kay': 3938, 'gr8prizes': 3254, '8800': 701, 'psp': 5487, 'manageable': 4350, 'dartboard': 2180, 'condition': 1959, 'doubles': 2438, 'trebles': 7024, 'refused': 5672, 'secured': 5989, 'unsecured': 7162, '195': 324, '6669': 590, 'punj': 5507, 'multimedia': 4659, 'props': 5471, 'initiate': 3719, 'cereals': 1713, 'gari': 3111, '08719181503': 157, 'southern': 6351, 'seeking': 5995, 'sheets': 6081, 'syria': 6673, 'zac': 7709, 'anthony': 1000, 'occupied': 4891, 'rayan': 5594, 'macleran': 4311, 'asjesus': 1103, 'opinions': 4971, 'evo': 2706, 'inner': 3722, 'tigress': 6888, 'flow': 2930, 'developed': 2294, 'ovarian': 5030, 'cysts': 2151, 'shrink': 6139, 'goods': 3232, 'logging': 4196, 'desert': 2275, 'geoenvironmental': 3145, 'implications': 3668, 'crab': 2061, 'shore': 6114, 'waves': 7385, 'footprints': 2967, 'clearing': 1845, 'fox': 3001, 'frndsship': 3045, 'dwn': 2514, 'decades': 2211, 'goverment': 3248, 'expects': 2742, 'harri': 3376, 'apeshit': 1020, 'dough': 2442, 'control': 2000, 'steak': 6470, 'shadow': 6060, 'someday': 6301, 'beverage': 1341, 'pist': 5226, 'truro': 7043, 'ext': 2760, 'pai': 5058, 'seh': 6001, 'north': 4834, 'carolina': 1672, 'texas': 6780, 'gre': 3269, 'ques': 5538, 'suits': 6592, 'rv': 5867, 'rvx': 5868, 'virtual': 7280, '9061100010': 727, 'wire3': 7513, '1st4terms': 336, 'mobcudb': 4561, 'oclock': 4896, 'bash': 1243, '730': 622, 'purpose': 5513, 'tenants': 6763, 'noworriesloans': 4857, '08717111821': 134, 'cashbin': 1682, 'biggest': 1355, 'thus': 6877, 'delhi': 2246, '61610': 582, '08712400602450p': 107, 'provided': 5478, 'tones2you': 6955, 'fried': 3033, 'spares': 6364, 'looovvve': 4219, 'officially': 4910, 'market': 4375, 'ger': 3148, 'toking': 6939, 'syd': 6667, 'bognor': 1421, 'splendid': 6401, '09065171142': 218, 'stopsms': 6507, '08718727870150ppm': 148, 'crucify': 2094, 'smsing': 6266, 'gam': 3097, 'eastenders': 2531, 'dot': 2435, 'compare': 1932, 'herself': 3455, 'violet': 7274, 'tulip': 7063, 'lily': 4138, 'wkent': 7534, '150p16': 305, 'lambu': 4028, 'ji': 3864, 'batchlor': 1251, 'flatter': 2912, 'pints': 5223, 'carlin': 1670, 'victoria': 7260, 'traffic': 6998, 'taka': 6690, 'creative': 2077, 'hang': 3353, 'starving': 6457, 'settling': 6047, 'happenin': 3363, 'ola': 4931, '3650': 455, '09066382422': 236, '300603': 433, 'bcm4284': 1271, 'wc1n3xx': 7389, '1405': 297, '1680': 316, '1843': 321, 'scrounge': 5966, 'ammo': 950, 'ak': 897, 'lunchtime': 4278, 'organise': 4997, 'method': 4481, 'calculation': 1607, 'jon': 3884, 'spain': 6360, 'dinero': 2341, 'rents': 5714, '000pes': 2, 'tb': 6726, 'james': 3827, 'boggy': 1420, 'biatch': 1350, 'funeral': 3075, 'audrey': 1150, 'contribute': 1999, 'greatly': 3272, 'computational': 1949, 'prsn': 5483, 'somtimes': 6315, 'saves': 5931, 'eveb': 2681, 'hyde': 3608, 'mel': 4451, 'opps': 4976, 'choice': 1804, 'corect': 2021, 'speling': 6380, 'sarcasm': 5911, 'twelve': 7075, 'dumb': 2500, 'repeat': 5717, 'biola': 1364, 'fne': 2943, '09066350750': 223, 'ibiza': 3615, 'sk3': 6202, '8wp': 725, 'dial': 2305, 'browser': 1538, 'surf': 6627, '630': 585, 'rats': 5591, 'themes': 6815, 'lipo': 4158, 'bloody': 1405, 'surname': 6629, 'clue': 1868, 'begins': 1309, '69855': 599, '24hrs': 367, 'stopbcm': 6502, 'sf': 6056, '09066649731from': 238, 'rt': 5845, 'pro': 5431, 'ringtoneking': 5795, '08701237397': 76, 'redeemable': 5657, 'remembrs': 5700, 'everytime': 2699, 'view': 7266, 'gays': 3122, 'cartoon': 1679, 'coughing': 2037, 'stil': 6487, 'fucked': 3059, 'tobed': 6927, '430': 494, 'b4u': 1192, 'marsms': 4382, 'b4utele': 1193, '08717168528': 135, 'macedonia': 4305, 'goals': 3201, 'scotland': 5955, 'ú1': 7718, 'poboxox36504w45wq': 5280, 'joining': 3877, 'formally': 2985, 'shut': 6145, 'changing': 1730, 'diapers': 2309, 'owed': 5042, 'gandhipuram': 3102, 'satsgettin': 5923, '47per': 511, 'w8in': 7318, '4utxt': 537, '82242': 659, 'hlp': 3490, '08712317606': 105, 'msg150p': 4636, '2rcv': 417, 'grooved': 3282, 'tag': 6685, 'bras': 1489, 'strewn': 6525, 'pillows': 5219, 'sez': 6055, 'arab': 1055, 'evry1': 2711, 'eshxxxxxxxxxxx': 2664, '08718726970': 146, 'mmmmmmm': 4553, 'snuggles': 6284, 'contented': 1993, 'whispers': 7468, 'convenience': 2001, 'dusk': 2509, 'puzzles': 5524, 'ams': 960, 'placement': 5233, 'amrita': 959, '08712402902': 112, 'oic': 4920, 'chit': 1800, 'logon': 4200, '8883': 708, 'cm': 1869, '4217': 492, 'w1a': 7312, '6zf': 618, '118p': 276, 'bristol': 1521, 'les': 4103, 'rudi': 5852, 'snoring': 6278, 'ink': 3720, 'weighed': 7419, 'woohoo': 7562, 'rcv': 5599, 'svc': 6639, '69988': 606, 'photoshop': 5200, 'msgrcvd': 4638, 'skip': 6209, 'customercare': 2139, 'atten': 1139, 'stability': 6433, 'tranquility': 7004, 'vibrant': 7258, 'colourful': 1908, 'cheery': 1767, 'toyota': 6992, 'camry': 1634, 'olayiwola': 4933, 'mileage': 4493, 'landing': 4032, 'tescos': 6774, 'nhs': 4783, '2b': 385, 'terminated': 6767, 'inconvenience': 3691, 'proze': 5482, 'norcorp': 4829, 'urgh': 7193, 'coach': 1878, 'smells': 6251, 'chip': 1799, 'duvet': 2511, 'predictive': 5381, 'firmware': 2893, 'escalator': 2661, 'ganesh': 3103, 'humanities': 3585, 'modules': 4575, 'revision': 5777, 'boyf': 1476, 'interviw': 3755, 'exeter': 2730, 'inperialmusic': 3725, 'listening2the': 4167, 'weirdest': 7423, 'leafcutter': 4076, 'insects': 3728, 'molested': 4579, 'plumbing': 5263, 'remixed': 5706, 'evil': 2703, 'acid': 796, 'inspection': 3732, 'nursery': 4867, 'mcr': 4424, 'reality': 5619, 'gsoh': 3293, 'spam': 6361, 'gigolo': 3168, 'fastest': 2810, 'growing': 3288, 'mens': 4462, 'oncall': 4944, 'mjzgroup': 4545, '08714342399': 121, '50rcvd': 552, 'command': 1923, 'transfer': 7006, 'withdraw': 7525, 'anyhow': 1005, 'apes': 1019, 'death': 2209, 'weaknesses': 7393, 'pushes': 5517, 'knee': 3987, 'exposes': 2756, 'pulls': 5502, 'wicked': 7481, 'reserve': 5739, 'thirunelvali': 6844, 'tirunelvali': 6903, 'tackle': 6681, 'allow': 923, 'tmrw': 6920, 'professional': 5447, 'tiger': 6885, 'woods': 7561, 'thirtyeight': 6843, 'mc': 4420, 'necesity': 4735, 'witout': 7530, 'colleg': 1904, 'wth': 7610, 'functions': 3072, 'events': 2686, 'espe': 2665, 'irritated': 3784, '4wrd': 539, 'wthout': 7611, 'takecare': 6692, 'ofcourse': 4900, 'invoices': 3769, 'goldviking': 3214, '762': 626, 'bx526': 1595, 'newquay': 4777, '1im': 330, 'talkin': 6702, 'environment': 2643, 'terrific': 6771, 'dhoni': 2302, 'rocks': 5814, 'rp176781': 5839, 'regalportfolio': 5674, '08717205546': 136, 'transfr': 7009, '5k': 566, 'travel': 7014, '09064011000': 208, 'cr01327bt': 2059, 'fixedline': 2903, 'chase': 1746, 'stated': 6459, 'curious': 2129, 'physics': 5202, 'ciao': 1820, 'rebooting': 5633, 'okies': 4928, 'blah': 1381, 'lousy': 4241, 'flight': 2918, '69101': 594, 'rtf': 5846, 'sphosting': 6387, 'memory': 4460, 'classes': 1837, 'dodgey': 2399, 'tomorro': 6949, 'x29': 7619, '09065989180': 222, '____': 750, 'ias': 3612, 'hanks': 3357, 'lotsly': 4234, 'panren': 5073, 'paru': 5105, 'intrepid': 3758, 'duo': 2505, 'weekdays': 7413, 'haiz': 3336, 'nails': 4697, 'bread': 1494, 'reassurance': 5629, 'singing': 6180, 'kalainar': 3924, 'thenampet': 6818, 'giggle': 3167, 'possibly': 5332, 'person2die': 5171, 'nvq': 4873, 'memorable': 4458, 'ignoring': 3643, 'drizzling': 2472, 'broth': 1531, 'ramen': 5576, 'atleast': 1132, 'shakespeare': 6064, 'unemployed': 7139, 'vegas': 7244, 'flippin': 2922, 'corporation': 2023, 'xclusive': 7624, 'clubsaisai': 1867, 'speciale': 6371, 'zouk': 7716, 'roses': 5830, '07946746291': 44, '07880867867': 42, 'outbid': 5020, 'simonwatson5120': 6169, 'shinco': 6092, 'plyr': 5266, 'smsrewards': 6267, 'notifications': 4847, 'chinatown': 1793, 'porridge': 5318, 'claypot': 1839, 'yam': 7647, 'fishhead': 2897, 'beehoon': 1297, 'tok': 6937, 'nydc': 4878, 'bani': 1223, '330': 451, '1120': 270, '1205': 280, 'gmw': 3192, 'connected': 1976, 'postponed': 5338, 'stocked': 6492, 'rearrange': 5626, 'dormitory': 2433, 'astronomer': 1123, 'starer': 6447, 'election': 2580, 'lies': 4120, 'recount': 5652, 'hitler': 3483, 'eleven': 2584, 'chgs': 1779, 'resuming': 5764, 'period': 5162, 'reapply': 5625, 'shant': 6071, 'salad': 5886, 'beers': 1302, 'quickly': 5543, 'healthy': 3413, 'rd': 5601, 'cupboard': 2126, 'okors': 4930, 'mojibiola': 4578, 'trash': 7011, '1million': 333, 'ppt150x3': 5357, 'box403': 1468, 'w1t1jy': 7316, 'farting': 2807, 'coco': 1886, 'husband': 3601, '09058095107': 186, 's3xy': 5872, 'ryan': 5870, 'requests': 5731, 'factory': 2774, 'nitros': 4807, 'pubs': 5498, 'frankie': 3005, 'bennys': 1329, 'warner': 7361, 'shoul': 6123, 'cedar': 1702, 'hme': 3492, 'kegger': 3946, 'elama': 2577, 'mudyadhu': 4655, 'manual': 4362, 'reset': 5742, 'troubleshooting': 7036, 'posting': 5337, 'funk': 3076, 'tones2u': 6954, 'adventure': 839, 'surya': 6635, 'pokkiri': 5292, '0871277810710p': 118, 'mary': 4385, 'ortxt': 5003, 'browsin': 1539, 'compulsory': 1948, '08': 46, 'prestige': 5404, 'sian': 6148, '0789xxxxxxx': 43, '2find': 393, 'haunt': 3388, 'promoting': 5462, 'hex': 3460, 'evaluation': 2678, 'moves': 4623, 'real1': 5616, 'pushbutton': 5516, 'dontcha': 2427, 'babygoodbye': 1201, 'golddigger': 3212, 'webeburnin': 7401, 'wind': 7499, 'canteen': 1648, 'occasion': 4890, 'celebrated': 1706, 'reflection': 5666, 'values': 7232, 'affections': 852, 'traditions': 6997, '83118': 665, 'colin': 1896, 'farrell': 2806, 'swat': 6647, 'kiosk': 3978, 'mre': 4631, '121': 282, '09094646899': 245, 'vu': 7309, 'bcm1896wc1n3xx': 1270, 'wuld': 7614, 'everyboy': 2692, 'xxxxxxxx': 7639, 'gent': 3139, '09064012160': 209, 'beauty': 1284, 'hides': 3468, 'thousands': 6858, 'secrets': 5985, 'n8': 4689, 'tension': 6765, 'terror': 6772, 'cruel': 2095, 'decent': 2213, 'joker': 3879, 'heroes': 3454, 'tips': 6900, 'predicte': 5378, 'payasam': 5129, 'rinu': 5797, 'caroline': 1673, 'khelate': 3958, 'kintu': 3977, 'opponenter': 4972, 'dhorte': 2303, 'lage': 4023, 'bruv': 1541, 'investigate': 3764, 'cashed': 1683, 'announced': 984, 'blog': 1397, '9996': 742, '14thmarch': 300, 'availa': 1163, 'dats': 2189, 'dogg': 2406, 'famamus': 2793, '1stchoice': 337, '08707808226': 94, 'forfeit': 2974, 'guessed': 3303, 'expressoffer': 2759, '07808247860': 37, '08719899229': 161, '40411': 485, '100p': 260, 'loneliness': 4206, 'pouts': 5349, 'stomps': 6496, 'swell': 6657, 'speedchat': 6378, '80155': 647, 'swap': 6645, 'chatter': 1750, 'chat80155': 1749, 'rcd': 5598, 'designation': 2277, 'developer': 2295, 'rugby': 5853, 'orh': 4999, 'young': 7684, 'useful': 7206, 'brainy': 1486, 'wright': 7595, 'gokila': 3210, 'accessible': 783, '08709501522': 98, '139': 294, 'la3': 4014, '2wu': 426, 'wee': 7410, 'beerage': 1301, 'ft': 3057, 'combination': 1914, 'jokin': 3881, 'sayy': 5938, 'curry': 2132, 'fa': 2769, 'tkts': 6912, '08452810075over18': 71, 'tix': 6910, 'nowhere': 4856, 'ikno': 3647, 'doesdiscount': 2401, 'shitinnit': 6102, 'spjanuary': 6396, 'mahal': 4327, '169': 317, '6031': 577, 'explicit': 2752, 'secs': 5986, '02073162414': 12, 'gsex': 3292, '2667': 376, 'wc1n': 7388, '3xx': 479, 'showers': 6133, 'possessiveness': 5330, 'poured': 5347, 'golden': 3213, 'uhhhhrmm': 7108, 'stripes': 6528, 'skirt': 6210, 'youphone': 7686, 'athome': 1129, 'youwanna': 7693, 'unintentionally': 7148, 'trains': 7003, '08700469649': 74, 'box420': 1469, 'okday': 4924, 'formatting': 2987, 'tscs08714740323': 7053, '1winawk': 342, '50perweeksub': 548, '2006': 351, 'fifa': 2855, 'held': 3431, 'coimbatore': 1890, 'arr': 1082, 'oscar': 5006, 'ga': 3089, 'skateboarding': 6204, 'thrown': 6869, 'winds': 7502, 'bandages': 1221, 'chillaxin': 1791, 'disappeared': 2357, 'misplaced': 4524, 'nic': 4785, 'checkin': 1760, 'thread': 6860, 'setting': 6043, 'judgemental': 3898, 'fridays': 3032, 'teaching': 6736, 'display': 2371, 'grown': 3289, 'deepest': 2228, 'darkest': 2175, '09094646631': 244, 'anand': 968, 'half8th': 3338, 'administrator': 826, 'jenny': 3854, 'leanne': 4078, 'packing': 5054, '0871277810810': 119, '9755': 737, 'wnevr': 7543, 'fal': 2786, 'vth': 7308, 'fals': 2792, 'yen': 7662, 'madodu': 4316, 'nav': 4725, 'pretsorginta': 5406, 'nammanna': 4706, 'pretsovru': 5407, 'alwa': 937, 'dump': 2501, 'heap': 3414, 'lowes': 4257, 'ffffffffff': 2849, '86888': 690, 'subscribe6gbp': 6562, '3hrs': 466, 'txtstop': 7091, 'deus': 2292, 'slightly': 6229, 'disastrous': 2359, 'darlings': 2178, 'hairdressers': 3334, 'beforehand': 1305, 'apologize': 1026, 'somewhr': 6313, 'crushes': 2098, 'follows': 2952, 'subsequent': 6570, 'interflora': 3750, 'flowers': 2932, '505060': 544, 'effects': 2558, 'brighten': 1512, 'attended': 1141, 'paypal': 5137, 'voila': 7297, 'pockets': 5284, '4the': 533, 'maaaan': 4302, '08712402779': 111, 'multis': 4661, 'agree': 877, 'happiest': 3366, 'characters': 1736, 'differences': 2326, 'ela': 2573, 'nelson': 4757, 'avalarr': 1165, 'hollalater': 3511, 'converted': 2003, 'survey': 6634, 'relieved': 5690, 'westonzoyland': 7447, 'realise': 5617, 'flood': 2926, 'arestaurant': 1063, 'squid': 6427, 'dosomething': 2434, 'complain': 1937, 'bettr': 1339, 'directly': 2350, 'bsnl': 1544, 'offc': 4902, 'pookie': 5307, 'prasad': 5370, 'swollen': 6663, 'glands': 3183, 'grandmas': 3262, 'hungover': 3590, 'protect': 5475, 'sib': 6149, 'sensitive': 6025, 'passwords': 5115, '09066364349': 231, 'box434sk38wp150ppm18': 1471, 'sinco': 6176, 'payee': 5132, 'icicibank': 3624, 'urn': 7199, 'frauds': 3008, 'disclose': 2360, 'heavily': 3424, '88877': 709, 'velachery': 7248, 'avoiding': 1173, 'burden': 1567, 'shell': 6083, 'unconsciously': 7127, 'unhappy': 7143, 'hearin': 3417, 'diesel': 2320, 'aust': 1157, 'garments': 3112, 'netflix': 4762, 'brisk': 1519, 'walks': 7341, 'replacement': 5720, 'murali': 4668, 'coat': 1880, 'pants': 5076, 'matthew': 4408, '09063440451': 204, 'lux': 4284, 'ppm150': 5356, 'box334': 1464, 'westshore': 7448, 'overtime': 5037, 'nigpun': 4797, 'tunji': 7066, 'unmits': 7158, 'wendy': 7433, 'onum': 4957, 'weren': 7440, 'finalise': 2877, 'urfeeling': 7190, 'bettersn': 1338, 'probthat': 5441, 'overdose': 5034, 'lovejen': 4246, 'dull': 2499, 'hep': 3450, 'immunisation': 3664, 'ruin': 5854, 'snap': 6271, 'quizclub': 5550, '80122300p': 646, 'rwm': 5869, '08704050406': 86, 'scrumptious': 5967, 'smartcall': 6246, '68866': 593, 'subscriptn3gbp': 6568, '08448714184': 66, 'landlineonly': 4034, 'turned': 7069, 'lamp': 4029, 'massive': 4390, 'gut': 3315, 'wrenching': 7594, 'gloucesterroad': 3190, 'uup': 7218, 'optimistic': 4979, 'ned': 4740, 'convince': 2007, 'witot': 7529, 'asa': 1096, 'sdryb8i': 5971, 'fujitsu': 3064, 'ibm': 3616, 'hp': 3567, 'toshiba': 6978, 'disagreeable': 2356, 'warwick': 7364, 'concert': 1958, 'tmw': 6922, 'canceled': 1640, 'havn': 3400, 'figuring': 2864, 'gopalettan': 3235, 'participate': 5098, 'admin': 825, 'juswoke': 3914, 'boatin': 1418, 'docks': 2393, 'spinout': 6392, 'giv': 3177, 'webadres': 7400, 'geting': 3153, 'slip': 6230, 'wondar': 7552, 'flim': 2920, 'beach': 1279, 'expected': 2740, 'accordin': 789, 'antelope': 998, 'toplay': 6970, 'fieldof': 2853, 'selfindependence': 6007, 'contention': 1994, 'mapquest': 4365, 'dogwood': 2411, 'tiny': 6898, 'adi': 824, 'entey': 2633, 'nattil': 4719, 'kittum': 3983, 'intention': 3745, 'visitors': 7286, 'honesty': 3519, 'jolly': 3883, 'importantly': 3670, 'blankets': 1387, 'sufficient': 6584, 'loosu': 4222, 'careless': 1667, 'chiong': 1798, 'spacebucks': 6357, '7634': 627, '7684': 628, 'underdtand': 7132, '078498': 41, '08719180219': 154, 'hangin': 3355, 'companion': 1930, 'chef': 1770, 'listener': 4165, 'organizer': 4998, 'sympathetic': 6670, 'athletic': 1128, 'courageous': 2049, 'determined': 2290, 'dependable': 2264, 'psychologist': 5491, 'pest': 5179, 'exterminator': 2761, 'psychiatrist': 5489, 'healer': 3412, 'stylist': 6553, 'driver': 2469, 'aaniye': 755, 'pudunga': 5499, 'venaam': 7250, 'nver': 4871, 'nose': 4837, 'essay': 2668, '75': 623, 'homeowners': 3515, 'previously': 5411, '1956669': 325, 'drunkard': 2482, '09058099801': 188, 'b4190604': 1191, '7876150ppm': 632, 'craving': 2071, 'bbd': 1264, 'pooja': 5306, 'pimples': 5220, 'sweatter': 6651, '09066660100': 239, '2309': 363, '700': 619, 'breakfast': 1498, 'hamper': 3343, 'arithmetic': 1073, 'percentages': 5155, 'dawns': 2192, 'refreshed': 5669, 'plate': 5243, 'leftovers': 4089, 'thinked': 6837, 'abbey': 759, 'supports': 6619, 'srt': 6430, 'ps3': 5485, 'gep': 3147, 'lightly': 4129, 'custom': 2137, 'checkboxes': 1758, 'lately': 4049, 'subs16': 6561, '1win150ppmx3': 340, 'casualty': 1687, 'stuff42moro': 6544, 'includes': 3686, '2u2': 422, 'steamboat': 6474, 'portege': 5321, 'm100': 4291, '087016248': 80, '0089': 4, 'digits': 2333, '09063442151': 205, 'situations': 6197, 'loosing': 4221, 'sane': 5901, 'helping': 3443, 'conacted': 1954, '09111030116': 252, 'pobox12n146tf15': 5273, 'gamb': 3098, 'prasanth': 5371, 'ettans': 2673, 'payed2day': 5131, 'havbeen': 3392, 'rise': 5800, '4my': 529, 'havebeen': 3394, 'preschoolco': 5393, 'ordinator': 4992, '2i': 397, 'feelingood': 2835, 'fuckin': 3060, 'hassling': 3382, 'andres': 972, 'haughaighgtujhyguj': 3386, 'tap': 6712, 'spile': 6390, 'seven': 6048, 'broad': 1525, 'canal': 1637, 'attracts': 1146, 'brothas': 1532, 'coast': 1879, '07815296484': 39, '41782': 490, 'spreadsheet': 6419, 'whose': 7477, 'determine': 2289, 'entire': 2634, 'elections': 2581, '09058097189': 187, 'ls15hb': 4263, 'crashed': 2068, 'cuddled': 2118, 'styles': 6550, 'anyplaces': 1008, 'identification': 3631, 'workout': 7570, 'fats': 2814, 'allo': 922, 'braved': 1491, 'triumphed': 7032, 'cruisin': 2097, 'consistently': 1984, 'practicum': 5363, 'links': 4151, 'ears': 2525, '220': 361, 'cm2': 1870, 'robs': 5811, 'avenge': 1168, 'wishlist': 7521, 'section': 5987, 'nitro': 4806, 'bears': 1281, 'nick': 4788, 'tom': 6945, 'types': 7096, 'dang': 2169, 'macha': 4306, 'mindset': 4503, 'crossing': 2091, 'completed': 1942, 'phony': 5197, 'thin': 6833, 'arguments': 1071, 'fed': 2829, 'himso': 3476, 'abroad': 770, 'xxsp': 7631, 'stopcost': 6503, '08712400603': 108, 'lov': 4242, 'nevr': 4772, 'unrecognized': 7160, 'somone': 6314, 'mistakes': 4537, 'valuing': 7233, 'definitly': 2237, 'undrstnd': 7137, 'dip': 2347, '88800': 707, '89034': 711, 'premium': 5387, '08718711108': 142, 'disturbing': 2376, 'evenings': 2684, 'absolutely': 772, 'el': 2572, 'nino': 4803, 'himself': 3475, 'needy': 4747, 'sooooo': 6328, 'thanks2': 6798, 'dent': 2259, 'jurong': 3908, 'amore': 954, 'profile': 5449, 'bpo': 1480, 'agent': 871, 'goodies': 3225, 'mat': 4393, 'basket': 1246, 'wined': 7504, 'dined': 2340, 'asus': 1124, 'reformat': 5668, '400mins': 482, 'j5q': 3816, 'eventually': 2687, 'tolerance': 6943, 'hits': 3484, 'mobsi': 4568, '391784': 461, 'jsco': 3893, '2channel': 388, 'leadership': 4072, 'skills': 6207, 'psychic': 5490, 'afterwards': 862, 'emailed': 2592, 'yifeng': 7673, 'inever': 3707, 'contents': 1995, 'poorly': 5311, 'punishment': 5506, 'worst': 7579, 'brb': 1493, 'kill': 3968, 'woot': 7563, 'stuffing': 6545, 'lifting': 4126, 'eh74rr': 2566, 'hidden': 3466, 'attraction': 1144, 'breath': 1502, 'named': 4704, 'sorrows': 6332, 'craziest': 2072, 'proove': 5467, 'planet': 5238, 'praises': 5365, 'makiing': 4340, 'sambar': 5898, '4qf2': 530, 'prices': 5414, 'bsn': 1543, 'advising': 843, 'someonone': 6303, '09064015307': 210, 'box334sk38ch': 1465, 'gong': 3219, 'kaypoh': 3939, '4719': 509, '523': 556, '0870737910216yrs': 90, 'paining': 5062, 'appy': 1049, 'fizz': 2905, 'contains': 1991, 'kappa': 3932, 'adding': 820, 'zeros': 7712, 'savings': 5932, '09058094599': 185, 'sooo': 6326, 'nearer': 4733, 'spiritual': 6395, 'billy': 1361, 'honeymoon': 3522, 'outfit': 5022, 'engalnd': 2616, 'telly': 6755, 'mia': 4484, 'elliot': 2585, 'kissing': 3982, 'radiator': 5556, 'astrology': 1122, 'get4an18th': 3151, 'tirunelvai': 6902, 'western': 7445, 'beta': 1334, '146tf150p': 299, 'sunroof': 6607, 'sux': 6637, 'beyond': 1343, 'tattoos': 6720, 'ee': 2553, 'poortiyagi': 5312, 'odalebeku': 4897, 'hanumanji': 3359, 'hanuman': 3358, 'bajarangabali': 1213, 'maruti': 4383, 'pavanaputra': 5126, 'sankatmochan': 5903, 'ramaduth': 5575, 'mahaveer': 4328, 'janarige': 3831, 'ivatte': 3809, 'kalisidare': 3925, 'olage': 4932, 'ondu': 4946, 'keluviri': 3947, 'maretare': 4370, 'inde': 3696, 'dodda': 2398, 'problum': 5438, 'nalli': 4700, 'siguviri': 6162, 'idu': 3637, 'matra': 4403, 'neglet': 4752, 'varunnathu': 7236, 'edukkukayee': 2551, 'raksha': 5572, 'ollu': 4936, 'subtoitles': 6571, 'dvg': 2513, 'vinobanagar': 7271, 'violence': 7273, 'parkin': 5095, 'approaching': 1042, 'sankranti': 5904, 'republic': 5729, 'shivratri': 6104, 'ugadi': 7104, 'fools': 2962, 'independence': 3698, 'teachers': 6734, 'childrens': 1788, 'festival': 2844, 'dasara': 2182, 'mornings': 4608, 'afternoons': 861, 'rememberi': 5698, 'offline': 4911, 'anjola': 979, 'cashto': 1684, '08000407165': 48, 'getstop': 3156, '88222': 705, 'php': 5201, 'uniform': 7146, 'miiiiiiissssssssss': 4491, 'call09050000327': 1612, 'breeze': 1505, 'fresh': 3027, 'twittering': 7081, 'mylife': 4683, 'gota': 3241, 'banneduk': 1227, 'popping': 5316, 'ibuprofens': 3619, 'specify': 6374, 'domain': 2421, 'nusstu': 4869, 'scratching': 5961, '08719181259': 156, 'mega': 4448, 'asda': 1098, 'counts': 2045, 'celebration': 1707, 'audiitions': 1148, 'relocate': 5692, '09050000878': 168}\n"
     ]
    }
   ],
   "source": [
    "import numpy as np\n",
    "import pandas as pd\n",
    "from sklearn.model_selection import train_test_split\n",
    "from sklearn.feature_extraction.text import CountVectorizer\n",
    "\n",
    "# Load Data\n",
    "spam = pd.read_csv(\"data/spam.csv\")\n",
    "spam['spam'] = spam['Category'].apply(lambda x: 1 if x == \"spam\" else 0)\n",
    "\n",
    "X_train, X_test, y_train, y_test = train_test_split(spam.Message, spam.spam, test_size=0.2)\n",
    "\n",
    "# Initialize CountVectorizer\n",
    "count_vector = CountVectorizer()\n",
    "\n",
    "# Fit and transform on the training data\n",
    "X_train_C_Vector = count_vector.fit_transform(X_train.values)\n",
    "\n",
    "# Access the vocabulary from CountVectorizer\n",
    "vocabulary = count_vector.vocabulary_\n",
    "\n",
    "print(\"Vocabulary:\", vocabulary)"
   ]
  },
  {
   "cell_type": "code",
   "execution_count": null,
   "id": "221710a3",
   "metadata": {},
   "outputs": [],
   "source": []
  }
 ],
 "metadata": {
  "kernelspec": {
   "display_name": "Python 3 (ipykernel)",
   "language": "python",
   "name": "python3"
  },
  "language_info": {
   "codemirror_mode": {
    "name": "ipython",
    "version": 3
   },
   "file_extension": ".py",
   "mimetype": "text/x-python",
   "name": "python",
   "nbconvert_exporter": "python",
   "pygments_lexer": "ipython3",
   "version": "3.9.13"
  }
 },
 "nbformat": 4,
 "nbformat_minor": 5
}
