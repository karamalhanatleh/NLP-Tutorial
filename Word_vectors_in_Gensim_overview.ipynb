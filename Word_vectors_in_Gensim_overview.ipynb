{
 "cells": [
  {
   "cell_type": "markdown",
   "metadata": {
    "id": "Xi86UEv0GzLg"
   },
   "source": [
    "**Word vectors in Gensim overview.ipynb**"
   ]
  },
  {
   "cell_type": "code",
   "execution_count": 1,
   "metadata": {
    "id": "iKFCN_4616uL"
   },
   "outputs": [],
   "source": [
    "#import paskages\n",
    "import gensim.downloader as api"
   ]
  },
  {
   "cell_type": "code",
   "execution_count": 2,
   "metadata": {
    "colab": {
     "base_uri": "https://localhost:8080/"
    },
    "id": "gVgVcTWh16ww",
    "outputId": "8e095302-2863-480b-8ee6-cff75d4a678d"
   },
   "outputs": [
    {
     "name": "stdout",
     "output_type": "stream",
     "text": [
      "[==================================================] 100.0% 1662.8/1662.8MB downloaded\n"
     ]
    }
   ],
   "source": [
    "#load data google news\n",
    "#100 billion words\n",
    "wv=api.load(\"word2vec-google-news-300\")"
   ]
  },
  {
   "cell_type": "code",
   "execution_count": 4,
   "metadata": {
    "colab": {
     "base_uri": "https://localhost:8080/"
    },
    "id": "3Vg-pDYP16zS",
    "outputId": "4b1a7096-081d-41ab-b4a5-098563309b13"
   },
   "outputs": [
    {
     "data": {
      "text/plain": [
       "0.729151"
      ]
     },
     "execution_count": 4,
     "metadata": {},
     "output_type": "execute_result"
    }
   ],
   "source": [
    "#similarity between words\n",
    "wv.similarity(w1='great' , w2='good')\n"
   ]
  },
  {
   "cell_type": "code",
   "execution_count": 5,
   "metadata": {
    "colab": {
     "base_uri": "https://localhost:8080/"
    },
    "id": "5PR6OvWQ-Rpt",
    "outputId": "e68aa6e1-89d2-4729-b095-3373c678bf1e"
   },
   "outputs": [
    {
     "data": {
      "text/plain": [
       "1.0"
      ]
     },
     "execution_count": 5,
     "metadata": {},
     "output_type": "execute_result"
    }
   ],
   "source": [
    "#similarity between words\n",
    "wv.similarity(w1='good' , w2='good')\n"
   ]
  },
  {
   "cell_type": "code",
   "execution_count": 7,
   "metadata": {
    "colab": {
     "base_uri": "https://localhost:8080/"
    },
    "id": "U61RFyPm-oGO",
    "outputId": "f75f34b0-be3a-416d-96d4-fd99df94b853"
   },
   "outputs": [
    {
     "data": {
      "text/plain": [
       "0.5341936"
      ]
     },
     "execution_count": 7,
     "metadata": {},
     "output_type": "execute_result"
    }
   ],
   "source": [
    "#similarity between words\n",
    "wv.similarity(w1='karam' , w2='kareem')\n"
   ]
  },
  {
   "cell_type": "code",
   "execution_count": 8,
   "metadata": {
    "colab": {
     "base_uri": "https://localhost:8080/"
    },
    "id": "4fneKRtV-qhw",
    "outputId": "627b315e-af62-4df4-e7ec-5c892e707ea2"
   },
   "outputs": [
    {
     "data": {
      "text/plain": [
       "0.76094574"
      ]
     },
     "execution_count": 8,
     "metadata": {},
     "output_type": "execute_result"
    }
   ],
   "source": [
    "wv.similarity(\"cat\",'dog')"
   ]
  },
  {
   "cell_type": "code",
   "execution_count": null,
   "metadata": {
    "id": "xaKJBkFH-qkW"
   },
   "outputs": [],
   "source": [
    "#get most words simlar\n",
    "wv.most_similar(\"good\")"
   ]
  },
  {
   "cell_type": "code",
   "execution_count": 10,
   "metadata": {
    "colab": {
     "base_uri": "https://localhost:8080/"
    },
    "id": "CuyCZyvT-qnV",
    "outputId": "e0ebf141-6371-4c39-f417-ece45087b76c"
   },
   "outputs": [
    {
     "data": {
      "text/plain": [
       "[('dogs', 0.8680489659309387),\n",
       " ('puppy', 0.8106428384780884),\n",
       " ('pit_bull', 0.780396044254303),\n",
       " ('pooch', 0.7627376914024353),\n",
       " ('cat', 0.7609457969665527),\n",
       " ('golden_retriever', 0.7500901818275452),\n",
       " ('German_shepherd', 0.7465174198150635),\n",
       " ('Rottweiler', 0.7437615394592285),\n",
       " ('beagle', 0.7418621778488159),\n",
       " ('pup', 0.740691065788269)]"
      ]
     },
     "execution_count": 10,
     "metadata": {},
     "output_type": "execute_result"
    }
   ],
   "source": [
    "#get most words simlar\n",
    "wv.most_similar(\"dog\")"
   ]
  },
  {
   "cell_type": "code",
   "execution_count": null,
   "metadata": {
    "id": "NMbBkDW7Bpqj"
   },
   "outputs": [],
   "source": []
  },
  {
   "cell_type": "code",
   "execution_count": 12,
   "metadata": {
    "colab": {
     "base_uri": "https://localhost:8080/"
    },
    "id": "ujRnHkLe-qqD",
    "outputId": "607eaa72-6eb8-4aa1-c324-3bedc07be7b6"
   },
   "outputs": [
    {
     "data": {
      "text/plain": [
       "[('cats', 0.8099379539489746),\n",
       " ('dog', 0.760945737361908),\n",
       " ('kitten', 0.7464985251426697),\n",
       " ('feline', 0.7326234579086304),\n",
       " ('beagle', 0.7150582671165466),\n",
       " ('puppy', 0.7075453400611877),\n",
       " ('pup', 0.6934291124343872),\n",
       " ('pet', 0.6891531348228455),\n",
       " ('felines', 0.6755931973457336),\n",
       " ('chihuahua', 0.6709762215614319)]"
      ]
     },
     "execution_count": 12,
     "metadata": {},
     "output_type": "execute_result"
    }
   ],
   "source": [
    "#get most words simlar\n",
    "wv.most_similar(\"cat\")"
   ]
  },
  {
   "cell_type": "code",
   "execution_count": null,
   "metadata": {
    "id": "AbAo8aA6AjtY"
   },
   "outputs": [],
   "source": []
  },
  {
   "cell_type": "code",
   "execution_count": 13,
   "metadata": {
    "colab": {
     "base_uri": "https://localhost:8080/"
    },
    "id": "Y5aBkKYJA9ug",
    "outputId": "d6a821f9-c452-4488-d175-cbc0429ad5c2"
   },
   "outputs": [
    {
     "data": {
      "text/plain": [
       "[('queen', 0.7118193507194519),\n",
       " ('monarch', 0.6189674139022827),\n",
       " ('princess', 0.5902431011199951),\n",
       " ('crown_prince', 0.5499460697174072),\n",
       " ('prince', 0.5377321839332581)]"
      ]
     },
     "execution_count": 13,
     "metadata": {},
     "output_type": "execute_result"
    }
   ],
   "source": [
    "wv.most_similar(positive=['king', 'woman'], negative=['man'], topn=5)"
   ]
  },
  {
   "cell_type": "code",
   "execution_count": 16,
   "metadata": {
    "colab": {
     "base_uri": "https://localhost:8080/"
    },
    "id": "dyZ4k9Q5A9xe",
    "outputId": "53f79114-e437-4a7a-94d3-d79310ca482e"
   },
   "outputs": [
    {
     "data": {
      "text/plain": [
       "[('kings', 0.4295138418674469),\n",
       " ('queen', 0.39028695225715637),\n",
       " ('Pansy_Ho_Chiu', 0.3827225863933563),\n",
       " ('monarch', 0.3633837103843689),\n",
       " ('kingdom', 0.361450731754303)]"
      ]
     },
     "execution_count": 16,
     "metadata": {},
     "output_type": "execute_result"
    }
   ],
   "source": [
    "wv.most_similar(positive=['king'] , negative=['man'] ,topn=5)"
   ]
  },
  {
   "cell_type": "code",
   "execution_count": 19,
   "metadata": {
    "colab": {
     "base_uri": "https://localhost:8080/"
    },
    "id": "hazh0Sz2A90o",
    "outputId": "8b3e0666-1bb7-4cdd-bda7-4c612016a2f3"
   },
   "outputs": [
    {
     "data": {
      "text/plain": [
       "[('nation', 0.430027037858963),\n",
       " ('continent', 0.4110026955604553),\n",
       " ('countrys', 0.39118263125419617),\n",
       " ('country.The', 0.37238404154777527),\n",
       " ('coun_try', 0.3719717562198639)]"
      ]
     },
     "execution_count": 19,
     "metadata": {},
     "output_type": "execute_result"
    }
   ],
   "source": [
    "wv.most_similar(positive=['country'] , negative=['people'] ,topn=5)"
   ]
  },
  {
   "cell_type": "code",
   "execution_count": 20,
   "metadata": {
    "colab": {
     "base_uri": "https://localhost:8080/"
    },
    "id": "V8WtsXThA93m",
    "outputId": "d20e2f38-6cda-412b-8dc1-e8257899ffa1"
   },
   "outputs": [
    {
     "data": {
      "text/plain": [
       "[('bike', 0.7029864192008972),\n",
       " ('scooter', 0.6183437705039978),\n",
       " ('motorcycle', 0.608050525188446),\n",
       " ('bikes', 0.5650874376296997),\n",
       " ('mountain_bike', 0.5493469834327698)]"
      ]
     },
     "execution_count": 20,
     "metadata": {},
     "output_type": "execute_result"
    }
   ],
   "source": [
    "wv.most_similar(positive=['car', 'bicycle'], negative=['bus'], topn=5)\n"
   ]
  },
  {
   "cell_type": "code",
   "execution_count": null,
   "metadata": {
    "id": "YLD2QxCvA-Bt"
   },
   "outputs": [],
   "source": []
  },
  {
   "cell_type": "code",
   "execution_count": 23,
   "metadata": {
    "colab": {
     "base_uri": "https://localhost:8080/",
     "height": 36
    },
    "id": "XC0_EYjXA-Fg",
    "outputId": "a4dee551-36ab-4251-8ecb-7e2cfff5567e"
   },
   "outputs": [
    {
     "data": {
      "application/vnd.google.colaboratory.intrinsic+json": {
       "type": "string"
      },
      "text/plain": [
       "'dog'"
      ]
     },
     "execution_count": 23,
     "metadata": {},
     "output_type": "execute_result"
    }
   ],
   "source": [
    "# return word is not match\n",
    "wv.doesnt_match(['yahoo','dog','microsoft','google'])"
   ]
  },
  {
   "cell_type": "code",
   "execution_count": 25,
   "metadata": {
    "colab": {
     "base_uri": "https://localhost:8080/",
     "height": 36
    },
    "id": "9KRQAhaAA-Ip",
    "outputId": "f1cb54e4-4b82-4138-b6aa-11f861818dfd"
   },
   "outputs": [
    {
     "data": {
      "application/vnd.google.colaboratory.intrinsic+json": {
       "type": "string"
      },
      "text/plain": [
       "'person'"
      ]
     },
     "execution_count": 25,
     "metadata": {},
     "output_type": "execute_result"
    }
   ],
   "source": [
    "# return word is not match\n",
    "\n",
    "wv.doesnt_match(['cat','dog' ,'monkey' ,'person'])"
   ]
  },
  {
   "cell_type": "code",
   "execution_count": null,
   "metadata": {
    "id": "xlHGKqflEbqy"
   },
   "outputs": [],
   "source": []
  },
  {
   "cell_type": "code",
   "execution_count": 27,
   "metadata": {
    "colab": {
     "base_uri": "https://localhost:8080/"
    },
    "id": "wPgK56SxEbta",
    "outputId": "b135235e-b944-418a-d694-ddfad73e17f9"
   },
   "outputs": [
    {
     "name": "stdout",
     "output_type": "stream",
     "text": [
      "[==================================================] 100.0% 104.8/104.8MB downloaded\n"
     ]
    }
   ],
   "source": [
    "#load data google news\n",
    "#100 billion words\n",
    "glv = api.load(\"glove-twitter-25\")"
   ]
  },
  {
   "cell_type": "code",
   "execution_count": 29,
   "metadata": {
    "colab": {
     "base_uri": "https://localhost:8080/"
    },
    "id": "rbQXIYnQEbwC",
    "outputId": "c7c3100d-8ea3-4e23-eb41-e21c06f7745a"
   },
   "outputs": [
    {
     "data": {
      "text/plain": [
       "[('nikola', 0.8904832601547241),\n",
       " ('hartmann', 0.8798294067382812),\n",
       " ('strunk', 0.879176139831543),\n",
       " ('ice-t', 0.8784680366516113),\n",
       " ('hefner', 0.8749244809150696),\n",
       " ('safdar', 0.8681180477142334),\n",
       " ('o’hara', 0.8664085268974304),\n",
       " ('dejesus', 0.8610486388206482),\n",
       " ('corning', 0.8586575984954834),\n",
       " ('laverne', 0.858246922492981)]"
      ]
     },
     "execution_count": 29,
     "metadata": {},
     "output_type": "execute_result"
    }
   ],
   "source": [
    "#get most words simlar Glove\n",
    "\n",
    "glv.most_similar('musk')"
   ]
  },
  {
   "cell_type": "code",
   "execution_count": 30,
   "metadata": {
    "colab": {
     "base_uri": "https://localhost:8080/"
    },
    "id": "r7spDQavEb0p",
    "outputId": "1b394cb6-ea66-4bce-b481-a55c7aa31c04"
   },
   "outputs": [
    {
     "data": {
      "text/plain": [
       "[('musks', 0.6426751613616943),\n",
       " ('musky_scent', 0.6221791505813599),\n",
       " ('cedarwood', 0.6213290095329285),\n",
       " ('tonka_bean', 0.6161332726478577),\n",
       " ('oak_moss', 0.6089109182357788),\n",
       " ('bergamot', 0.6074428558349609),\n",
       " ('vetiver', 0.578200101852417),\n",
       " ('patchouli', 0.5777205228805542),\n",
       " ('night_blooming_jasmine', 0.5773146748542786),\n",
       " ('musky_odor', 0.5768075585365295)]"
      ]
     },
     "execution_count": 30,
     "metadata": {},
     "output_type": "execute_result"
    }
   ],
   "source": [
    "#get most words simlar\n",
    "\n",
    "wv.most_similar('musk')"
   ]
  },
  {
   "cell_type": "code",
   "execution_count": 31,
   "metadata": {
    "colab": {
     "base_uri": "https://localhost:8080/",
     "height": 36
    },
    "id": "wP3yY6kYFw0d",
    "outputId": "561723bb-1f35-4aeb-d8ef-93e4635a5c10"
   },
   "outputs": [
    {
     "data": {
      "application/vnd.google.colaboratory.intrinsic+json": {
       "type": "string"
      },
      "text/plain": [
       "'cereal'"
      ]
     },
     "execution_count": 31,
     "metadata": {},
     "output_type": "execute_result"
    }
   ],
   "source": [
    "# return word is not match Glove\n",
    "glv.doesnt_match(\"breakfast cereal dinner lunch\".split())\n"
   ]
  },
  {
   "cell_type": "code",
   "execution_count": 37,
   "metadata": {
    "colab": {
     "base_uri": "https://localhost:8080/",
     "height": 36
    },
    "id": "Gq85TnPNGTg2",
    "outputId": "4f3d6f62-d173-4022-c88e-c2324694a0d5"
   },
   "outputs": [
    {
     "data": {
      "application/vnd.google.colaboratory.intrinsic+json": {
       "type": "string"
      },
      "text/plain": [
       "'car'"
      ]
     },
     "execution_count": 37,
     "metadata": {},
     "output_type": "execute_result"
    }
   ],
   "source": [
    "# return word is not match Glove\n",
    "glv.doesnt_match(\"good great nice car\".split())\n"
   ]
  },
  {
   "cell_type": "code",
   "execution_count": null,
   "metadata": {
    "id": "LxKL5XwyGhOl"
   },
   "outputs": [],
   "source": []
  }
 ],
 "metadata": {
  "colab": {
   "provenance": []
  },
  "kernelspec": {
   "display_name": "Python 3 (ipykernel)",
   "language": "python",
   "name": "python3"
  },
  "language_info": {
   "codemirror_mode": {
    "name": "ipython",
    "version": 3
   },
   "file_extension": ".py",
   "mimetype": "text/x-python",
   "name": "python",
   "nbconvert_exporter": "python",
   "pygments_lexer": "ipython3",
   "version": "3.9.13"
  }
 },
 "nbformat": 4,
 "nbformat_minor": 1
}
