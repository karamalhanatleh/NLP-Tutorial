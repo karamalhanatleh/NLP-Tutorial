{
 "cells": [
  {
   "cell_type": "markdown",
   "id": "07955e93",
   "metadata": {},
   "source": [
    "# Part Of Speech POS Tagging"
   ]
  },
  {
   "cell_type": "code",
   "execution_count": 1,
   "id": "90408c6d",
   "metadata": {},
   "outputs": [],
   "source": [
    "#import paskages\n",
    "import spacy"
   ]
  },
  {
   "cell_type": "code",
   "execution_count": 6,
   "id": "0def4eff",
   "metadata": {},
   "outputs": [],
   "source": [
    "#  loads the pre-trained \"en_core_web_sm\" language model.\n",
    "\n",
    "nlp =spacy.load(\"en_core_web_sm\")"
   ]
  },
  {
   "cell_type": "code",
   "execution_count": 9,
   "id": "2a4ffd3a",
   "metadata": {},
   "outputs": [],
   "source": [
    "#creates a Doc object by parsing  text.\n",
    "doc =nlp(\"Elon flew to mars yesterday. He carried biryani masala with him\")"
   ]
  },
  {
   "cell_type": "code",
   "execution_count": 10,
   "id": "1903b5c2",
   "metadata": {},
   "outputs": [
    {
     "name": "stdout",
     "output_type": "stream",
     "text": [
      "Elon\n",
      "flew\n",
      "to\n",
      "mars\n",
      "yesterday\n",
      ".\n",
      "He\n",
      "carried\n",
      "biryani\n",
      "masala\n",
      "with\n",
      "him\n"
     ]
    }
   ],
   "source": [
    "# iterates over each token in the document and prints it. \n",
    "for token in doc:\n",
    "    print(token)"
   ]
  },
  {
   "cell_type": "code",
   "execution_count": null,
   "id": "9afdd258",
   "metadata": {},
   "outputs": [],
   "source": []
  },
  {
   "cell_type": "code",
   "execution_count": 16,
   "id": "f74ce4dc",
   "metadata": {},
   "outputs": [
    {
     "name": "stdout",
     "output_type": "stream",
     "text": [
      "Elon  |  PROPN  |  proper noun\n",
      "flew  |  VERB  |  verb\n",
      "to  |  ADP  |  adposition\n",
      "mars  |  NOUN  |  noun\n",
      "yesterday  |  NOUN  |  noun\n",
      ".  |  PUNCT  |  punctuation\n",
      "He  |  PRON  |  pronoun\n",
      "carried  |  VERB  |  verb\n",
      "biryani  |  ADJ  |  adjective\n",
      "masala  |  NOUN  |  noun\n",
      "with  |  ADP  |  adposition\n",
      "him  |  PRON  |  pronoun\n"
     ]
    }
   ],
   "source": [
    "#printing out the part-of-speech tag of each token along with its explanation. \n",
    "doc =nlp(\"Elon flew to mars yesterday. He carried biryani masala with him\")\n",
    "\n",
    "for token in doc:\n",
    "    print(token, \" | \" , token.pos_ , \" | \" , spacy.explain(token.pos_) )"
   ]
  },
  {
   "cell_type": "code",
   "execution_count": null,
   "id": "970b14e6",
   "metadata": {},
   "outputs": [],
   "source": []
  },
  {
   "cell_type": "code",
   "execution_count": 17,
   "id": "f60bb446",
   "metadata": {},
   "outputs": [
    {
     "name": "stdout",
     "output_type": "stream",
     "text": [
      "Karam  |  PROPN  |  proper noun\n",
      "wanted  |  VERB  |  verb\n",
      "to  |  PART  |  particle\n",
      "go  |  VERB  |  verb\n",
      "to  |  ADP  |  adposition\n",
      "university  |  NOUN  |  noun\n",
      "in  |  ADP  |  adposition\n",
      "the  |  DET  |  determiner\n",
      "afternoon  |  NOUN  |  noun\n",
      ",  |  PUNCT  |  punctuation\n",
      "but  |  CCONJ  |  coordinating conjunction\n",
      "there  |  PRON  |  pronoun\n",
      "was  |  VERB  |  verb\n",
      "an  |  DET  |  determiner\n",
      "accident  |  NOUN  |  noun\n",
      "on  |  ADP  |  adposition\n",
      "the  |  DET  |  determiner\n",
      "road  |  NOUN  |  noun\n",
      "and  |  CCONJ  |  coordinating conjunction\n",
      "he  |  PRON  |  pronoun\n",
      "was  |  AUX  |  auxiliary\n",
      "late  |  ADJ  |  adjective\n"
     ]
    }
   ],
   "source": [
    "#ex2\n",
    "#printing out the part-of-speech tag of each token along with its explanation. \n",
    "doc =nlp(\"Karam wanted to go to university in the afternoon, but there was an accident on the road and he was late\")\n",
    "\n",
    "for token in doc:\n",
    "    print(token, \" | \" , token.pos_ , \" | \" , spacy.explain(token.pos_) )"
   ]
  },
  {
   "cell_type": "code",
   "execution_count": null,
   "id": "a27fad22",
   "metadata": {},
   "outputs": [],
   "source": []
  },
  {
   "cell_type": "code",
   "execution_count": 18,
   "id": "f88ec18f",
   "metadata": {},
   "outputs": [
    {
     "data": {
      "text/plain": [
       "['tok2vec', 'tagger', 'parser', 'attribute_ruler', 'lemmatizer', 'ner']"
      ]
     },
     "execution_count": 18,
     "metadata": {},
     "output_type": "execute_result"
    }
   ],
   "source": [
    "nlp.pipe_names"
   ]
  },
  {
   "cell_type": "code",
   "execution_count": null,
   "id": "c1687245",
   "metadata": {},
   "outputs": [],
   "source": []
  }
 ],
 "metadata": {
  "kernelspec": {
   "display_name": "Python 3 (ipykernel)",
   "language": "python",
   "name": "python3"
  },
  "language_info": {
   "codemirror_mode": {
    "name": "ipython",
    "version": 3
   },
   "file_extension": ".py",
   "mimetype": "text/x-python",
   "name": "python",
   "nbconvert_exporter": "python",
   "pygments_lexer": "ipython3",
   "version": "3.9.13"
  }
 },
 "nbformat": 4,
 "nbformat_minor": 5
}
