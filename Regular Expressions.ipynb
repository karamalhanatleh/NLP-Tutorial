{
 "cells": [
  {
   "cell_type": "code",
   "execution_count": null,
   "id": "8b1a25b7",
   "metadata": {},
   "outputs": [],
   "source": []
  },
  {
   "cell_type": "markdown",
   "id": "9f010c2f",
   "metadata": {},
   "source": [
    "###### Will start with basic traditional search of text "
   ]
  },
  {
   "cell_type": "code",
   "execution_count": 9,
   "id": "7d1b4045",
   "metadata": {},
   "outputs": [],
   "source": [
    "#find \"@\" in email for check if it email or not\n",
    "def find_email():\n",
    "    email=input(\"what is your email\").strip()\n",
    "\n",
    "    if \"@\" in email:\n",
    "        print(\"Valid\")\n",
    "    else :\n",
    "        print(\"Invalid\")"
   ]
  },
  {
   "cell_type": "code",
   "execution_count": 7,
   "id": "f6a5a5c0",
   "metadata": {},
   "outputs": [
    {
     "name": "stdout",
     "output_type": "stream",
     "text": [
      "what is your emailabc@gmail.com\n",
      "Valid\n"
     ]
    }
   ],
   "source": [
    "find_email()"
   ]
  },
  {
   "cell_type": "markdown",
   "id": "4e02cee9",
   "metadata": {},
   "source": [
    "ok , but sometime input text not email just @ "
   ]
  },
  {
   "cell_type": "code",
   "execution_count": 8,
   "id": "8eb62269",
   "metadata": {},
   "outputs": [
    {
     "name": "stdout",
     "output_type": "stream",
     "text": [
      "what is your email2@\n",
      "Valid\n"
     ]
    }
   ],
   "source": [
    "find_email()"
   ]
  },
  {
   "cell_type": "markdown",
   "id": "47292c44",
   "metadata": {},
   "source": [
    "this not acceptable"
   ]
  },
  {
   "cell_type": "code",
   "execution_count": null,
   "id": "d6ca34a0",
   "metadata": {},
   "outputs": [],
   "source": []
  },
  {
   "cell_type": "markdown",
   "id": "acab79ef",
   "metadata": {},
   "source": [
    "so i will add condition (check \".\" ) to function "
   ]
  },
  {
   "cell_type": "code",
   "execution_count": 13,
   "id": "fa10facb",
   "metadata": {},
   "outputs": [],
   "source": [
    "#find \"@\" and \".\" in email for check if it email or not\n",
    "def find_email():\n",
    "    email=input(\"what is your email \").strip()\n",
    "\n",
    "    if \"@\" in email and '.' in email:\n",
    "        print(\"Valid\")\n",
    "    else :\n",
    "        print(\"Invalid\")"
   ]
  },
  {
   "cell_type": "code",
   "execution_count": 17,
   "id": "7ceb6cc9",
   "metadata": {},
   "outputs": [
    {
     "name": "stdout",
     "output_type": "stream",
     "text": [
      "what is your email aaa@gmail\n",
      "Invalid\n"
     ]
    }
   ],
   "source": [
    "find_email()"
   ]
  },
  {
   "cell_type": "code",
   "execution_count": 18,
   "id": "829a7c73",
   "metadata": {},
   "outputs": [
    {
     "name": "stdout",
     "output_type": "stream",
     "text": [
      "what is your email aaa@gmail.com\n",
      "Valid\n"
     ]
    }
   ],
   "source": [
    "find_email()"
   ]
  },
  {
   "cell_type": "code",
   "execution_count": 19,
   "id": "a29f330b",
   "metadata": {},
   "outputs": [
    {
     "name": "stdout",
     "output_type": "stream",
     "text": [
      "what is your email @.\n",
      "Valid\n"
     ]
    }
   ],
   "source": [
    "find_email()"
   ]
  },
  {
   "cell_type": "code",
   "execution_count": null,
   "id": "319d4ded",
   "metadata": {},
   "outputs": [],
   "source": []
  },
  {
   "cell_type": "markdown",
   "id": "adfae8d5",
   "metadata": {},
   "source": [
    "It needs more tuning"
   ]
  },
  {
   "cell_type": "code",
   "execution_count": 25,
   "id": "2f1118ca",
   "metadata": {},
   "outputs": [],
   "source": [
    "# split email to username and domain and check it \n",
    "def find_email():\n",
    "    email=input(\"what is your email :\").strip()\n",
    "\n",
    "    username,domain=email.split(\"@\")\n",
    "    \n",
    "    if username and '.' in domain:\n",
    "        print(\"Valid\")\n",
    "    else:\n",
    "        print(\"Invalid\")"
   ]
  },
  {
   "cell_type": "code",
   "execution_count": 26,
   "id": "42b24a3f",
   "metadata": {},
   "outputs": [
    {
     "name": "stdout",
     "output_type": "stream",
     "text": [
      "what is your email :aaa@gmail.com\n",
      "Valid\n"
     ]
    }
   ],
   "source": [
    "find_email()"
   ]
  },
  {
   "cell_type": "code",
   "execution_count": 27,
   "id": "de5389f2",
   "metadata": {},
   "outputs": [
    {
     "name": "stdout",
     "output_type": "stream",
     "text": [
      "what is your email :aaa@gmail\n",
      "Invalid\n"
     ]
    }
   ],
   "source": [
    "find_email()"
   ]
  },
  {
   "cell_type": "code",
   "execution_count": null,
   "id": "0d87cafe",
   "metadata": {},
   "outputs": [],
   "source": []
  },
  {
   "cell_type": "code",
   "execution_count": 32,
   "id": "25172c98",
   "metadata": {},
   "outputs": [],
   "source": [
    "# add check email must domain 'edu'\n",
    "def find_email():\n",
    "    email=input(\"what is your email :\").strip()\n",
    "\n",
    "    username,domain=email.split(\"@\")\n",
    "    \n",
    "    if username and domain.endswith(\".edu\"):\n",
    "        print(\"Valid\")\n",
    "    else:\n",
    "        print(\"Invalid\")"
   ]
  },
  {
   "cell_type": "code",
   "execution_count": 33,
   "id": "a5632117",
   "metadata": {},
   "outputs": [
    {
     "name": "stdout",
     "output_type": "stream",
     "text": [
      "what is your email :aaa@ju.edu\n",
      "Valid\n"
     ]
    }
   ],
   "source": [
    "find_email()"
   ]
  },
  {
   "cell_type": "code",
   "execution_count": 34,
   "id": "c318294a",
   "metadata": {},
   "outputs": [
    {
     "name": "stdout",
     "output_type": "stream",
     "text": [
      "what is your email :aaaa@.edu\n",
      "Valid\n"
     ]
    }
   ],
   "source": [
    "find_email()"
   ]
  },
  {
   "cell_type": "code",
   "execution_count": null,
   "id": "a7cef05b",
   "metadata": {},
   "outputs": [],
   "source": []
  },
  {
   "cell_type": "markdown",
   "id": "569a3074",
   "metadata": {},
   "source": [
    "###### Well, if I were to continue, it would take a lot of time and write the code to fully adjust it, but instead I will use paskage re"
   ]
  },
  {
   "cell_type": "markdown",
   "id": "e0a4042e",
   "metadata": {},
   "source": [
    "The re package provides support for working with regular expressions, which are powerful tools for matching and manipulating text based on patterns\n",
    "\n"
   ]
  },
  {
   "cell_type": "markdown",
   "id": "2c0d8405",
   "metadata": {},
   "source": [
    "#### Key Uses of the `re` Package\n",
    "\n",
    "1.  Pattern Matching: \n",
    "   -  Finding Patterns:  `re.search(pattern, string)` scans through a string, looking for any location where the pattern matches.\n",
    "   -  Matching at the Start:  `re.match(pattern, string)` checks for a match only at the beginning of the string.\n",
    "   -  Finding All Matches:  `re.findall(pattern, string)` finds all substrings where the pattern matches and returns them as a list.\n",
    "   -  Iterating Matches:  `re.finditer(pattern, string)` finds all substrings where the pattern matches and returns them as an iterator of match objects.\n",
    "\n",
    "2.  Substitution: \n",
    "   -  Replacing Patterns:  `re.sub(pattern, repl, string)` replaces the leftmost non-overlapping occurrences of the pattern in the string with the replacement string `repl`.\n",
    "\n",
    "3.  Splitting Strings: \n",
    "   -  Splitting by Pattern:  `re.split(pattern, string)` splits the string by the occurrences of the pattern and returns a list.\n",
    "\n",
    "4.  Compilation of Patterns: \n",
    "   -  Precompiling Patterns:  `re.compile(pattern)` compiles a regular expression pattern into a regex object, which can be used for matching using its methods.\n",
    "\n",
    "5.  Match Object Methods: \n",
    "   -  Group Extraction:  The `group()` method of match objects retrieves the matched text.\n",
    "   -  Start and End:  The `start()` and `end()` methods return the start and end positions of the match.\n",
    "   -  Span:  The `span()` method returns a tuple containing the start and end positions of the match.\n",
    "\n"
   ]
  },
  {
   "attachments": {
    "image.png": {
     "image/png": "[encoded data removed]"
    }
   },
   "cell_type": "markdown",
   "id": "ab7e0c1b",
   "metadata": {},
   "source": [
    "![image.png](attachment:image.png)"
   ]
  },
  {
   "cell_type": "code",
   "execution_count": 1,
   "id": "af2c0ec3",
   "metadata": {},
   "outputs": [],
   "source": [
    "#import paskages\n",
    "import re"
   ]
  },
  {
   "cell_type": "code",
   "execution_count": 47,
   "id": "ece9d40a",
   "metadata": {},
   "outputs": [],
   "source": [
    "# check written anything username and domain \n",
    "def find_email():\n",
    "    email=input(\"what is your email :\").strip()\n",
    "\n",
    "    if re.search(\".+@.+\",email):\n",
    "        print(\"Valid\")\n",
    "    else:\n",
    "        print(\"Invalid\")"
   ]
  },
  {
   "cell_type": "code",
   "execution_count": 48,
   "id": "0f85e581",
   "metadata": {},
   "outputs": [
    {
     "name": "stdout",
     "output_type": "stream",
     "text": [
      "what is your email :aaa@\n",
      "Invalid\n"
     ]
    }
   ],
   "source": [
    "find_email()"
   ]
  },
  {
   "cell_type": "code",
   "execution_count": 49,
   "id": "44d6f01b",
   "metadata": {},
   "outputs": [
    {
     "name": "stdout",
     "output_type": "stream",
     "text": [
      "what is your email :aaa@gmail\n",
      "Valid\n"
     ]
    }
   ],
   "source": [
    "find_email()"
   ]
  },
  {
   "cell_type": "code",
   "execution_count": null,
   "id": "f9fe4a53",
   "metadata": {},
   "outputs": [],
   "source": []
  },
  {
   "cell_type": "markdown",
   "id": "a08a5007",
   "metadata": {},
   "source": [
    "must detect domain name edu ( end with edu)"
   ]
  },
  {
   "cell_type": "code",
   "execution_count": 53,
   "id": "6ed8a094",
   "metadata": {},
   "outputs": [],
   "source": [
    "# \n",
    "def find_email():\n",
    "    email=input(\"what is your email :\").strip()\n",
    "\n",
    "    if re.search(\".+@.+.edu\",email):\n",
    "        print(\"Valid\")\n",
    "    else:\n",
    "        print(\"Invalid\")"
   ]
  },
  {
   "cell_type": "code",
   "execution_count": 51,
   "id": "03a7e77d",
   "metadata": {},
   "outputs": [
    {
     "name": "stdout",
     "output_type": "stream",
     "text": [
      "what is your email :aaa@ju.edu\n",
      "Valid\n"
     ]
    }
   ],
   "source": [
    "find_email()"
   ]
  },
  {
   "cell_type": "code",
   "execution_count": 52,
   "id": "d3f7121c",
   "metadata": {},
   "outputs": [
    {
     "name": "stdout",
     "output_type": "stream",
     "text": [
      "what is your email :aaa@ju.bbedu\n",
      "Valid\n"
     ]
    }
   ],
   "source": [
    "find_email()"
   ]
  },
  {
   "cell_type": "markdown",
   "id": "f4d57c0a",
   "metadata": {},
   "source": [
    "This is not accurate, as it accepts a word ending in edu"
   ]
  },
  {
   "cell_type": "code",
   "execution_count": null,
   "id": "b47b5a6f",
   "metadata": {},
   "outputs": [],
   "source": []
  },
  {
   "cell_type": "code",
   "execution_count": 54,
   "id": "52aa101c",
   "metadata": {},
   "outputs": [],
   "source": [
    "#will detect with domain end with '.edu'"
   ]
  },
  {
   "cell_type": "code",
   "execution_count": 55,
   "id": "e7b02d27",
   "metadata": {},
   "outputs": [],
   "source": [
    "#\n",
    "#will add 'r' in beginning : indecate python not try interpert any Backslashes\n",
    "def find_email():\n",
    "    email=input(\"what is your email :\").strip()\n",
    "\n",
    "    if re.search(r\".+@.+\\.edu\",email):\n",
    "        print(\"Valid\")\n",
    "    else:\n",
    "        print(\"Invalid\")"
   ]
  },
  {
   "cell_type": "code",
   "execution_count": 56,
   "id": "c9a4d0ab",
   "metadata": {},
   "outputs": [
    {
     "name": "stdout",
     "output_type": "stream",
     "text": [
      "what is your email :aaa@ju.bbedu\n",
      "Invalid\n"
     ]
    }
   ],
   "source": [
    "find_email()"
   ]
  },
  {
   "cell_type": "code",
   "execution_count": 57,
   "id": "96b885f8",
   "metadata": {},
   "outputs": [
    {
     "name": "stdout",
     "output_type": "stream",
     "text": [
      "what is your email :aa@ju.edu\n",
      "Valid\n"
     ]
    }
   ],
   "source": [
    "find_email()"
   ]
  },
  {
   "cell_type": "code",
   "execution_count": 58,
   "id": "6e39e0f5",
   "metadata": {
    "scrolled": true
   },
   "outputs": [
    {
     "name": "stdout",
     "output_type": "stream",
     "text": [
      "what is your email :aaa@@@@@@@ju.edu\n",
      "Valid\n"
     ]
    }
   ],
   "source": [
    "find_email()"
   ]
  },
  {
   "cell_type": "code",
   "execution_count": 59,
   "id": "a6cbddf0",
   "metadata": {
    "scrolled": true
   },
   "outputs": [
    {
     "name": "stdout",
     "output_type": "stream",
     "text": [
      "what is your email :hello world my name is karam@ju.edu\n",
      "Valid\n"
     ]
    }
   ],
   "source": [
    "find_email()"
   ]
  },
  {
   "cell_type": "markdown",
   "id": "9aa14684",
   "metadata": {},
   "source": [
    "Not true, but more adjustments are required for the function"
   ]
  },
  {
   "cell_type": "markdown",
   "id": "245e05b3",
   "metadata": {},
   "source": [
    "  "
   ]
  },
  {
   "cell_type": "code",
   "execution_count": null,
   "id": "b614476e",
   "metadata": {},
   "outputs": [],
   "source": []
  },
  {
   "cell_type": "markdown",
   "id": "08a0a7e1",
   "metadata": {},
   "source": [
    "will use it $ and  ^ "
   ]
  },
  {
   "cell_type": "code",
   "execution_count": 7,
   "id": "e277c114",
   "metadata": {},
   "outputs": [],
   "source": [
    "def find_email():\n",
    "    email=input(\"what is your email :\").strip()\n",
    "\n",
    "    if re.search(r\"^.+@.+\\.edu$\",email):\n",
    "        print(\"Valid\")\n",
    "    else:\n",
    "        print(\"Invalid\")"
   ]
  },
  {
   "cell_type": "code",
   "execution_count": 10,
   "id": "16829463",
   "metadata": {},
   "outputs": [
    {
     "name": "stdout",
     "output_type": "stream",
     "text": [
      "what is your email :aaa@ju.edu\n",
      "Valid\n"
     ]
    }
   ],
   "source": [
    "find_email()"
   ]
  },
  {
   "cell_type": "code",
   "execution_count": 8,
   "id": "c71cbae1",
   "metadata": {},
   "outputs": [
    {
     "name": "stdout",
     "output_type": "stream",
     "text": [
      "what is your email :hello world my name is karam@ju.edu.\n",
      "Invalid\n"
     ]
    }
   ],
   "source": [
    "find_email()"
   ]
  },
  {
   "cell_type": "code",
   "execution_count": 11,
   "id": "c890b8e7",
   "metadata": {},
   "outputs": [
    {
     "name": "stdout",
     "output_type": "stream",
     "text": [
      "what is your email :aaa@@@ju.edu\n",
      "Valid\n"
     ]
    }
   ],
   "source": [
    "find_email()"
   ]
  },
  {
   "cell_type": "code",
   "execution_count": null,
   "id": "231ed9ea",
   "metadata": {},
   "outputs": [],
   "source": []
  },
  {
   "cell_type": "code",
   "execution_count": null,
   "id": "04fedd30",
   "metadata": {},
   "outputs": [],
   "source": []
  },
  {
   "cell_type": "markdown",
   "id": "3b5adb29",
   "metadata": {},
   "source": [
    "[]   set of characters\n",
    "\n",
    "[^ ]  complementing set"
   ]
  },
  {
   "cell_type": "code",
   "execution_count": null,
   "id": "16461332",
   "metadata": {},
   "outputs": [],
   "source": []
  },
  {
   "cell_type": "markdown",
   "id": "72be21e7",
   "metadata": {},
   "source": [
    "This regex matches email addresses that start with one or more characters not including @, followed by an @, one or more characters not including @, and ending with .edu."
   ]
  },
  {
   "cell_type": "code",
   "execution_count": 12,
   "id": "661129fe",
   "metadata": {},
   "outputs": [],
   "source": [
    "def find_email():\n",
    "    email=input(\"what is your email :\").strip()\n",
    "\n",
    "    if re.search(r\"^[^@]+@[^@]+\\.edu$\",email):\n",
    "        print(\"Valid\")\n",
    "    else:\n",
    "        print(\"Invalid\")"
   ]
  },
  {
   "cell_type": "code",
   "execution_count": 13,
   "id": "d82c9786",
   "metadata": {},
   "outputs": [
    {
     "name": "stdout",
     "output_type": "stream",
     "text": [
      "what is your email :aaa@@@ju.edu\n",
      "Invalid\n"
     ]
    }
   ],
   "source": [
    "find_email()"
   ]
  },
  {
   "cell_type": "code",
   "execution_count": 14,
   "id": "3b9a8646",
   "metadata": {},
   "outputs": [
    {
     "name": "stdout",
     "output_type": "stream",
     "text": [
      "what is your email :aaa@hu.edu\n",
      "Valid\n"
     ]
    }
   ],
   "source": [
    "find_email()"
   ]
  },
  {
   "cell_type": "code",
   "execution_count": 15,
   "id": "4cd723ea",
   "metadata": {},
   "outputs": [
    {
     "name": "stdout",
     "output_type": "stream",
     "text": [
      "what is your email :.edu\n",
      "Invalid\n"
     ]
    }
   ],
   "source": [
    "find_email()"
   ]
  },
  {
   "cell_type": "code",
   "execution_count": null,
   "id": "ac885efb",
   "metadata": {},
   "outputs": [],
   "source": []
  },
  {
   "cell_type": "code",
   "execution_count": null,
   "id": "0f1fca91",
   "metadata": {},
   "outputs": [],
   "source": []
  },
  {
   "cell_type": "markdown",
   "id": "ea9a85cd",
   "metadata": {},
   "source": [
    "This regex matches email addresses that start with one or more word characters, followed by an @, then one or more word characters, and ending with .edu.\n",
    "\n",
    "\n",
    "\n"
   ]
  },
  {
   "cell_type": "code",
   "execution_count": 16,
   "id": "a8965706",
   "metadata": {},
   "outputs": [],
   "source": [
    "def find_email():\n",
    "    email=input(\"what is your email :\").strip()\n",
    "\n",
    "    if re.search(r\"^\\w+@\\w+\\.edu$\",email):\n",
    "        print(\"Valid\")\n",
    "    else:\n",
    "        print(\"Invalid\")"
   ]
  },
  {
   "cell_type": "code",
   "execution_count": 18,
   "id": "8a339aa5",
   "metadata": {},
   "outputs": [
    {
     "name": "stdout",
     "output_type": "stream",
     "text": [
      "what is your email :aaa@ju.edu\n",
      "Valid\n"
     ]
    }
   ],
   "source": [
    "find_email()"
   ]
  },
  {
   "cell_type": "code",
   "execution_count": 19,
   "id": "c37dff99",
   "metadata": {},
   "outputs": [
    {
     "name": "stdout",
     "output_type": "stream",
     "text": [
      "what is your email :AAA@JU.EDU\n",
      "Invalid\n"
     ]
    }
   ],
   "source": [
    "find_email()"
   ]
  },
  {
   "cell_type": "markdown",
   "id": "1942987a",
   "metadata": {},
   "source": [
    "this because must email end with ('edu') small laster "
   ]
  },
  {
   "cell_type": "markdown",
   "id": "60ca45a8",
   "metadata": {},
   "source": [
    "will solve it with convert email to lower case"
   ]
  },
  {
   "cell_type": "code",
   "execution_count": 4,
   "id": "c3e9e029",
   "metadata": {},
   "outputs": [],
   "source": [
    "def find_email():\n",
    "    email=input(\"what is your email :\").strip().lower()\n",
    "\n",
    "    if re.search(r\"^\\w+@\\w+\\.edu$\",email):\n",
    "        print(\"Valid\")\n",
    "    else:\n",
    "        print(\"Invalid\")"
   ]
  },
  {
   "cell_type": "code",
   "execution_count": 5,
   "id": "73c44ea9",
   "metadata": {},
   "outputs": [
    {
     "name": "stdout",
     "output_type": "stream",
     "text": [
      "what is your email :AAA2@JU.EDU\n",
      "Valid\n"
     ]
    }
   ],
   "source": [
    "find_email()"
   ]
  },
  {
   "cell_type": "code",
   "execution_count": 6,
   "id": "2aa05b81",
   "metadata": {
    "scrolled": true
   },
   "outputs": [
    {
     "name": "stdout",
     "output_type": "stream",
     "text": [
      "what is your email :aaa@ju.gov.edu\n",
      "Invalid\n"
     ]
    }
   ],
   "source": [
    "find_email()"
   ]
  },
  {
   "cell_type": "markdown",
   "id": "590373ec",
   "metadata": {},
   "source": [
    " "
   ]
  },
  {
   "cell_type": "markdown",
   "id": "02cbbfc3",
   "metadata": {},
   "source": [
    "There is a problem reading the subdomain"
   ]
  },
  {
   "cell_type": "code",
   "execution_count": 7,
   "id": "1264a95e",
   "metadata": {},
   "outputs": [],
   "source": [
    "def find_email():\n",
    "    email=input(\"what is your email :\").strip().lower()\n",
    "\n",
    "    if re.search(r\"^\\w+@(\\w+\\.)?\\w+\\.edu$\",email):\n",
    "        print(\"Valid\")\n",
    "    else:\n",
    "        print(\"Invalid\")"
   ]
  },
  {
   "cell_type": "code",
   "execution_count": 8,
   "id": "6a9d8eff",
   "metadata": {},
   "outputs": [
    {
     "name": "stdout",
     "output_type": "stream",
     "text": [
      "what is your email :aaa@ju.gov.edu\n",
      "Valid\n"
     ]
    }
   ],
   "source": [
    "find_email()"
   ]
  },
  {
   "cell_type": "code",
   "execution_count": null,
   "id": "99b2683d",
   "metadata": {},
   "outputs": [],
   "source": []
  },
  {
   "cell_type": "code",
   "execution_count": null,
   "id": "9acc240f",
   "metadata": {},
   "outputs": [],
   "source": []
  },
  {
   "cell_type": "markdown",
   "id": "580342a9",
   "metadata": {},
   "source": [
    "_______________________________________"
   ]
  },
  {
   "cell_type": "markdown",
   "id": "4ce6854e",
   "metadata": {},
   "source": [
    "_______________________________________"
   ]
  },
  {
   "cell_type": "markdown",
   "id": "5fed394b",
   "metadata": {},
   "source": [
    "## Reformat user input into the desired format"
   ]
  },
  {
   "cell_type": "code",
   "execution_count": null,
   "id": "398b1a31",
   "metadata": {},
   "outputs": [],
   "source": []
  },
  {
   "cell_type": "code",
   "execution_count": 11,
   "id": "835b94f3",
   "metadata": {},
   "outputs": [
    {
     "name": "stdout",
     "output_type": "stream",
     "text": [
      "What's your name? karam\n",
      "hello , karam\n"
     ]
    }
   ],
   "source": [
    "#print nello {name}\n",
    "name = input(\"What's your name? \").strip()\n",
    "print(f\"hello , {name}\")"
   ]
  },
  {
   "cell_type": "code",
   "execution_count": null,
   "id": "7db8e9f3",
   "metadata": {},
   "outputs": [],
   "source": []
  },
  {
   "cell_type": "code",
   "execution_count": 16,
   "id": "912640fb",
   "metadata": {},
   "outputs": [
    {
     "name": "stdout",
     "output_type": "stream",
     "text": [
      "What's your name? Karam\n",
      "hello , Karam\n"
     ]
    }
   ],
   "source": [
    "# if exist comman replace it first and last name \n",
    "def check_name():\n",
    "    name = input(\"What's your name? \").strip()\n",
    "    if \",\" in name:\n",
    "        last,first = name.split(\", \")\n",
    "        name=f\"{first} {last}\"\n",
    "    print(f\"hello , {name}\")\n",
    "check_name()"
   ]
  },
  {
   "cell_type": "code",
   "execution_count": 17,
   "id": "a699af51",
   "metadata": {},
   "outputs": [
    {
     "name": "stdout",
     "output_type": "stream",
     "text": [
      "What's your name? karam suleiman\n",
      "hello , karam suleiman\n"
     ]
    }
   ],
   "source": [
    "check_name()"
   ]
  },
  {
   "cell_type": "code",
   "execution_count": 18,
   "id": "9e63a6b4",
   "metadata": {},
   "outputs": [
    {
     "name": "stdout",
     "output_type": "stream",
     "text": [
      "What's your name? karam , suleiman\n",
      "hello , suleiman karam \n"
     ]
    }
   ],
   "source": [
    "check_name()"
   ]
  },
  {
   "cell_type": "code",
   "execution_count": 19,
   "id": "38ddc429",
   "metadata": {},
   "outputs": [
    {
     "name": "stdout",
     "output_type": "stream",
     "text": [
      "What's your name? karam,ali\n"
     ]
    },
    {
     "ename": "ValueError",
     "evalue": "not enough values to unpack (expected 2, got 1)",
     "output_type": "error",
     "traceback": [
      "\u001b[1;31m---------------------------------------------------------------------------\u001b[0m",
      "\u001b[1;31mValueError\u001b[0m                                Traceback (most recent call last)",
      "\u001b[1;32m~\\AppData\\Local\\Temp\\ipykernel_3532\\1558815372.py\u001b[0m in \u001b[0;36m<module>\u001b[1;34m\u001b[0m\n\u001b[1;32m----> 1\u001b[1;33m \u001b[0mcheck_name\u001b[0m\u001b[1;33m(\u001b[0m\u001b[1;33m)\u001b[0m\u001b[1;33m\u001b[0m\u001b[1;33m\u001b[0m\u001b[0m\n\u001b[0m",
      "\u001b[1;32m~\\AppData\\Local\\Temp\\ipykernel_3532\\2376328851.py\u001b[0m in \u001b[0;36mcheck_name\u001b[1;34m()\u001b[0m\n\u001b[0;32m      3\u001b[0m     \u001b[0mname\u001b[0m \u001b[1;33m=\u001b[0m \u001b[0minput\u001b[0m\u001b[1;33m(\u001b[0m\u001b[1;34m\"What's your name? \"\u001b[0m\u001b[1;33m)\u001b[0m\u001b[1;33m.\u001b[0m\u001b[0mstrip\u001b[0m\u001b[1;33m(\u001b[0m\u001b[1;33m)\u001b[0m\u001b[1;33m\u001b[0m\u001b[1;33m\u001b[0m\u001b[0m\n\u001b[0;32m      4\u001b[0m     \u001b[1;32mif\u001b[0m \u001b[1;34m\",\"\u001b[0m \u001b[1;32min\u001b[0m \u001b[0mname\u001b[0m\u001b[1;33m:\u001b[0m\u001b[1;33m\u001b[0m\u001b[1;33m\u001b[0m\u001b[0m\n\u001b[1;32m----> 5\u001b[1;33m         \u001b[0mlast\u001b[0m\u001b[1;33m,\u001b[0m\u001b[0mfirst\u001b[0m \u001b[1;33m=\u001b[0m \u001b[0mname\u001b[0m\u001b[1;33m.\u001b[0m\u001b[0msplit\u001b[0m\u001b[1;33m(\u001b[0m\u001b[1;34m\", \"\u001b[0m\u001b[1;33m)\u001b[0m\u001b[1;33m\u001b[0m\u001b[1;33m\u001b[0m\u001b[0m\n\u001b[0m\u001b[0;32m      6\u001b[0m         \u001b[0mname\u001b[0m\u001b[1;33m=\u001b[0m\u001b[1;34mf\"{first} {last}\"\u001b[0m\u001b[1;33m\u001b[0m\u001b[1;33m\u001b[0m\u001b[0m\n\u001b[0;32m      7\u001b[0m     \u001b[0mprint\u001b[0m\u001b[1;33m(\u001b[0m\u001b[1;34mf\"hello , {name}\"\u001b[0m\u001b[1;33m)\u001b[0m\u001b[1;33m\u001b[0m\u001b[1;33m\u001b[0m\u001b[0m\n",
      "\u001b[1;31mValueError\u001b[0m: not enough values to unpack (expected 2, got 1)"
     ]
    }
   ],
   "source": [
    "check_name()"
   ]
  },
  {
   "cell_type": "markdown",
   "id": "d106958b",
   "metadata": {},
   "source": [
    "error ;because does not exist space after comma"
   ]
  },
  {
   "cell_type": "code",
   "execution_count": null,
   "id": "3df111c6",
   "metadata": {},
   "outputs": [],
   "source": []
  },
  {
   "cell_type": "markdown",
   "id": "3e4995bc",
   "metadata": {},
   "source": [
    "so will import paskage re "
   ]
  },
  {
   "cell_type": "code",
   "execution_count": 20,
   "id": "51119856",
   "metadata": {},
   "outputs": [],
   "source": [
    "#import paskahes\n",
    "import re"
   ]
  },
  {
   "cell_type": "code",
   "execution_count": 34,
   "id": "9210b4b3",
   "metadata": {},
   "outputs": [],
   "source": [
    "#retrieve just name (first and last) \n",
    "def check_name():\n",
    "    name = input(\"What's your name? \").strip()\n",
    "    matches = re.search(r\"^(.+), ?(.+)$\",name)\n",
    "    \n",
    "    if matches:\n",
    "        \n",
    "        \"\"\"\n",
    "        last ,first = matches.groups()\n",
    "        name=f\"{first} {last}\"\n",
    "        \"\"\"\n",
    "        \n",
    "        name = matches.group(2) + \" \" + matches.group(1)\n",
    "        \n",
    "        \n",
    "    print(f\"Hello , {name}\")"
   ]
  },
  {
   "cell_type": "code",
   "execution_count": 28,
   "id": "03686c95",
   "metadata": {
    "scrolled": true
   },
   "outputs": [
    {
     "name": "stdout",
     "output_type": "stream",
     "text": [
      "What's your name? karam ali\n",
      "Hello , karam ali\n"
     ]
    }
   ],
   "source": [
    "check_name()"
   ]
  },
  {
   "cell_type": "code",
   "execution_count": 29,
   "id": "8c1eeb43",
   "metadata": {
    "scrolled": true
   },
   "outputs": [
    {
     "name": "stdout",
     "output_type": "stream",
     "text": [
      "What's your name? karam, ali\n",
      "Hello , ali karam\n"
     ]
    }
   ],
   "source": [
    "check_name()"
   ]
  },
  {
   "cell_type": "code",
   "execution_count": 35,
   "id": "7c131d9a",
   "metadata": {
    "scrolled": false
   },
   "outputs": [
    {
     "name": "stdout",
     "output_type": "stream",
     "text": [
      "What's your name? karam,ali\n",
      "Hello , ali karam\n"
     ]
    }
   ],
   "source": [
    "check_name()"
   ]
  },
  {
   "cell_type": "code",
   "execution_count": 36,
   "id": "4b3efb38",
   "metadata": {
    "scrolled": true
   },
   "outputs": [
    {
     "name": "stdout",
     "output_type": "stream",
     "text": [
      "What's your name? karam,     ali\n",
      "Hello ,     ali karam\n"
     ]
    }
   ],
   "source": [
    "check_name()"
   ]
  },
  {
   "cell_type": "code",
   "execution_count": null,
   "id": "75948a6e",
   "metadata": {},
   "outputs": [],
   "source": []
  },
  {
   "cell_type": "markdown",
   "id": "c7fe4aa1",
   "metadata": {},
   "source": [
    "The space between the two names has been printed\n",
    "I will solve the problem by replacing the ?\n",
    "with  *"
   ]
  },
  {
   "cell_type": "code",
   "execution_count": 37,
   "id": "bbddce5a",
   "metadata": {},
   "outputs": [],
   "source": [
    "#retrieve just name (first and last) \n",
    "def check_name():\n",
    "    name = input(\"What's your name? \").strip()\n",
    "    matches = re.search(r\"^(.+), *(.+)$\",name)\n",
    "    \n",
    "    if matches:\n",
    "        \n",
    "        \"\"\"\n",
    "        last ,first = matches.groups()\n",
    "        name=f\"{first} {last}\"\n",
    "        \"\"\"\n",
    "        \n",
    "        name = matches.group(2) + \" \" + matches.group(1)\n",
    "        \n",
    "        \n",
    "    print(f\"Hello , {name}\")"
   ]
  },
  {
   "cell_type": "code",
   "execution_count": 38,
   "id": "9da72b85",
   "metadata": {
    "scrolled": true
   },
   "outputs": [
    {
     "name": "stdout",
     "output_type": "stream",
     "text": [
      "What's your name? karam,     ali\n",
      "Hello , ali karam\n"
     ]
    }
   ],
   "source": [
    "check_name()"
   ]
  },
  {
   "cell_type": "code",
   "execution_count": null,
   "id": "91a16854",
   "metadata": {},
   "outputs": [],
   "source": []
  },
  {
   "cell_type": "code",
   "execution_count": null,
   "id": "d2e8a47a",
   "metadata": {},
   "outputs": [],
   "source": []
  },
  {
   "cell_type": "code",
   "execution_count": 39,
   "id": "7f8910a5",
   "metadata": {},
   "outputs": [],
   "source": [
    "#edit simple \n",
    "def check_name():\n",
    "    name = input(\"What's your name? \").strip()\n",
    "    if matches := re.search(r\"^(.+), *(.+)$\",name):\n",
    "        name = matches.group(2) + \" \" + matches.group(1)\n",
    "        \n",
    "    print(f\"Hello , {name}\")"
   ]
  },
  {
   "cell_type": "code",
   "execution_count": 40,
   "id": "c854de25",
   "metadata": {},
   "outputs": [
    {
     "name": "stdout",
     "output_type": "stream",
     "text": [
      "What's your name? karam , khaled\n",
      "Hello , khaled karam \n"
     ]
    }
   ],
   "source": [
    "check_name()"
   ]
  },
  {
   "cell_type": "code",
   "execution_count": null,
   "id": "260052e7",
   "metadata": {},
   "outputs": [],
   "source": []
  },
  {
   "cell_type": "code",
   "execution_count": null,
   "id": "b89625e0",
   "metadata": {},
   "outputs": [],
   "source": []
  },
  {
   "cell_type": "markdown",
   "id": "1c81ee37",
   "metadata": {},
   "source": [
    "#### Extracting from string"
   ]
  },
  {
   "cell_type": "code",
   "execution_count": 43,
   "id": "ed566219",
   "metadata": {},
   "outputs": [],
   "source": [
    "#get username tweitter from link\n",
    "#with replace  \"https://x.com/\" with \"\"\n",
    "def get_user():\n",
    "    url=input(\"URL: \").strip()\n",
    "    username=url.replace(\"https://x.com/\",\"\")\n",
    "    print(f\"username: {username}\")"
   ]
  },
  {
   "cell_type": "code",
   "execution_count": 44,
   "id": "6c7e3b7c",
   "metadata": {},
   "outputs": [
    {
     "name": "stdout",
     "output_type": "stream",
     "text": [
      "URL: https://x.com/KaramAlhanatleh\n",
      "username: KaramAlhanatleh\n"
     ]
    }
   ],
   "source": [
    "get_user()"
   ]
  },
  {
   "cell_type": "code",
   "execution_count": 45,
   "id": "fa47feb9",
   "metadata": {},
   "outputs": [
    {
     "name": "stdout",
     "output_type": "stream",
     "text": [
      "URL: http://x.com/KaramAlhanatleh\n",
      "username: http://x.com/KaramAlhanatleh\n"
     ]
    }
   ],
   "source": [
    "get_user()"
   ]
  },
  {
   "cell_type": "code",
   "execution_count": 46,
   "id": "3f27c4d8",
   "metadata": {},
   "outputs": [
    {
     "name": "stdout",
     "output_type": "stream",
     "text": [
      "URL: x.com/KaramAlhanatleh\n",
      "username: x.com/KaramAlhanatleh\n"
     ]
    }
   ],
   "source": [
    "get_user()"
   ]
  },
  {
   "cell_type": "code",
   "execution_count": null,
   "id": "3a732155",
   "metadata": {},
   "outputs": [],
   "source": []
  },
  {
   "cell_type": "markdown",
   "id": "64ed35b4",
   "metadata": {},
   "source": [
    "This is inaccurate and there are many errors so I will use re.sub()"
   ]
  },
  {
   "cell_type": "code",
   "execution_count": 49,
   "id": "4c42982e",
   "metadata": {},
   "outputs": [],
   "source": [
    "def get_user():\n",
    "    url=input(\"URL: \").strip()\n",
    "    username=re.sub(\"https://x.com/\",\"\",url)\n",
    "    print(f\"username: {username}\")"
   ]
  },
  {
   "cell_type": "code",
   "execution_count": 50,
   "id": "78a1775e",
   "metadata": {},
   "outputs": [
    {
     "name": "stdout",
     "output_type": "stream",
     "text": [
      "URL: https://x.com/KaramAlhanatleh\n",
      "username: KaramAlhanatleh\n"
     ]
    }
   ],
   "source": [
    "get_user()"
   ]
  },
  {
   "cell_type": "code",
   "execution_count": 51,
   "id": "d2da512f",
   "metadata": {},
   "outputs": [
    {
     "name": "stdout",
     "output_type": "stream",
     "text": [
      "URL: https://x?com/KaramAlhanatleh\n",
      "username: KaramAlhanatleh\n"
     ]
    }
   ],
   "source": [
    "get_user()"
   ]
  },
  {
   "cell_type": "markdown",
   "id": "4526e752",
   "metadata": {},
   "source": [
    "at . when (.com) , The point here is anything"
   ]
  },
  {
   "cell_type": "code",
   "execution_count": 52,
   "id": "f70986ba",
   "metadata": {},
   "outputs": [],
   "source": [
    "def get_user():\n",
    "    url=input(\"URL: \").strip()\n",
    "    username=re.sub(\"https://x\\.com/\",\"\",url)\n",
    "    print(f\"username: {username}\")"
   ]
  },
  {
   "cell_type": "code",
   "execution_count": 53,
   "id": "aea3d155",
   "metadata": {},
   "outputs": [
    {
     "name": "stdout",
     "output_type": "stream",
     "text": [
      "URL: https://x?com/KaramAlhanatleh\n",
      "username: https://x?com/KaramAlhanatleh\n"
     ]
    }
   ],
   "source": [
    "get_user()"
   ]
  },
  {
   "cell_type": "code",
   "execution_count": 54,
   "id": "8c90a4c7",
   "metadata": {},
   "outputs": [
    {
     "name": "stdout",
     "output_type": "stream",
     "text": [
      "URL: http://x?com/KaramAlhanatleh\n",
      "username: http://x?com/KaramAlhanatleh\n"
     ]
    }
   ],
   "source": [
    "get_user()"
   ]
  },
  {
   "cell_type": "markdown",
   "id": "65a3c9cd",
   "metadata": {},
   "source": [
    "There are problems reading protocols"
   ]
  },
  {
   "cell_type": "code",
   "execution_count": 55,
   "id": "53176b70",
   "metadata": {},
   "outputs": [],
   "source": [
    "# add ? after https s?  maybe s exist or not\n",
    "def get_user():\n",
    "    url=input(\"URL: \").strip()\n",
    "    username=re.sub(\"^https?://x\\.com/\",\"\",url)\n",
    "    print(f\"username: {username}\")"
   ]
  },
  {
   "cell_type": "code",
   "execution_count": 56,
   "id": "ed0ec139",
   "metadata": {},
   "outputs": [
    {
     "name": "stdout",
     "output_type": "stream",
     "text": [
      "URL: http://x?com/KaramAlhanatleh\n",
      "username: http://x?com/KaramAlhanatleh\n"
     ]
    }
   ],
   "source": [
    "get_user()"
   ]
  },
  {
   "cell_type": "code",
   "execution_count": null,
   "id": "3d0637de",
   "metadata": {},
   "outputs": [],
   "source": []
  }
 ],
 "metadata": {
  "kernelspec": {
   "display_name": "Python 3 (ipykernel)",
   "language": "python",
   "name": "python3"
  },
  "language_info": {
   "codemirror_mode": {
    "name": "ipython",
    "version": 3
   },
   "file_extension": ".py",
   "mimetype": "text/x-python",
   "name": "python",
   "nbconvert_exporter": "python",
   "pygments_lexer": "ipython3",
   "version": "3.9.13"
  }
 },
 "nbformat": 4,
 "nbformat_minor": 5
}
