{
 "cells": [
  {
   "cell_type": "markdown",
   "id": "3c3ad31f",
   "metadata": {},
   "source": [
    "# Text Representation Using Bag Of n-grams"
   ]
  },
  {
   "cell_type": "code",
   "execution_count": 59,
   "id": "235d4a91",
   "metadata": {},
   "outputs": [],
   "source": [
    "#import paskages\n",
    "import pandas as pd\n",
    "\n",
    "\n",
    "from sklearn.model_selection import train_test_split\n",
    "from sklearn.pipeline import Pipeline\n",
    "from sklearn.naive_bayes import MultinomialNB\n",
    "from sklearn.metrics import classification_report\n",
    "\n",
    "import spacy\n",
    "from sklearn.feature_extraction.text import CountVectorizer"
   ]
  },
  {
   "cell_type": "code",
   "execution_count": null,
   "id": "b869cc3a",
   "metadata": {},
   "outputs": [],
   "source": []
  },
  {
   "cell_type": "code",
   "execution_count": 2,
   "id": "79093116",
   "metadata": {},
   "outputs": [
    {
     "data": {
      "text/plain": [
       "{'karam': 4, 'alhanatleh': 0, 'is': 3, 'looking': 5, 'for': 1, 'house': 2}"
      ]
     },
     "execution_count": 2,
     "metadata": {},
     "output_type": "execute_result"
    }
   ],
   "source": [
    "v=CountVectorizer()\n",
    "## Fitting the vectorizer on a single text document\n",
    "v.fit(['Karam Alhanatleh is looking for a house'])\n",
    "v.vocabulary_"
   ]
  },
  {
   "cell_type": "code",
   "execution_count": 3,
   "id": "63aa0e3c",
   "metadata": {},
   "outputs": [
    {
     "data": {
      "text/plain": [
       "{'karam alhanatleh': 3,\n",
       " 'alhanatleh is': 0,\n",
       " 'is looking': 2,\n",
       " 'looking for': 4,\n",
       " 'for house': 1}"
      ]
     },
     "execution_count": 3,
     "metadata": {},
     "output_type": "execute_result"
    }
   ],
   "source": [
    "v=CountVectorizer(ngram_range=(2,2))\n",
    "v.fit(['Karam Alhanatleh is looking for a house'])\n",
    "v.vocabulary_"
   ]
  },
  {
   "cell_type": "code",
   "execution_count": 4,
   "id": "c8680b5d",
   "metadata": {},
   "outputs": [
    {
     "data": {
      "text/plain": [
       "{'karam': 7,\n",
       " 'alhanatleh': 0,\n",
       " 'is': 5,\n",
       " 'looking': 9,\n",
       " 'for': 2,\n",
       " 'house': 4,\n",
       " 'karam alhanatleh': 8,\n",
       " 'alhanatleh is': 1,\n",
       " 'is looking': 6,\n",
       " 'looking for': 10,\n",
       " 'for house': 3}"
      ]
     },
     "execution_count": 4,
     "metadata": {},
     "output_type": "execute_result"
    }
   ],
   "source": [
    "v=CountVectorizer(ngram_range=(1,2))\n",
    "v.fit(['Karam Alhanatleh is looking for a house'])\n",
    "v.vocabulary_"
   ]
  },
  {
   "cell_type": "code",
   "execution_count": null,
   "id": "64017304",
   "metadata": {},
   "outputs": [],
   "source": []
  },
  {
   "cell_type": "code",
   "execution_count": 5,
   "id": "2b15cc75",
   "metadata": {},
   "outputs": [],
   "source": [
    "#######################"
   ]
  },
  {
   "cell_type": "code",
   "execution_count": 6,
   "id": "a92ea1cf",
   "metadata": {},
   "outputs": [],
   "source": [
    "nlp=spacy.load(\"en_core_web_sm\")"
   ]
  },
  {
   "cell_type": "code",
   "execution_count": 7,
   "id": "ff7c6551",
   "metadata": {},
   "outputs": [],
   "source": [
    "def preprocess(text):\n",
    "    doc=nlp(text)\n",
    "    \n",
    "    filter_tokens=[]\n",
    "    \n",
    "    for token in doc:\n",
    "        if token.is_stop or token.is_punct:\n",
    "            continue\n",
    "        filter_tokens.append(token.lemma_)\n",
    "    return \" \".join(filter_tokens)"
   ]
  },
  {
   "cell_type": "code",
   "execution_count": 8,
   "id": "7a0f52bc",
   "metadata": {},
   "outputs": [
    {
     "data": {
      "text/plain": [
       "'Karam Alhanatleh look house'"
      ]
     },
     "execution_count": 8,
     "metadata": {},
     "output_type": "execute_result"
    }
   ],
   "source": [
    "preprocess(\"Karam Alhanatleh is looking for a house\")"
   ]
  },
  {
   "cell_type": "code",
   "execution_count": 9,
   "id": "f47ff67e",
   "metadata": {},
   "outputs": [
    {
     "data": {
      "text/plain": [
       "'Karam eat Pizza'"
      ]
     },
     "execution_count": 9,
     "metadata": {},
     "output_type": "execute_result"
    }
   ],
   "source": [
    "preprocess(\"Karam is eating Pizza\")"
   ]
  },
  {
   "cell_type": "code",
   "execution_count": null,
   "id": "ec3e5e71",
   "metadata": {},
   "outputs": [],
   "source": []
  },
  {
   "cell_type": "code",
   "execution_count": 10,
   "id": "779ee33c",
   "metadata": {},
   "outputs": [],
   "source": [
    "corpus = [\n",
    "    \"Thor ate pizza\",\n",
    "    \"Loki is tall\",\n",
    "    \"Loki is eating pizza\"\n",
    "]"
   ]
  },
  {
   "cell_type": "code",
   "execution_count": null,
   "id": "55a5a83d",
   "metadata": {},
   "outputs": [],
   "source": []
  },
  {
   "cell_type": "code",
   "execution_count": 11,
   "id": "54df4841",
   "metadata": {},
   "outputs": [],
   "source": [
    "corpus_processed = [ preprocess(text) for text in corpus]"
   ]
  },
  {
   "cell_type": "code",
   "execution_count": 12,
   "id": "f9cd7660",
   "metadata": {},
   "outputs": [
    {
     "data": {
      "text/plain": [
       "['thor eat pizza', 'Loki tall', 'Loki eat pizza']"
      ]
     },
     "execution_count": 12,
     "metadata": {},
     "output_type": "execute_result"
    }
   ],
   "source": [
    "corpus_processed"
   ]
  },
  {
   "cell_type": "code",
   "execution_count": null,
   "id": "6dd5a256",
   "metadata": {},
   "outputs": [],
   "source": []
  },
  {
   "cell_type": "code",
   "execution_count": 13,
   "id": "e5b0b39e",
   "metadata": {},
   "outputs": [
    {
     "data": {
      "text/plain": [
       "{'thor': 7,\n",
       " 'eat': 0,\n",
       " 'pizza': 5,\n",
       " 'thor eat': 8,\n",
       " 'eat pizza': 1,\n",
       " 'loki': 2,\n",
       " 'tall': 6,\n",
       " 'loki tall': 4,\n",
       " 'loki eat': 3}"
      ]
     },
     "execution_count": 13,
     "metadata": {},
     "output_type": "execute_result"
    }
   ],
   "source": [
    "count_Vector= CountVectorizer(ngram_range=(1,2))\n",
    "count_Vector.fit(corpus_processed)\n",
    "count_Vector.vocabulary_"
   ]
  },
  {
   "cell_type": "code",
   "execution_count": null,
   "id": "499d2b36",
   "metadata": {},
   "outputs": [],
   "source": []
  },
  {
   "cell_type": "code",
   "execution_count": 14,
   "id": "7daee363",
   "metadata": {},
   "outputs": [
    {
     "data": {
      "text/plain": [
       "array([[1, 1, 0, 0, 0, 1, 0, 1, 1]], dtype=int64)"
      ]
     },
     "execution_count": 14,
     "metadata": {},
     "output_type": "execute_result"
    }
   ],
   "source": [
    "count_Vector.transform(['Thor eat pizza']).toarray()"
   ]
  },
  {
   "cell_type": "code",
   "execution_count": 15,
   "id": "3cfe9650",
   "metadata": {},
   "outputs": [
    {
     "data": {
      "text/plain": [
       "array([[1, 1, 0, 0, 0, 1, 0, 0, 0]], dtype=int64)"
      ]
     },
     "execution_count": 15,
     "metadata": {},
     "output_type": "execute_result"
    }
   ],
   "source": [
    "count_Vector.transform(['Hulk eat pizza']).toarray()"
   ]
  },
  {
   "cell_type": "code",
   "execution_count": null,
   "id": "12edb37f",
   "metadata": {},
   "outputs": [],
   "source": []
  },
  {
   "cell_type": "code",
   "execution_count": null,
   "id": "fbd41710",
   "metadata": {},
   "outputs": [],
   "source": []
  },
  {
   "cell_type": "code",
   "execution_count": 17,
   "id": "024e7a6d",
   "metadata": {},
   "outputs": [],
   "source": [
    "######################################"
   ]
  },
  {
   "cell_type": "markdown",
   "id": "afdd2a5d",
   "metadata": {},
   "source": [
    "### Load Dataset New Category Classifier >>  json"
   ]
  },
  {
   "cell_type": "code",
   "execution_count": 21,
   "id": "aacbec0c",
   "metadata": {},
   "outputs": [
    {
     "name": "stdout",
     "output_type": "stream",
     "text": [
      "(12695, 2)\n"
     ]
    }
   ],
   "source": [
    "df = pd.read_json(\"data/news_dataset.json\")\n",
    "#print shape dataset\n",
    "print(df.shape)"
   ]
  },
  {
   "cell_type": "code",
   "execution_count": 23,
   "id": "504d4ba9",
   "metadata": {},
   "outputs": [
    {
     "data": {
      "text/html": [
       "<div>\n",
       "<style scoped>\n",
       "    .dataframe tbody tr th:only-of-type {\n",
       "        vertical-align: middle;\n",
       "    }\n",
       "\n",
       "    .dataframe tbody tr th {\n",
       "        vertical-align: top;\n",
       "    }\n",
       "\n",
       "    .dataframe thead th {\n",
       "        text-align: right;\n",
       "    }\n",
       "</style>\n",
       "<table border=\"1\" class=\"dataframe\">\n",
       "  <thead>\n",
       "    <tr style=\"text-align: right;\">\n",
       "      <th></th>\n",
       "      <th>text</th>\n",
       "      <th>category</th>\n",
       "    </tr>\n",
       "  </thead>\n",
       "  <tbody>\n",
       "    <tr>\n",
       "      <th>0</th>\n",
       "      <td>Watching Schrödinger's Cat Die University of C...</td>\n",
       "      <td>SCIENCE</td>\n",
       "    </tr>\n",
       "    <tr>\n",
       "      <th>1</th>\n",
       "      <td>WATCH: Freaky Vortex Opens Up In Flooded Lake</td>\n",
       "      <td>SCIENCE</td>\n",
       "    </tr>\n",
       "    <tr>\n",
       "      <th>2</th>\n",
       "      <td>Entrepreneurs Today Don't Need a Big Budget to...</td>\n",
       "      <td>BUSINESS</td>\n",
       "    </tr>\n",
       "    <tr>\n",
       "      <th>3</th>\n",
       "      <td>These Roads Could Recharge Your Electric Car A...</td>\n",
       "      <td>BUSINESS</td>\n",
       "    </tr>\n",
       "    <tr>\n",
       "      <th>4</th>\n",
       "      <td>Civilian 'Guard' Fires Gun While 'Protecting' ...</td>\n",
       "      <td>CRIME</td>\n",
       "    </tr>\n",
       "  </tbody>\n",
       "</table>\n",
       "</div>"
      ],
      "text/plain": [
       "                                                text  category\n",
       "0  Watching Schrödinger's Cat Die University of C...   SCIENCE\n",
       "1     WATCH: Freaky Vortex Opens Up In Flooded Lake    SCIENCE\n",
       "2  Entrepreneurs Today Don't Need a Big Budget to...  BUSINESS\n",
       "3  These Roads Could Recharge Your Electric Car A...  BUSINESS\n",
       "4  Civilian 'Guard' Fires Gun While 'Protecting' ...     CRIME"
      ]
     },
     "execution_count": 23,
     "metadata": {},
     "output_type": "execute_result"
    }
   ],
   "source": [
    "#print head data \n",
    "df.head()"
   ]
  },
  {
   "cell_type": "code",
   "execution_count": null,
   "id": "80cc01ba",
   "metadata": {},
   "outputs": [],
   "source": []
  },
  {
   "cell_type": "code",
   "execution_count": 27,
   "id": "43cf66d6",
   "metadata": {},
   "outputs": [
    {
     "data": {
      "text/plain": [
       "BUSINESS    4254\n",
       "SPORTS      4167\n",
       "CRIME       2893\n",
       "SCIENCE     1381\n",
       "Name: category, dtype: int64"
      ]
     },
     "execution_count": 27,
     "metadata": {},
     "output_type": "execute_result"
    }
   ],
   "source": [
    "df.category.value_counts()"
   ]
  },
  {
   "cell_type": "code",
   "execution_count": null,
   "id": "5ebb4672",
   "metadata": {},
   "outputs": [],
   "source": []
  },
  {
   "cell_type": "code",
   "execution_count": 25,
   "id": "9db70f48",
   "metadata": {},
   "outputs": [],
   "source": [
    "#will use undersampling to solve problem imbalanced"
   ]
  },
  {
   "cell_type": "code",
   "execution_count": 29,
   "id": "bd073935",
   "metadata": {},
   "outputs": [
    {
     "data": {
      "text/plain": [
       "1381"
      ]
     },
     "execution_count": 29,
     "metadata": {},
     "output_type": "execute_result"
    }
   ],
   "source": [
    "min_sample=df.category.value_counts().min()\n",
    "min_sample"
   ]
  },
  {
   "cell_type": "code",
   "execution_count": 35,
   "id": "4c982257",
   "metadata": {},
   "outputs": [],
   "source": [
    "df_sport= df[df.category=='SPORTS'].sample(min_sample , random_state=2001)\n",
    "df_business= df[df.category=='BUSINESS'].sample(min_sample , random_state=2001)\n",
    "df_crime= df[df.category=='CRIME'].sample(min_sample , random_state=2001)\n",
    "df_science= df[df.category=='SCIENCE'].sample(min_sample , random_state=2001)"
   ]
  },
  {
   "cell_type": "code",
   "execution_count": null,
   "id": "95c18220",
   "metadata": {},
   "outputs": [],
   "source": []
  },
  {
   "cell_type": "code",
   "execution_count": 36,
   "id": "e6cfc32d",
   "metadata": {},
   "outputs": [],
   "source": [
    "df_new_balance=pd.concat([df_business ,df_sport,df_crime , df_science] , axis=0)"
   ]
  },
  {
   "cell_type": "code",
   "execution_count": 41,
   "id": "c290fec1",
   "metadata": {},
   "outputs": [
    {
     "data": {
      "text/plain": [
       "(5524, 2)"
      ]
     },
     "execution_count": 41,
     "metadata": {},
     "output_type": "execute_result"
    }
   ],
   "source": [
    "df_new_balance.shape"
   ]
  },
  {
   "cell_type": "code",
   "execution_count": 39,
   "id": "65d43952",
   "metadata": {},
   "outputs": [
    {
     "data": {
      "text/html": [
       "<div>\n",
       "<style scoped>\n",
       "    .dataframe tbody tr th:only-of-type {\n",
       "        vertical-align: middle;\n",
       "    }\n",
       "\n",
       "    .dataframe tbody tr th {\n",
       "        vertical-align: top;\n",
       "    }\n",
       "\n",
       "    .dataframe thead th {\n",
       "        text-align: right;\n",
       "    }\n",
       "</style>\n",
       "<table border=\"1\" class=\"dataframe\">\n",
       "  <thead>\n",
       "    <tr style=\"text-align: right;\">\n",
       "      <th></th>\n",
       "      <th>text</th>\n",
       "      <th>category</th>\n",
       "    </tr>\n",
       "  </thead>\n",
       "  <tbody>\n",
       "    <tr>\n",
       "      <th>5611</th>\n",
       "      <td>The 50 Best Quotes From The 2015 Cannes Lions ...</td>\n",
       "      <td>BUSINESS</td>\n",
       "    </tr>\n",
       "    <tr>\n",
       "      <th>9323</th>\n",
       "      <td>Young and Entrepreneurial: How College Entrepr...</td>\n",
       "      <td>BUSINESS</td>\n",
       "    </tr>\n",
       "    <tr>\n",
       "      <th>11355</th>\n",
       "      <td>Macy's Announces Thousands Of Job Cuts The ret...</td>\n",
       "      <td>BUSINESS</td>\n",
       "    </tr>\n",
       "    <tr>\n",
       "      <th>6092</th>\n",
       "      <td>Women in Business Q&amp;A: Christine Wheeler, Foun...</td>\n",
       "      <td>BUSINESS</td>\n",
       "    </tr>\n",
       "    <tr>\n",
       "      <th>10188</th>\n",
       "      <td>What Does the iPhone SE Mean for Mobile Advert...</td>\n",
       "      <td>BUSINESS</td>\n",
       "    </tr>\n",
       "    <tr>\n",
       "      <th>...</th>\n",
       "      <td>...</td>\n",
       "      <td>...</td>\n",
       "    </tr>\n",
       "    <tr>\n",
       "      <th>7113</th>\n",
       "      <td>The Fastest Way To Chill Your Beer Happy drink...</td>\n",
       "      <td>SCIENCE</td>\n",
       "    </tr>\n",
       "    <tr>\n",
       "      <th>9022</th>\n",
       "      <td>8 Fascinating Things We Learned About The Mind...</td>\n",
       "      <td>SCIENCE</td>\n",
       "    </tr>\n",
       "    <tr>\n",
       "      <th>6473</th>\n",
       "      <td>New Study Examining Kids' Alcohol Consumption ...</td>\n",
       "      <td>SCIENCE</td>\n",
       "    </tr>\n",
       "    <tr>\n",
       "      <th>115</th>\n",
       "      <td>Ancient Earth's 'Face-Lift' Detailed In New Mo...</td>\n",
       "      <td>SCIENCE</td>\n",
       "    </tr>\n",
       "    <tr>\n",
       "      <th>3472</th>\n",
       "      <td>Working Out 4 Hours After Studying May Help Yo...</td>\n",
       "      <td>SCIENCE</td>\n",
       "    </tr>\n",
       "  </tbody>\n",
       "</table>\n",
       "<p>5524 rows × 2 columns</p>\n",
       "</div>"
      ],
      "text/plain": [
       "                                                    text  category\n",
       "5611   The 50 Best Quotes From The 2015 Cannes Lions ...  BUSINESS\n",
       "9323   Young and Entrepreneurial: How College Entrepr...  BUSINESS\n",
       "11355  Macy's Announces Thousands Of Job Cuts The ret...  BUSINESS\n",
       "6092   Women in Business Q&A: Christine Wheeler, Foun...  BUSINESS\n",
       "10188  What Does the iPhone SE Mean for Mobile Advert...  BUSINESS\n",
       "...                                                  ...       ...\n",
       "7113   The Fastest Way To Chill Your Beer Happy drink...   SCIENCE\n",
       "9022   8 Fascinating Things We Learned About The Mind...   SCIENCE\n",
       "6473   New Study Examining Kids' Alcohol Consumption ...   SCIENCE\n",
       "115    Ancient Earth's 'Face-Lift' Detailed In New Mo...   SCIENCE\n",
       "3472   Working Out 4 Hours After Studying May Help Yo...   SCIENCE\n",
       "\n",
       "[5524 rows x 2 columns]"
      ]
     },
     "execution_count": 39,
     "metadata": {},
     "output_type": "execute_result"
    }
   ],
   "source": [
    "df_new_balance"
   ]
  },
  {
   "cell_type": "code",
   "execution_count": 42,
   "id": "cde78fb6",
   "metadata": {},
   "outputs": [],
   "source": [
    "df_new_balance=df_new_balance.sample(df_new_balance.shape[0])"
   ]
  },
  {
   "cell_type": "code",
   "execution_count": 43,
   "id": "fa11c31b",
   "metadata": {},
   "outputs": [
    {
     "data": {
      "text/html": [
       "<div>\n",
       "<style scoped>\n",
       "    .dataframe tbody tr th:only-of-type {\n",
       "        vertical-align: middle;\n",
       "    }\n",
       "\n",
       "    .dataframe tbody tr th {\n",
       "        vertical-align: top;\n",
       "    }\n",
       "\n",
       "    .dataframe thead th {\n",
       "        text-align: right;\n",
       "    }\n",
       "</style>\n",
       "<table border=\"1\" class=\"dataframe\">\n",
       "  <thead>\n",
       "    <tr style=\"text-align: right;\">\n",
       "      <th></th>\n",
       "      <th>text</th>\n",
       "      <th>category</th>\n",
       "    </tr>\n",
       "  </thead>\n",
       "  <tbody>\n",
       "    <tr>\n",
       "      <th>741</th>\n",
       "      <td>It's Time to Declare Your Personal Independenc...</td>\n",
       "      <td>BUSINESS</td>\n",
       "    </tr>\n",
       "    <tr>\n",
       "      <th>2337</th>\n",
       "      <td>11 Essentials You Need To Host The Perfect Tai...</td>\n",
       "      <td>SPORTS</td>\n",
       "    </tr>\n",
       "    <tr>\n",
       "      <th>5614</th>\n",
       "      <td>NYPD Union Leader Lashes Out At Mayor Again</td>\n",
       "      <td>CRIME</td>\n",
       "    </tr>\n",
       "    <tr>\n",
       "      <th>12127</th>\n",
       "      <td>Former Gymnastics Coach Tells Larry Nassar To ...</td>\n",
       "      <td>SPORTS</td>\n",
       "    </tr>\n",
       "    <tr>\n",
       "      <th>1453</th>\n",
       "      <td>LeBron Reaches Out To Sick Teen: 'Together We ...</td>\n",
       "      <td>SPORTS</td>\n",
       "    </tr>\n",
       "    <tr>\n",
       "      <th>...</th>\n",
       "      <td>...</td>\n",
       "      <td>...</td>\n",
       "    </tr>\n",
       "    <tr>\n",
       "      <th>12322</th>\n",
       "      <td>4 Technology Trends for Small Business While s...</td>\n",
       "      <td>BUSINESS</td>\n",
       "    </tr>\n",
       "    <tr>\n",
       "      <th>8408</th>\n",
       "      <td>Simone Biles Isn't The Next Anyone, She's 'The...</td>\n",
       "      <td>SPORTS</td>\n",
       "    </tr>\n",
       "    <tr>\n",
       "      <th>12487</th>\n",
       "      <td>The Reconnection Agenda: The Fun and Easy Rout...</td>\n",
       "      <td>BUSINESS</td>\n",
       "    </tr>\n",
       "    <tr>\n",
       "      <th>8463</th>\n",
       "      <td>Tomb Of Lost Egyptian Queen Discovered</td>\n",
       "      <td>SCIENCE</td>\n",
       "    </tr>\n",
       "    <tr>\n",
       "      <th>11549</th>\n",
       "      <td>SeaWorld Doesn't Seem To Understand Its Busine...</td>\n",
       "      <td>SCIENCE</td>\n",
       "    </tr>\n",
       "  </tbody>\n",
       "</table>\n",
       "<p>5524 rows × 2 columns</p>\n",
       "</div>"
      ],
      "text/plain": [
       "                                                    text  category\n",
       "741    It's Time to Declare Your Personal Independenc...  BUSINESS\n",
       "2337   11 Essentials You Need To Host The Perfect Tai...    SPORTS\n",
       "5614        NYPD Union Leader Lashes Out At Mayor Again      CRIME\n",
       "12127  Former Gymnastics Coach Tells Larry Nassar To ...    SPORTS\n",
       "1453   LeBron Reaches Out To Sick Teen: 'Together We ...    SPORTS\n",
       "...                                                  ...       ...\n",
       "12322  4 Technology Trends for Small Business While s...  BUSINESS\n",
       "8408   Simone Biles Isn't The Next Anyone, She's 'The...    SPORTS\n",
       "12487  The Reconnection Agenda: The Fun and Easy Rout...  BUSINESS\n",
       "8463             Tomb Of Lost Egyptian Queen Discovered    SCIENCE\n",
       "11549  SeaWorld Doesn't Seem To Understand Its Busine...   SCIENCE\n",
       "\n",
       "[5524 rows x 2 columns]"
      ]
     },
     "execution_count": 43,
     "metadata": {},
     "output_type": "execute_result"
    }
   ],
   "source": [
    "df_new_balance"
   ]
  },
  {
   "cell_type": "code",
   "execution_count": null,
   "id": "91c571f6",
   "metadata": {},
   "outputs": [],
   "source": []
  },
  {
   "cell_type": "code",
   "execution_count": 48,
   "id": "ea2a7f42",
   "metadata": {},
   "outputs": [],
   "source": [
    "#encoding target\n",
    "target = {'BUSINESS': 0, 'SPORTS': 1, 'CRIME': 2, 'SCIENCE': 3}\n",
    "\n",
    "df_new_balance['category_num']= df_new_balance['category'].map(target)"
   ]
  },
  {
   "cell_type": "code",
   "execution_count": null,
   "id": "0b7646fc",
   "metadata": {},
   "outputs": [],
   "source": []
  },
  {
   "cell_type": "markdown",
   "id": "8eedb70b",
   "metadata": {},
   "source": [
    "##### Split data into train and test "
   ]
  },
  {
   "cell_type": "code",
   "execution_count": 52,
   "id": "70577ac2",
   "metadata": {},
   "outputs": [],
   "source": [
    "X_train , X_test , y_train , y_test= train_test_split(df_new_balance.text , \n",
    "                                                      df_new_balance.category_num , \n",
    "                                                     test_size=0.2\n",
    "                                                      , random_state=2001 ,\n",
    "                                                     stratify=df_new_balance.category_num)"
   ]
  },
  {
   "cell_type": "code",
   "execution_count": 53,
   "id": "81d701ad",
   "metadata": {},
   "outputs": [
    {
     "name": "stdout",
     "output_type": "stream",
     "text": [
      "(4419,)\n"
     ]
    }
   ],
   "source": [
    "print(X_train.shape)"
   ]
  },
  {
   "cell_type": "code",
   "execution_count": 57,
   "id": "8d2a0e7e",
   "metadata": {},
   "outputs": [
    {
     "name": "stdout",
     "output_type": "stream",
     "text": [
      "2    1105\n",
      "1    1105\n",
      "3    1105\n",
      "0    1104\n",
      "Name: category_num, dtype: int64\n"
     ]
    }
   ],
   "source": [
    "print(y_train.value_counts())"
   ]
  },
  {
   "cell_type": "code",
   "execution_count": 58,
   "id": "9a07b9c2",
   "metadata": {},
   "outputs": [
    {
     "name": "stdout",
     "output_type": "stream",
     "text": [
      "0    277\n",
      "3    276\n",
      "1    276\n",
      "2    276\n",
      "Name: category_num, dtype: int64\n"
     ]
    }
   ],
   "source": [
    "print(y_test.value_counts())"
   ]
  },
  {
   "cell_type": "code",
   "execution_count": null,
   "id": "08c83d56",
   "metadata": {},
   "outputs": [],
   "source": []
  },
  {
   "cell_type": "markdown",
   "id": "9cc9f09a",
   "metadata": {},
   "source": [
    "### Will use Pipline "
   ]
  },
  {
   "cell_type": "code",
   "execution_count": 61,
   "id": "0661182e",
   "metadata": {},
   "outputs": [],
   "source": [
    "pipline_model= Pipeline([\n",
    "    (\"count_vector\",CountVectorizer()),\n",
    "    (\"Multinomial\",MultinomialNB())\n",
    "])"
   ]
  },
  {
   "cell_type": "code",
   "execution_count": 62,
   "id": "f154e9c1",
   "metadata": {},
   "outputs": [
    {
     "data": {
      "text/plain": [
       "Pipeline(steps=[('count_vector', CountVectorizer()),\n",
       "                ('Multinomial', MultinomialNB())])"
      ]
     },
     "execution_count": 62,
     "metadata": {},
     "output_type": "execute_result"
    }
   ],
   "source": [
    "pipline_model.fit(X_train ,y_train)"
   ]
  },
  {
   "cell_type": "code",
   "execution_count": 63,
   "id": "07bf89e7",
   "metadata": {},
   "outputs": [
    {
     "data": {
      "text/plain": [
       "array([3, 2, 0, ..., 0, 3, 2], dtype=int64)"
      ]
     },
     "execution_count": 63,
     "metadata": {},
     "output_type": "execute_result"
    }
   ],
   "source": [
    "y_pred=pipline_model.predict(X_test)\n",
    "y_pred"
   ]
  },
  {
   "cell_type": "code",
   "execution_count": 65,
   "id": "701eb120",
   "metadata": {},
   "outputs": [
    {
     "name": "stdout",
     "output_type": "stream",
     "text": [
      "              precision    recall  f1-score   support\n",
      "\n",
      "           0       0.80      0.91      0.85       277\n",
      "           1       0.91      0.82      0.86       276\n",
      "           2       0.87      0.91      0.89       276\n",
      "           3       0.92      0.84      0.88       276\n",
      "\n",
      "    accuracy                           0.87      1105\n",
      "   macro avg       0.88      0.87      0.87      1105\n",
      "weighted avg       0.88      0.87      0.87      1105\n",
      "\n"
     ]
    }
   ],
   "source": [
    "#print classificatopn report\n",
    "print(classification_report(y_test , y_pred))"
   ]
  },
  {
   "cell_type": "code",
   "execution_count": null,
   "id": "1b76ed1c",
   "metadata": {},
   "outputs": [],
   "source": []
  }
 ],
 "metadata": {
  "kernelspec": {
   "display_name": "Python 3 (ipykernel)",
   "language": "python",
   "name": "python3"
  },
  "language_info": {
   "codemirror_mode": {
    "name": "ipython",
    "version": 3
   },
   "file_extension": ".py",
   "mimetype": "text/x-python",
   "name": "python",
   "nbconvert_exporter": "python",
   "pygments_lexer": "ipython3",
   "version": "3.9.13"
  }
 },
 "nbformat": 4,
 "nbformat_minor": 5
}
