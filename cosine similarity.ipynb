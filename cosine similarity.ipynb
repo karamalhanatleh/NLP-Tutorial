{
 "cells": [
  {
   "cell_type": "markdown",
   "id": "92d3e8f7",
   "metadata": {},
   "source": [
    "# cosine similarity"
   ]
  },
  {
   "cell_type": "markdown",
   "id": "33958fc5",
   "metadata": {},
   "source": [
    "CountVectorizer to convert the text documents into vectors  "
   ]
  },
  {
   "cell_type": "markdown",
   "id": "ec2c1042",
   "metadata": {},
   "source": [
    "and then we calculate the cosine similarity between the two vectors using the cosine_similarity function. The result will be a value between 0 and 1, where 0 means no similarity, and 1 means identical documents."
   ]
  },
  {
   "cell_type": "code",
   "execution_count": 14,
   "id": "e3f19a3a",
   "metadata": {},
   "outputs": [],
   "source": [
    "#import paskages\n",
    "from sklearn.metrics.pairwise import cosine_similarity\n",
    "from sklearn.feature_extraction.text import CountVectorizer"
   ]
  },
  {
   "cell_type": "code",
   "execution_count": null,
   "id": "d80f4ca0",
   "metadata": {},
   "outputs": [],
   "source": []
  },
  {
   "cell_type": "code",
   "execution_count": 63,
   "id": "7638c958",
   "metadata": {},
   "outputs": [],
   "source": [
    "#simple text\n",
    "text_1 = \"I like python programming\"\n",
    "text_2 = \"python is a powerful programming tool\""
   ]
  },
  {
   "cell_type": "code",
   "execution_count": 64,
   "id": "24908bb8",
   "metadata": {},
   "outputs": [],
   "source": [
    "#CountVectorizer to convert the texts into vectors\n",
    "vector=CountVectorizer()"
   ]
  },
  {
   "cell_type": "code",
   "execution_count": 65,
   "id": "37d24f1d",
   "metadata": {},
   "outputs": [
    {
     "data": {
      "text/plain": [
       "CountVectorizer()"
      ]
     },
     "execution_count": 65,
     "metadata": {},
     "output_type": "execute_result"
    }
   ],
   "source": [
    "vector.fit([text_1 , text_2])"
   ]
  },
  {
   "cell_type": "code",
   "execution_count": null,
   "id": "edaf7309",
   "metadata": {},
   "outputs": [],
   "source": []
  },
  {
   "cell_type": "markdown",
   "id": "06d4ba07",
   "metadata": {},
   "source": [
    "###### Transform the texts into vectors\n"
   ]
  },
  {
   "cell_type": "code",
   "execution_count": 66,
   "id": "2e0f2125",
   "metadata": {},
   "outputs": [
    {
     "data": {
      "text/plain": [
       "array([[0, 1, 0, 1, 1, 0]], dtype=int64)"
      ]
     },
     "execution_count": 66,
     "metadata": {},
     "output_type": "execute_result"
    }
   ],
   "source": [
    "vector1= vector.transform([text_1]).toarray()\n",
    "vector1"
   ]
  },
  {
   "cell_type": "code",
   "execution_count": 67,
   "id": "f6424b53",
   "metadata": {},
   "outputs": [
    {
     "data": {
      "text/plain": [
       "array([[1, 0, 1, 1, 1, 1]], dtype=int64)"
      ]
     },
     "execution_count": 67,
     "metadata": {},
     "output_type": "execute_result"
    }
   ],
   "source": [
    "vector2 = vector.transform([text_2]).toarray()\n",
    "vector2"
   ]
  },
  {
   "cell_type": "code",
   "execution_count": null,
   "id": "a06cf40d",
   "metadata": {},
   "outputs": [],
   "source": []
  },
  {
   "cell_type": "code",
   "execution_count": 68,
   "id": "6528be76",
   "metadata": {},
   "outputs": [
    {
     "name": "stdout",
     "output_type": "stream",
     "text": [
      "Cosine Similarity: 0.5163977794943223\n"
     ]
    }
   ],
   "source": [
    "# Calculate cosine similarity\n",
    "cosin_similarity =cosine_similarity(vector1 , vector2)\n",
    "print(f\"Cosine Similarity: {cosin_similarity[0][0]}\")\n"
   ]
  },
  {
   "cell_type": "code",
   "execution_count": null,
   "id": "9160a8b3",
   "metadata": {},
   "outputs": [],
   "source": []
  },
  {
   "cell_type": "code",
   "execution_count": null,
   "id": "69200ebe",
   "metadata": {},
   "outputs": [],
   "source": []
  },
  {
   "cell_type": "code",
   "execution_count": null,
   "id": "725c0762",
   "metadata": {},
   "outputs": [],
   "source": []
  },
  {
   "cell_type": "code",
   "execution_count": null,
   "id": "59d756e6",
   "metadata": {},
   "outputs": [],
   "source": []
  },
  {
   "cell_type": "code",
   "execution_count": null,
   "id": "e0a97d19",
   "metadata": {},
   "outputs": [],
   "source": []
  },
  {
   "cell_type": "code",
   "execution_count": null,
   "id": "7e27f672",
   "metadata": {},
   "outputs": [],
   "source": []
  },
  {
   "cell_type": "code",
   "execution_count": null,
   "id": "d5f69824",
   "metadata": {},
   "outputs": [],
   "source": []
  },
  {
   "cell_type": "code",
   "execution_count": null,
   "id": "f735601b",
   "metadata": {},
   "outputs": [],
   "source": []
  },
  {
   "cell_type": "code",
   "execution_count": null,
   "id": "b24ec7df",
   "metadata": {},
   "outputs": [],
   "source": []
  },
  {
   "cell_type": "code",
   "execution_count": null,
   "id": "8a36caa2",
   "metadata": {},
   "outputs": [],
   "source": []
  },
  {
   "cell_type": "code",
   "execution_count": null,
   "id": "93109665",
   "metadata": {},
   "outputs": [],
   "source": []
  }
 ],
 "metadata": {
  "kernelspec": {
   "display_name": "Python 3 (ipykernel)",
   "language": "python",
   "name": "python3"
  },
  "language_info": {
   "codemirror_mode": {
    "name": "ipython",
    "version": 3
   },
   "file_extension": ".py",
   "mimetype": "text/x-python",
   "name": "python",
   "nbconvert_exporter": "python",
   "pygments_lexer": "ipython3",
   "version": "3.9.13"
  }
 },
 "nbformat": 4,
 "nbformat_minor": 5
}
